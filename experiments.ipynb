{
 "cells": [
  {
   "cell_type": "code",
   "execution_count": 3,
   "metadata": {},
   "outputs": [],
   "source": [
    "from bs4 import BeautifulSoup as bs\n",
    "import requests"
   ]
  },
  {
   "cell_type": "code",
   "execution_count": 4,
   "metadata": {},
   "outputs": [
    {
     "name": "stdout",
     "output_type": "stream",
     "text": [
      "Challengers\n",
      "The Fall Guy\n",
      "Civil War\n",
      "Un p'tit truc en plus\n",
      "Comme un lundi\n",
      "Jusqu’au bout du monde\n",
      "Le mal n'existe pas\n",
      "Borgo\n",
      "Border Line\n",
      "L'Idée d'être avec toi\n",
      "Monkey Man\n",
      "État limite\n",
      "Une affaire de principe\n",
      "Le Tableau volé\n",
      "Nous, les Leroy\n",
      "Back to Black\n",
      "Frères\n",
      "Unfrosted - L'épopée de la Pop-Tart\n",
      "LaRoy\n",
      "L'Homme aux mille visages\n",
      "Rebel Moon : Partie 2 - L'Entailleuse\n",
      "Sky Dome 2123\n",
      "La Planète des singes - Le Nouveau Royaume\n",
      "S.O.S. Fantômes - La Menace de glace\n",
      "Riddle of Fire\n",
      "L'Esprit Coubertin\n",
      "Nicky Larson\n",
      "Petites mains\n",
      "Les Cartes du mal\n",
      "Première affaire\n"
     ]
    }
   ],
   "source": [
    "url = \"https://www.senscritique.com/films/toujours-a-l-affiche\"\n",
    "request = requests.get(url)\n",
    "soup = bs(request.text, \"html.parser\")\n",
    "\n",
    "# print(soup.prettify())\n",
    "\n",
    "films_names = soup.find_all(\"a\", {\"class\": \"sc-e6f263fc-0 sc-df6b780a-1 cTWuvs lbhoSA\"})\n",
    "\n",
    "for film in films_names:\n",
    "    print(film.text)"
   ]
  },
  {
   "cell_type": "code",
   "execution_count": 5,
   "metadata": {},
   "outputs": [
    {
     "name": "stdout",
     "output_type": "stream",
     "text": [
      "6.7\n",
      "6.4\n",
      "7.1\n",
      "6.8\n",
      "7\n",
      "6.4\n",
      "7\n",
      "7\n",
      "6.8\n",
      "5.4\n",
      "6.5\n",
      "7.6\n",
      "6.6\n",
      "6.1\n",
      "6.6\n",
      "5.7\n",
      "6.4\n",
      "4.4\n",
      "6.7\n",
      "6.8\n",
      "4\n",
      "6.3\n",
      "6.8\n",
      "5.3\n",
      "6.9\n",
      "5.7\n",
      "6.1\n",
      "6.4\n",
      "4\n",
      "5.4\n"
     ]
    }
   ],
   "source": [
    "ratings = soup.find_all(\"div\", {\"class\": \"sc-8251ce8c-5 fTXQip\"})\n",
    "for rating in ratings:\n",
    "    print(rating.text)"
   ]
  },
  {
   "cell_type": "code",
   "execution_count": 6,
   "metadata": {},
   "outputs": [
    {
     "data": {
      "text/plain": [
       "{'Challengers': '6.7',\n",
       " 'The Fall Guy': '6.4',\n",
       " 'Civil War': '7.1',\n",
       " \"Un p'tit truc en plus\": '6.8',\n",
       " 'Comme un lundi': '7',\n",
       " 'Jusqu’au bout du monde': '6.4',\n",
       " \"Le mal n'existe pas\": '7',\n",
       " 'Borgo': '7',\n",
       " 'Border Line': '6.8',\n",
       " \"L'Idée d'être avec toi\": '5.4',\n",
       " 'Monkey Man': '6.5',\n",
       " 'État limite': '7.6',\n",
       " 'Une affaire de principe': '6.6',\n",
       " 'Le Tableau volé': '6.1',\n",
       " 'Nous, les Leroy': '6.6',\n",
       " 'Back to Black': '5.7',\n",
       " 'Frères': '6.4',\n",
       " \"Unfrosted - L'épopée de la Pop-Tart\": '4.4',\n",
       " 'LaRoy': '6.7',\n",
       " \"L'Homme aux mille visages\": '6.8',\n",
       " \"Rebel Moon : Partie 2 - L'Entailleuse\": '4',\n",
       " 'Sky Dome 2123': '6.3',\n",
       " 'La Planète des singes - Le Nouveau Royaume': '6.8',\n",
       " 'S.O.S. Fantômes - La Menace de glace': '5.3',\n",
       " 'Riddle of Fire': '6.9',\n",
       " \"L'Esprit Coubertin\": '5.7',\n",
       " 'Nicky Larson': '6.1',\n",
       " 'Petites mains': '6.4',\n",
       " 'Les Cartes du mal': '4',\n",
       " 'Première affaire': '5.4'}"
      ]
     },
     "execution_count": 6,
     "metadata": {},
     "output_type": "execute_result"
    }
   ],
   "source": [
    "films = {name.text: rating.text for name, rating in zip(films_names, ratings)}\n",
    "films"
   ]
  },
  {
   "cell_type": "code",
   "execution_count": 7,
   "metadata": {},
   "outputs": [
    {
     "data": {
      "text/plain": [
       "{'La Planète des singes - Le Nouveau Royaume': '6.8',\n",
       " \"Rebel Moon : Partie 2 - L'Entailleuse\": '4',\n",
       " 'Blue & Compagnie': '6.7',\n",
       " 'Nicky Larson': '6.1',\n",
       " \"L'Idée d'être avec toi\": '5.4',\n",
       " 'Baby Ruby': '5.6',\n",
       " 'The Greatest Hits': '6',\n",
       " 'Baghead': '5',\n",
       " \"Unfrosted - L'épopée de la Pop-Tart\": '4.4',\n",
       " 'Puppy Love': '5.3',\n",
       " 'Les Vérités de Jennifer': '5.8'}"
      ]
     },
     "execution_count": 7,
     "metadata": {},
     "output_type": "execute_result"
    }
   ],
   "source": [
    "url = \"https://www.senscritique.com/films//streaming\"\n",
    "request = requests.get(url)\n",
    "soup = bs(request.text, \"html.parser\")\n",
    "names = soup.find_all(\"p\", {\"class\": \"sc-e6f263fc-0 sc-ee95228d-1 GItpw gJUtFN\"})\n",
    "ratings = soup.find_all(\"div\", {\"class\": \"sc-8251ce8c-5 bVyLNx globalRating\"})\n",
    "\n",
    "films = {name.text: rating.text for name, rating in zip(names, ratings)}\n",
    "films"
   ]
  },
  {
   "cell_type": "code",
   "execution_count": 8,
   "metadata": {},
   "outputs": [
    {
     "name": "stdout",
     "output_type": "stream",
     "text": [
      "[]\n"
     ]
    }
   ],
   "source": [
    "url = \"https://www.senscritique.com/films/cette-semaine\"\n",
    "request = requests.get(url)\n",
    "soup = bs(request.text, \"html.parser\")\n",
    "\n",
    "ratings = soup.find(\"div\").find_all_next(\"a\", {\"class\": \"sc-e6f263fc-0 sc-df6b780a-1 cTWuvs lbhoSA\"})\n",
    "\n",
    "\n",
    "ratings = [rating.text for rating in ratings]\n",
    "print(ratings)"
   ]
  },
  {
   "cell_type": "code",
   "execution_count": 52,
   "metadata": {},
   "outputs": [
    {
     "name": "stdout",
     "output_type": "stream",
     "text": [
      "[<p class=\"sc-e6f263fc-0 sc-4db36029-4 bTynbZ irayCk\" data-testid=\"reviewTitle\" type=\"default\">\"Fut un temps où j'avais les fesses et ligne de Dennis Quaid...\"(Pierreamo). Texte d'Anne Dessuant:</p>, <p class=\"sc-e6f263fc-0 sc-4db36029-4 bTynbZ irayCk\" data-testid=\"reviewTitle\" type=\"default\">Je n’écrirai pas sur ce film</p>, <p class=\"sc-e6f263fc-0 sc-4db36029-4 bTynbZ irayCk\" data-testid=\"reviewTitle\" type=\"default\">None Nation under God</p>]\n"
     ]
    }
   ],
   "source": [
    "base_url = \"https://www.senscritique.com/films/\"\n",
    "request = requests.get(base_url)\n",
    "soup = bs(request.text, \"html.parser\")\n",
    "\n",
    "critique_titles = soup.find_all(\n",
    "    \"p\",\n",
    "    {\n",
    "        \"class\": \"sc-e6f263fc-0 sc-4db36029-4 bTynbZ irayCk\",\n",
    "    },\n",
    ")\n",
    "\n",
    "print(critique_titles)"
   ]
  },
  {
   "cell_type": "code",
   "execution_count": 51,
   "metadata": {},
   "outputs": [
    {
     "data": {
      "text/plain": [
       "['\"Fut un temps où j\\'avais les fesses et ligne de Dennis Quaid...\"(Pierreamo). Texte d\\'Anne Dessuant:',\n",
       " 'Je n’écrirai pas sur ce film',\n",
       " 'None Nation under God']"
      ]
     },
     "execution_count": 51,
     "metadata": {},
     "output_type": "execute_result"
    }
   ],
   "source": [
    "titles =  [title if title != \"\" else \"No title\" for title in critique_titles]\n",
    "titles"
   ]
  },
  {
   "cell_type": "code",
   "execution_count": 35,
   "metadata": {},
   "outputs": [
    {
     "data": {
      "text/plain": [
       "3"
      ]
     },
     "execution_count": 35,
     "metadata": {},
     "output_type": "execute_result"
    }
   ],
   "source": [
    "len(critique_titles)"
   ]
  },
  {
   "cell_type": "code",
   "execution_count": 10,
   "metadata": {},
   "outputs": [],
   "source": [
    "name_critic = soup.find_all(\"a\", {\"class\": \"sc-e6f263fc-0 sc-b7da4c5c-2 GItpw gvGKDY\"})"
   ]
  },
  {
   "cell_type": "code",
   "execution_count": 11,
   "metadata": {},
   "outputs": [],
   "source": [
    "name_critic = [name.text for name in name_critic]"
   ]
  },
  {
   "cell_type": "code",
   "execution_count": 77,
   "metadata": {},
   "outputs": [
    {
     "data": {
      "text/plain": [
       "['PierreAmo', 'Sergent_Pepper', 'Sergent_Pepper']"
      ]
     },
     "execution_count": 77,
     "metadata": {},
     "output_type": "execute_result"
    }
   ],
   "source": [
    "name_critic"
   ]
  },
  {
   "cell_type": "code",
   "execution_count": 76,
   "metadata": {},
   "outputs": [
    {
     "data": {
      "text/plain": [
       "['19', '107', '100', '10', '6', '5', '9', '21', '12']"
      ]
     },
     "execution_count": 76,
     "metadata": {},
     "output_type": "execute_result"
    }
   ],
   "source": [
    "likes_critiques = soup.find_all(\n",
    "    \"p\", {\"class\": \"sc-e6f263fc-0 sc-8d1083e0-1 GItpw XTOao\"}\n",
    ")\n",
    "\n",
    "likes_critiques = [like.text.split(\" \")[0] for like in likes_critiques]\n",
    "likes_critiques"
   ]
  },
  {
   "cell_type": "code",
   "execution_count": 73,
   "metadata": {},
   "outputs": [
    {
     "data": {
      "text/plain": [
       "['6', '13', '8', '4', '1', '5', '9']"
      ]
     },
     "execution_count": 73,
     "metadata": {},
     "output_type": "execute_result"
    }
   ],
   "source": [
    "comments = soup.find_all(\"p\", {\"class\": \"sc-e6f263fc-0 sc-3fcb6f61-1 GItpw djcKen\"})\n",
    "comments = [comment.text for comment in comments]\n",
    "comments"
   ]
  },
  {
   "cell_type": "code",
   "execution_count": 72,
   "metadata": {},
   "outputs": [
    {
     "data": {
      "text/plain": [
       "[\"Quand j'ai découvert ce film enfant sans rien en savoir, il a été un beau choc et fascinant.Mes yeux d'ado puis adulte, ne l'ont jamais revu pareil: surtout la scène plus du tout aussi démente où les...\",\n",
       " 'J’avais toutes les raisons de ne pas écrire une critique sur le premier film de Florent Bernard. La première, c’est que je savais que j’allais probablement manquer d’objectivité lorsqu’il s’agirait...',\n",
       " 'Alors que la carrière de réalisateur d’Alex Garland déclinait irrémédiablement, de l’assez fascinant Ex Machina aux démonstrations poussives de Men, le nouveau virage opéré par Civil War a tout d’une...',\n",
       " \"Jamais édité chez nous ni en VHS, ni en DVD, ni en blu-ray. Rimini vient juste de signer et annonce une sortie courant 2025. J'dis ça, j'dis quelque chose.\",\n",
       " 'Les premières images sont enfin là !',\n",
       " 'https://www.youtube.com/watch?v=8BP2y0wz49U',\n",
       " '',\n",
       " \"C'était vraiment phénoménal.\"]"
      ]
     },
     "execution_count": 72,
     "metadata": {},
     "output_type": "execute_result"
    }
   ],
   "source": [
    "critique_content = soup.find_all(\"span\", {\"class\": \"sc-e6f263fc-2 ewlOkV\"})\n",
    "critique_content = [content.text for content in critique_content]\n",
    "critique_content"
   ]
  },
  {
   "cell_type": "code",
   "execution_count": 74,
   "metadata": {},
   "outputs": [
    {
     "data": {
      "text/plain": [
       "['il y a 2 jours',\n",
       " 'le 18 avr. 2024',\n",
       " 'le 17 avr. 2024',\n",
       " 'il y a 6 jours',\n",
       " 'il y a 4 jours',\n",
       " 'il y a 4 jours']"
      ]
     },
     "execution_count": 74,
     "metadata": {},
     "output_type": "execute_result"
    }
   ],
   "source": [
    "date_critique = soup.find_all(\n",
    "    \"p\", {\"class\": \"sc-e6f263fc-0 sc-3b5d9ff1-0 GItpw dOiIbg\"}\n",
    ")\n",
    "date_critique = [date.text for date in date_critique]\n",
    "date_critique"
   ]
  },
  {
   "cell_type": "code",
   "execution_count": 75,
   "metadata": {},
   "outputs": [
    {
     "data": {
      "text/plain": [
       "['8', '8', '7']"
      ]
     },
     "execution_count": 75,
     "metadata": {},
     "output_type": "execute_result"
    }
   ],
   "source": [
    "note_critique = soup.find_all(\n",
    "    \"div\", {\"class\": \"sc-8251ce8c-3 gbAIun sc-4db36029-3 iepouY\"}\n",
    ")\n",
    "note_critique = [note.text for note in note_critique]\n",
    "note_critique"
   ]
  },
  {
   "cell_type": "code",
   "execution_count": 27,
   "metadata": {},
   "outputs": [
    {
     "name": "stdout",
     "output_type": "stream",
     "text": [
      "data:image/svg+xml,%3csvg%20xmlns=%27http://www.w3.org/2000/svg%27%20version=%271.1%27%20width=%2730%27%20height=%2730%27/%3e\n",
      "data:image/svg+xml,%3csvg%20xmlns=%27http://www.w3.org/2000/svg%27%20version=%271.1%27%20width=%2730%27%20height=%2730%27/%3e\n",
      "data:image/svg+xml,%3csvg%20xmlns=%27http://www.w3.org/2000/svg%27%20version=%271.1%27%20width=%2730%27%20height=%2730%27/%3e\n",
      "data:image/svg+xml,%3csvg%20xmlns=%27http://www.w3.org/2000/svg%27%20version=%271.1%27%20width=%2730%27%20height=%2730%27/%3e\n",
      "data:image/svg+xml,%3csvg%20xmlns=%27http://www.w3.org/2000/svg%27%20version=%271.1%27%20width=%2730%27%20height=%2730%27/%3e\n",
      "data:image/svg+xml,%3csvg%20xmlns=%27http://www.w3.org/2000/svg%27%20version=%271.1%27%20width=%2730%27%20height=%2730%27/%3e\n"
     ]
    }
   ],
   "source": [
    "photo_critique = soup.find_all(\"a\", {\"class\": \"sc-1a97d7be-3 fZBrFn\"})\n",
    "for photo in photo_critique:\n",
    "    print(photo.img[\"src\"])"
   ]
  },
  {
   "cell_type": "code",
   "execution_count": 97,
   "metadata": {},
   "outputs": [
    {
     "name": "stdout",
     "output_type": "stream",
     "text": [
      "Requirement already satisfied: webdriver_manager in ./venv/lib/python3.11/site-packages (4.0.1)\n",
      "Requirement already satisfied: requests in ./venv/lib/python3.11/site-packages (from webdriver_manager) (2.31.0)\n",
      "Requirement already satisfied: python-dotenv in ./venv/lib/python3.11/site-packages (from webdriver_manager) (1.0.1)\n",
      "Requirement already satisfied: packaging in ./venv/lib/python3.11/site-packages (from webdriver_manager) (24.0)\n",
      "Requirement already satisfied: charset-normalizer<4,>=2 in ./venv/lib/python3.11/site-packages (from requests->webdriver_manager) (3.3.2)\n",
      "Requirement already satisfied: idna<4,>=2.5 in ./venv/lib/python3.11/site-packages (from requests->webdriver_manager) (3.7)\n",
      "Requirement already satisfied: urllib3<3,>=1.21.1 in ./venv/lib/python3.11/site-packages (from requests->webdriver_manager) (2.2.1)\n",
      "Requirement already satisfied: certifi>=2017.4.17 in ./venv/lib/python3.11/site-packages (from requests->webdriver_manager) (2024.2.2)\n",
      "Note: you may need to restart the kernel to use updated packages.\n",
      "6.7\n",
      "Challengers\n",
      "6.4\n",
      "The Fall Guy\n",
      "7.1\n",
      "Civil War\n",
      "6.8\n",
      "Un p'tit truc en plus\n",
      "7\n",
      "Comme un lundi\n",
      "6.4\n",
      "Jusqu’au bout du monde\n",
      "5.4\n",
      "L'Idée d'être avec toi\n",
      "6.8\n",
      "La Planète des singes - Le Nouveau Royaume\n",
      "4.4\n",
      "Unfrosted - L'épopée de la Pop-Tart\n",
      "6.1\n",
      "Nicky Larson\n",
      "6.7\n",
      "Blue & Compagnie\n",
      "4\n",
      "Rebel Moon : Partie 2 - L'Entailleuse\n",
      "8\n",
      "L'Aventure intérieure\n",
      "\"Fut un temps où j'avais les fesses et ligne de Dennis Quaid...\"(Pierreamo). Texte d'Anne Dessuant:\n",
      "Quand j'ai découvert ce film enfant sans rien en savoir, il a été un beau choc et fascinant.Mes yeux d'ado puis adulte, ne l'ont jamais revu pareil: surtout la scène plus du tout aussi démente où les...\n",
      "Lire la critique\n",
      "Par\n",
      "PierreAmo\n",
      "il y a 2 jours\n",
      "19 j'aime\n",
      "6\n",
      "8\n",
      "Nous, les Leroy\n",
      "Je n’écrirai pas sur ce film\n",
      "J’avais toutes les raisons de ne pas écrire une critique sur le premier film de Florent Bernard. La première, c’est que je savais que j’allais probablement manquer d’objectivité lorsqu’il s’agirait...\n",
      "Lire la critique\n",
      "Par\n",
      "Sergent_Pepper\n",
      "le 18 avr. 2024\n",
      "107 j'aime\n",
      "13\n",
      "7\n",
      "Civil War\n",
      "None Nation under God\n",
      "Alors que la carrière de réalisateur d’Alex Garland déclinait irrémédiablement, de l’assez fascinant Ex Machina aux démonstrations poussives de Men, le nouveau virage opéré par Civil War a tout d’une...\n",
      "Lire la critique\n",
      "Par\n",
      "Sergent_Pepper\n",
      "le 17 avr. 2024\n",
      "100 j'aime\n",
      "8\n",
      "Le Gouffre aux chimères\n",
      "Jamais édité chez nous ni en VHS, ni en DVD, ni en blu-ray. Rimini vient juste de signer et annonce une sortie courant 2025. J'dis ça, j'dis quelque chose.\n",
      "il y a 6 jours\n",
      "10 j'aime\n",
      "4\n",
      "Megalopolis\n",
      "Les premières images sont enfin là !\n",
      "https://www.youtube.com/watch?v=8BP2y0wz49U\n",
      "il y a 5 jours\n",
      "6 j'aime\n",
      "1\n",
      "WWE : Backlash France (2024)\n",
      "C'était vraiment phénoménal.\n",
      "il y a 4 jours\n",
      "5 j'aime\n",
      "Mes 30 réalisateurs favoris\n",
      "Liste de 30 films avec Josey Wales hors-la-loi, La Mort aux trousses, Django Unchained, Les Affranchis, Abyss...\n",
      "9 j'aime\n",
      "5\n",
      "Vidéo Club : Viggo Mortensen\n",
      "Liste de 47 films avec La Passion de Jeanne d'Arc, La Route, Green Book - Sur les routes du Sud, Captain Fantastic, Le Choix de Sophie...\n",
      "21 j'aime\n",
      "Les meilleurs acteurs américains\n",
      "Liste de 60 films avec Les Lumières de la ville, Douze Hommes en colère, Sueurs froides, Ben-Hur, Le Procès...\n",
      "12 j'aime\n",
      "9\n",
      "Les meilleurs films sur Robin des Bois\n",
      "Les meilleurs films de Stanley Donen\n",
      "Les meilleurs films de Ken Russell\n",
      "13518 envies\n",
      "Furiosa - Une Saga Mad Max\n",
      "6152 envies\n",
      "Mickey 17\n",
      "4715 envies\n",
      "Joker - Folie à deux\n",
      "4341 envies\n",
      "Megalopolis\n",
      "3167 envies\n",
      "Beetlejuice Beetlejuice\n",
      "3171 envies\n",
      "Vice-versa 2\n"
     ]
    }
   ],
   "source": [
    "from selenium import webdriver\n",
    "from selenium.webdriver.firefox.service import Service\n",
    "from webdriver_manager.firefox import GeckoDriverManager\n",
    "from selenium.webdriver.common.by import By\n",
    "\n",
    "# Setup webdriver\n",
    "driver = webdriver.Firefox(service=Service(GeckoDriverManager().install()))\n",
    "\n",
    "# Navigate to the page\n",
    "driver.get(\"https://www.senscritique.com/films/\")\n",
    "\n",
    "# Find elements\n",
    "critics = driver.find_elements(By.CSS_SELECTOR, \"div.sc-328d61f-2.dLhSYv\")\n",
    "\n",
    "critic_info = []\n",
    "\n",
    "# Close the driver\n",
    "driver.quit()"
   ]
  },
  {
   "cell_type": "code",
   "execution_count": null,
   "metadata": {},
   "outputs": [],
   "source": []
  }
 ],
 "metadata": {
  "kernelspec": {
   "display_name": "venv",
   "language": "python",
   "name": "python3"
  },
  "language_info": {
   "codemirror_mode": {
    "name": "ipython",
    "version": 3
   },
   "file_extension": ".py",
   "mimetype": "text/x-python",
   "name": "python",
   "nbconvert_exporter": "python",
   "pygments_lexer": "ipython3",
   "version": "3.11.4"
  }
 },
 "nbformat": 4,
 "nbformat_minor": 2
}
