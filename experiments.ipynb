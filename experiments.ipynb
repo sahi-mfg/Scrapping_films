{
 "cells": [
  {
   "cell_type": "code",
   "execution_count": 24,
   "metadata": {},
   "outputs": [],
   "source": [
    "from bs4 import BeautifulSoup as bs\n",
    "import requests"
   ]
  },
  {
   "cell_type": "code",
   "execution_count": 25,
   "metadata": {},
   "outputs": [],
   "source": [
    "BASE_URL = \"https://www.senscritique.com/films\""
   ]
  },
  {
   "cell_type": "code",
   "execution_count": 26,
   "metadata": {},
   "outputs": [],
   "source": [
    "def fetch_and_parse(url: str) -> bs:\n",
    "    request = requests.get(url)\n",
    "    soup = bs(request.text, \"html.parser\")\n",
    "    return soup"
   ]
  },
  {
   "cell_type": "markdown",
   "metadata": {},
   "source": [
    "### Films du moments"
   ]
  },
  {
   "cell_type": "code",
   "execution_count": 38,
   "metadata": {},
   "outputs": [
    {
     "name": "stdout",
     "output_type": "stream",
     "text": [
      " ***** Films en salle actuellement *****\n",
      "Furiosa - Une saga Mad Max\n",
      "Civil War\n",
      "Le Deuxième Acte\n",
      "Un p'tit truc en plus\n",
      "The Fall Guy\n",
      "Challengers\n",
      "Atlas\n",
      "La Planète des singes - Le Nouveau Royaume\n",
      "Marcello Mio\n",
      "Comme un lundi\n",
      "When Evil Lurks\n",
      "Les Trois Fantastiques\n",
      "Borgo\n",
      "Arthur the King\n",
      "South Park - La fin de l'obésité\n",
      "Jusqu’au bout du monde\n",
      "The Beekeeper\n",
      "L'Idée d'être avec toi\n",
      "Blue & Compagnie\n",
      "Border Line\n",
      "Adagio\n",
      "Moi aussi\n",
      "Monkey Man\n",
      "Le Tableau volé\n",
      "Mon oni à moi\n",
      "Back to Black\n",
      "Chien blanc\n",
      "Rebel Moon : Partie 2 - L'Entailleuse\n",
      "Les Intrus\n",
      "Heroico\n",
      "\n",
      "\n",
      " ***** Notes des films en salle actuellement *****\n",
      "7.6\n",
      "7\n",
      "6.3\n",
      "6.8\n",
      "6.3\n",
      "6.6\n",
      "4.6\n",
      "6.4\n",
      "5.6\n",
      "6.7\n",
      "6.5\n",
      "6.4\n",
      "7\n",
      "6.5\n",
      "7.1\n",
      "6.5\n",
      "5.2\n",
      "5.2\n",
      "6.1\n",
      "6.8\n",
      "7\n",
      "5.1\n",
      "6.5\n",
      "6.1\n",
      "5.9\n",
      "5.7\n",
      "5.7\n",
      "4\n",
      "4.2\n",
      "6.5\n"
     ]
    }
   ],
   "source": [
    "url_moment = f\"{BASE_URL}/toujours-a-l-affiche\"\n",
    "soup_moment = fetch_and_parse(url_moment)\n",
    "# (soup_moment.prettify())\n",
    "films_moment_names = soup_moment.find_all(\n",
    "    \"a\", {\"class\": \"sc-e6f263fc-0 sc-ff76fb9e-1 cTWuvs fBqRWl\"}\n",
    ")\n",
    "\n",
    "print(\" ***** Films en salle actuellement *****\")\n",
    "for film_name in films_moment_names:\n",
    "    print(film_name.text)\n",
    "\n",
    "print()\n",
    "print()\n",
    "\n",
    "films_moment_notes = soup_moment.find_all(\"div\", {\"class\": \"sc-8251ce8c-5 fTXQip\"})\n",
    "\n",
    "print(\" ***** Notes des films en salle actuellement *****\")\n",
    "for film_note in films_moment_notes:\n",
    "    print(film_note.text)"
   ]
  },
  {
   "cell_type": "code",
   "execution_count": 39,
   "metadata": {},
   "outputs": [
    {
     "data": {
      "text/plain": [
       "{'Furiosa - Une saga Mad Max': '7.6',\n",
       " 'Civil War': '7',\n",
       " 'Le Deuxième Acte': '6.3',\n",
       " \"Un p'tit truc en plus\": '6.8',\n",
       " 'The Fall Guy': '6.3',\n",
       " 'Challengers': '6.6',\n",
       " 'Atlas': '4.6',\n",
       " 'La Planète des singes - Le Nouveau Royaume': '6.4',\n",
       " 'Marcello Mio': '5.6',\n",
       " 'Comme un lundi': '6.7',\n",
       " 'When Evil Lurks': '6.5',\n",
       " 'Les Trois Fantastiques': '6.4',\n",
       " 'Borgo': '7',\n",
       " 'Arthur the King': '6.5',\n",
       " \"South Park - La fin de l'obésité\": '7.1',\n",
       " 'Jusqu’au bout du monde': '6.5',\n",
       " 'The Beekeeper': '5.2',\n",
       " \"L'Idée d'être avec toi\": '5.2',\n",
       " 'Blue & Compagnie': '6.1',\n",
       " 'Border Line': '6.8',\n",
       " 'Adagio': '7',\n",
       " 'Moi aussi': '5.1',\n",
       " 'Monkey Man': '6.5',\n",
       " 'Le Tableau volé': '6.1',\n",
       " 'Mon oni à moi': '5.9',\n",
       " 'Back to Black': '5.7',\n",
       " 'Chien blanc': '5.7',\n",
       " \"Rebel Moon : Partie 2 - L'Entailleuse\": '4',\n",
       " 'Les Intrus': '4.2',\n",
       " 'Heroico': '6.5'}"
      ]
     },
     "execution_count": 39,
     "metadata": {},
     "output_type": "execute_result"
    }
   ],
   "source": [
    "films_moment = {\n",
    "    film_name.text: rating.text\n",
    "    for film_name, rating in zip(films_moment_names, films_moment_notes)\n",
    "}\n",
    "\n",
    "films_moment"
   ]
  },
  {
   "cell_type": "markdown",
   "metadata": {},
   "source": [
    "### Films à voir en streaming"
   ]
  },
  {
   "cell_type": "code",
   "execution_count": 41,
   "metadata": {},
   "outputs": [
    {
     "data": {
      "text/plain": [
       "{'The Beekeeper': '5.2',\n",
       " \"L'Idée d'être avec toi\": '5.2',\n",
       " 'Atlas': '4.6',\n",
       " 'Adagio': '7',\n",
       " \"Unfrosted - L'épopée de la Pop-Tart\": '4.5',\n",
       " 'Baghead': '4.9',\n",
       " 'Baby Ruby': '5.4',\n",
       " 'Arthur the King': '6.5',\n",
       " 'La Mère de la mariée': '4'}"
      ]
     },
     "execution_count": 41,
     "metadata": {},
     "output_type": "execute_result"
    }
   ],
   "source": [
    "url_streaming = f\"{BASE_URL}/streaming\"\n",
    "soup_streaming = fetch_and_parse(url_streaming)\n",
    "names = soup_streaming.find_all(\n",
    "    \"p\", {\"class\": \"sc-e6f263fc-0 sc-ee95228d-1 GItpw gJUtFN\"}\n",
    ")\n",
    "ratings = soup_streaming.find_all(\"div\", {\"class\": \"sc-8251ce8c-5 bVyLNx globalRating\"})\n",
    "\n",
    "films = {name.text: rating.text for name, rating in zip(names, ratings)}\n",
    "films"
   ]
  },
  {
   "cell_type": "markdown",
   "metadata": {},
   "source": [
    "### Sorties de la semaine"
   ]
  },
  {
   "cell_type": "code",
   "execution_count": 47,
   "metadata": {},
   "outputs": [
    {
     "name": "stdout",
     "output_type": "stream",
     "text": [
      " ***** Films de la semaine *****\n",
      "\n",
      "\n",
      " ***** Notes des films de la semaine *****\n"
     ]
    }
   ],
   "source": [
    "url_semaine = f\"{BASE_URL}/cette-semaine\"\n",
    "soup_semaine = fetch_and_parse(url_semaine)\n",
    "\n",
    "films_names_semaine = soup_semaine.find_all(\n",
    "    \"a\",\n",
    "    {\n",
    "        \"class\": \"sc-e6f263fc-0 sc-ff76fb9e-1 cTitej fBqRWl sc-7d656c84-3 hMCdXr\",\n",
    "        \"data-testid\": \"product-title\",\n",
    "    },\n",
    ")\n",
    "\n",
    "films_semaine_ratings = soup_semaine.find_all(\n",
    "    \"div\", {\"class\": \"sc-8251ce8c-5 bVyLNx globalRating\"}\n",
    ")\n",
    "\n",
    "print(\" ***** Films de la semaine *****\")\n",
    "for film_name in films_names_semaine:\n",
    "    print(film_name.text)\n",
    "\n",
    "print()\n",
    "print()\n",
    "\n",
    "print(\" ***** Notes des films de la semaine *****\")\n",
    "for film_rating in films_semaine_ratings:\n",
    "    print(film_rating.text)"
   ]
  },
  {
   "cell_type": "code",
   "execution_count": 49,
   "metadata": {},
   "outputs": [
    {
     "data": {
      "text/plain": [
       "[]"
      ]
     },
     "execution_count": 49,
     "metadata": {},
     "output_type": "execute_result"
    }
   ],
   "source": [
    "soup_semaine.find_all(\"a\", {\"data-testid\": \"product-title\"})"
   ]
  },
  {
   "cell_type": "markdown",
   "metadata": {},
   "source": [
    "### Critiques de films"
   ]
  },
  {
   "cell_type": "code",
   "execution_count": 53,
   "metadata": {},
   "outputs": [
    {
     "name": "stdout",
     "output_type": "stream",
     "text": [
      "[]\n"
     ]
    }
   ],
   "source": [
    "soup_critique = fetch_and_parse(f\"{BASE_URL}/critiques\")\n",
    "\n",
    "critiques = soup_critique.find_all(\"div\", {\"class\": \"sc-1x1g2b-0 sc-1x1g2b-1 jJQjZv\"})\n",
    "print(critiques)"
   ]
  },
  {
   "cell_type": "code",
   "execution_count": null,
   "metadata": {},
   "outputs": [],
   "source": []
  }
 ],
 "metadata": {
  "kernelspec": {
   "display_name": "Python 3 (ipykernel)",
   "language": "python",
   "name": "python3"
  },
  "language_info": {
   "codemirror_mode": {
    "name": "ipython",
    "version": 3
   },
   "file_extension": ".py",
   "mimetype": "text/x-python",
   "name": "python",
   "nbconvert_exporter": "python",
   "pygments_lexer": "ipython3",
   "version": "3.11.4"
  },
  "widgets": {
   "application/vnd.jupyter.widget-state+json": {
    "state": {},
    "version_major": 2,
    "version_minor": 0
   }
  }
 },
 "nbformat": 4,
 "nbformat_minor": 4
}
