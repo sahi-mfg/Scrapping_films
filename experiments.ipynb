{
 "cells": [
  {
   "cell_type": "code",
   "execution_count": 3,
   "metadata": {},
   "outputs": [],
   "source": [
    "from bs4 import BeautifulSoup as bs\n",
    "import requests"
   ]
  },
  {
   "cell_type": "code",
   "execution_count": 4,
   "metadata": {},
   "outputs": [
    {
     "name": "stdout",
     "output_type": "stream",
     "text": [
      "Challengers\n",
      "The Fall Guy\n",
      "Civil War\n",
      "Un p'tit truc en plus\n",
      "Comme un lundi\n",
      "Jusqu’au bout du monde\n",
      "Le mal n'existe pas\n",
      "Borgo\n",
      "Border Line\n",
      "L'Idée d'être avec toi\n",
      "Monkey Man\n",
      "État limite\n",
      "Une affaire de principe\n",
      "Le Tableau volé\n",
      "Nous, les Leroy\n",
      "Back to Black\n",
      "Frères\n",
      "Unfrosted - L'épopée de la Pop-Tart\n",
      "LaRoy\n",
      "L'Homme aux mille visages\n",
      "Rebel Moon : Partie 2 - L'Entailleuse\n",
      "Sky Dome 2123\n",
      "La Planète des singes - Le Nouveau Royaume\n",
      "S.O.S. Fantômes - La Menace de glace\n",
      "Riddle of Fire\n",
      "L'Esprit Coubertin\n",
      "Nicky Larson\n",
      "Petites mains\n",
      "Les Cartes du mal\n",
      "Première affaire\n"
     ]
    }
   ],
   "source": [
    "url = \"https://www.senscritique.com/films/toujours-a-l-affiche\"\n",
    "request = requests.get(url)\n",
    "soup = bs(request.text, \"html.parser\")\n",
    "\n",
    "# print(soup.prettify())\n",
    "\n",
    "films_names = soup.find_all(\"a\", {\"class\": \"sc-e6f263fc-0 sc-df6b780a-1 cTWuvs lbhoSA\"})\n",
    "\n",
    "for film in films_names:\n",
    "    print(film.text)"
   ]
  },
  {
   "cell_type": "code",
   "execution_count": 5,
   "metadata": {},
   "outputs": [
    {
     "name": "stdout",
     "output_type": "stream",
     "text": [
      "6.7\n",
      "6.4\n",
      "7.1\n",
      "6.8\n",
      "7\n",
      "6.4\n",
      "7\n",
      "7\n",
      "6.8\n",
      "5.4\n",
      "6.5\n",
      "7.6\n",
      "6.6\n",
      "6.1\n",
      "6.6\n",
      "5.7\n",
      "6.4\n",
      "4.4\n",
      "6.7\n",
      "6.8\n",
      "4\n",
      "6.3\n",
      "6.8\n",
      "5.3\n",
      "6.9\n",
      "5.7\n",
      "6.1\n",
      "6.4\n",
      "4\n",
      "5.4\n"
     ]
    }
   ],
   "source": [
    "ratings = soup.find_all(\"div\", {\"class\": \"sc-8251ce8c-5 fTXQip\"})\n",
    "for rating in ratings:\n",
    "    print(rating.text)"
   ]
  },
  {
   "cell_type": "code",
   "execution_count": 6,
   "metadata": {},
   "outputs": [
    {
     "data": {
      "text/plain": [
       "{'Challengers': '6.7',\n",
       " 'The Fall Guy': '6.4',\n",
       " 'Civil War': '7.1',\n",
       " \"Un p'tit truc en plus\": '6.8',\n",
       " 'Comme un lundi': '7',\n",
       " 'Jusqu’au bout du monde': '6.4',\n",
       " \"Le mal n'existe pas\": '7',\n",
       " 'Borgo': '7',\n",
       " 'Border Line': '6.8',\n",
       " \"L'Idée d'être avec toi\": '5.4',\n",
       " 'Monkey Man': '6.5',\n",
       " 'État limite': '7.6',\n",
       " 'Une affaire de principe': '6.6',\n",
       " 'Le Tableau volé': '6.1',\n",
       " 'Nous, les Leroy': '6.6',\n",
       " 'Back to Black': '5.7',\n",
       " 'Frères': '6.4',\n",
       " \"Unfrosted - L'épopée de la Pop-Tart\": '4.4',\n",
       " 'LaRoy': '6.7',\n",
       " \"L'Homme aux mille visages\": '6.8',\n",
       " \"Rebel Moon : Partie 2 - L'Entailleuse\": '4',\n",
       " 'Sky Dome 2123': '6.3',\n",
       " 'La Planète des singes - Le Nouveau Royaume': '6.8',\n",
       " 'S.O.S. Fantômes - La Menace de glace': '5.3',\n",
       " 'Riddle of Fire': '6.9',\n",
       " \"L'Esprit Coubertin\": '5.7',\n",
       " 'Nicky Larson': '6.1',\n",
       " 'Petites mains': '6.4',\n",
       " 'Les Cartes du mal': '4',\n",
       " 'Première affaire': '5.4'}"
      ]
     },
     "execution_count": 6,
     "metadata": {},
     "output_type": "execute_result"
    }
   ],
   "source": [
    "films = {name.text: rating.text for name, rating in zip(films_names, ratings)}\n",
    "films"
   ]
  },
  {
   "cell_type": "code",
   "execution_count": 7,
   "metadata": {},
   "outputs": [
    {
     "data": {
      "text/plain": [
       "{'La Planète des singes - Le Nouveau Royaume': '6.8',\n",
       " \"Rebel Moon : Partie 2 - L'Entailleuse\": '4',\n",
       " 'Blue & Compagnie': '6.7',\n",
       " 'Nicky Larson': '6.1',\n",
       " \"L'Idée d'être avec toi\": '5.4',\n",
       " 'Baby Ruby': '5.6',\n",
       " 'The Greatest Hits': '6',\n",
       " 'Baghead': '5',\n",
       " \"Unfrosted - L'épopée de la Pop-Tart\": '4.4',\n",
       " 'Puppy Love': '5.3',\n",
       " 'Les Vérités de Jennifer': '5.8'}"
      ]
     },
     "execution_count": 7,
     "metadata": {},
     "output_type": "execute_result"
    }
   ],
   "source": [
    "url = \"https://www.senscritique.com/films//streaming\"\n",
    "request = requests.get(url)\n",
    "soup = bs(request.text, \"html.parser\")\n",
    "names = soup.find_all(\"p\", {\"class\": \"sc-e6f263fc-0 sc-ee95228d-1 GItpw gJUtFN\"})\n",
    "ratings = soup.find_all(\"div\", {\"class\": \"sc-8251ce8c-5 bVyLNx globalRating\"})\n",
    "\n",
    "films = {name.text: rating.text for name, rating in zip(names, ratings)}\n",
    "films"
   ]
  },
  {
   "cell_type": "code",
   "execution_count": 8,
   "metadata": {},
   "outputs": [
    {
     "name": "stdout",
     "output_type": "stream",
     "text": [
      "[]\n"
     ]
    }
   ],
   "source": [
    "url = \"https://www.senscritique.com/films/cette-semaine\"\n",
    "request = requests.get(url)\n",
    "soup = bs(request.text, \"html.parser\")\n",
    "\n",
    "ratings = soup.find(\"div\").find_all_next(\"a\", {\"class\": \"sc-e6f263fc-0 sc-df6b780a-1 cTWuvs lbhoSA\"})\n",
    "\n",
    "\n",
    "ratings = [rating.text for rating in ratings]\n",
    "print(ratings)"
   ]
  },
  {
   "cell_type": "code",
   "execution_count": 34,
   "metadata": {},
   "outputs": [
    {
     "name": "stdout",
     "output_type": "stream",
     "text": [
      "\"Fut un temps où j'avais les fesses et ligne de Dennis Quaid...\"(Pierreamo). Texte d'Anne Dessuant:\n",
      "Je n’écrirai pas sur ce film\n",
      "None Nation under God\n"
     ]
    }
   ],
   "source": [
    "base_url = \"https://www.senscritique.com/films/\"\n",
    "request = requests.get(base_url)\n",
    "soup = bs(request.text, \"html.parser\")\n",
    "\n",
    "critique_titles = soup.find_all(\n",
    "    \"p\",\n",
    "    {\n",
    "        \"class\": \"sc-e6f263fc-0 sc-4db36029-4 bTynbZ irayCk\",\n",
    "    },\n",
    ")\n",
    "critique_titles = [title.text for title in critique_titles]\n",
    "for title in critique_titles:\n",
    "    print(title)"
   ]
  },
  {
   "cell_type": "code",
   "execution_count": 35,
   "metadata": {},
   "outputs": [
    {
     "data": {
      "text/plain": [
       "3"
      ]
     },
     "execution_count": 35,
     "metadata": {},
     "output_type": "execute_result"
    }
   ],
   "source": [
    "len(critique_titles)"
   ]
  },
  {
   "cell_type": "code",
   "execution_count": 10,
   "metadata": {},
   "outputs": [],
   "source": [
    "name_critic = soup.find_all(\"a\", {\"class\": \"sc-e6f263fc-0 sc-b7da4c5c-2 GItpw gvGKDY\"})"
   ]
  },
  {
   "cell_type": "code",
   "execution_count": 11,
   "metadata": {},
   "outputs": [],
   "source": [
    "name_critic = [name.text for name in name_critic]"
   ]
  },
  {
   "cell_type": "code",
   "execution_count": 12,
   "metadata": {},
   "outputs": [
    {
     "name": "stdout",
     "output_type": "stream",
     "text": [
      "['PierreAmo', 'Sergent_Pepper', 'Sergent_Pepper']\n"
     ]
    }
   ],
   "source": [
    "print(name_critic)"
   ]
  },
  {
   "cell_type": "code",
   "execution_count": 29,
   "metadata": {},
   "outputs": [
    {
     "name": "stdout",
     "output_type": "stream",
     "text": [
      "['19', '107', '100', '10', '6', '5', '9', '21', '12']\n"
     ]
    }
   ],
   "source": [
    "likes_critiques = soup.find_all(\n",
    "    \"p\", {\"class\": \"sc-e6f263fc-0 sc-8d1083e0-1 GItpw XTOao\"}\n",
    ")\n",
    "\n",
    "likes_critiques = [like.text.split(\" \")[0] for like in likes_critiques]\n",
    "print(likes_critiques)"
   ]
  },
  {
   "cell_type": "code",
   "execution_count": 14,
   "metadata": {},
   "outputs": [
    {
     "name": "stdout",
     "output_type": "stream",
     "text": [
      "['6', '13', '8', '4', '1', '5', '9']\n"
     ]
    }
   ],
   "source": [
    "comments = soup.find_all(\"p\", {\"class\": \"sc-e6f263fc-0 sc-3fcb6f61-1 GItpw djcKen\"})\n",
    "comments = [comment.text for comment in comments]\n",
    "print(comments)"
   ]
  },
  {
   "cell_type": "code",
   "execution_count": 28,
   "metadata": {},
   "outputs": [
    {
     "name": "stdout",
     "output_type": "stream",
     "text": [
      "Quand j'ai découvert ce film enfant sans rien en savoir, il a été un beau choc et fascinant.Mes yeux d'ado puis adulte, ne l'ont jamais revu pareil: surtout la scène plus du tout aussi démente où les...\n",
      "J’avais toutes les raisons de ne pas écrire une critique sur le premier film de Florent Bernard. La première, c’est que je savais que j’allais probablement manquer d’objectivité lorsqu’il s’agirait...\n",
      "Alors que la carrière de réalisateur d’Alex Garland déclinait irrémédiablement, de l’assez fascinant Ex Machina aux démonstrations poussives de Men, le nouveau virage opéré par Civil War a tout d’une...\n",
      "Jamais édité chez nous ni en VHS, ni en DVD, ni en blu-ray. Rimini vient juste de signer et annonce une sortie courant 2025. J'dis ça, j'dis quelque chose.\n",
      "Les premières images sont enfin là !\n",
      "https://www.youtube.com/watch?v=8BP2y0wz49U\n",
      "\n",
      "C'était vraiment phénoménal.\n"
     ]
    }
   ],
   "source": [
    "critique_content = soup.find_all(\"span\", {\"class\": \"sc-e6f263fc-2 ewlOkV\"})\n",
    "critique_content = [content.text for content in critique_content]\n",
    "for content in critique_content:\n",
    "    print(content)"
   ]
  },
  {
   "cell_type": "code",
   "execution_count": 16,
   "metadata": {},
   "outputs": [
    {
     "name": "stdout",
     "output_type": "stream",
     "text": [
      "['il y a 2 jours', 'le 18 avr. 2024', 'le 17 avr. 2024', 'il y a 6 jours', 'il y a 4 jours', 'il y a 4 jours']\n"
     ]
    }
   ],
   "source": [
    "date_critique = soup.find_all(\n",
    "    \"p\", {\"class\": \"sc-e6f263fc-0 sc-3b5d9ff1-0 GItpw dOiIbg\"}\n",
    ")\n",
    "date_critique = [date.text for date in date_critique]\n",
    "print(date_critique)"
   ]
  },
  {
   "cell_type": "code",
   "execution_count": 26,
   "metadata": {},
   "outputs": [
    {
     "name": "stdout",
     "output_type": "stream",
     "text": [
      "['8', '8', '7']\n"
     ]
    }
   ],
   "source": [
    "note_critique = soup.find_all(\n",
    "    \"div\", {\"class\": \"sc-8251ce8c-3 gbAIun sc-4db36029-3 iepouY\"}\n",
    ")\n",
    "note_critique = [note.text for note in note_critique]\n",
    "print(note_critique)"
   ]
  },
  {
   "cell_type": "code",
   "execution_count": 27,
   "metadata": {},
   "outputs": [
    {
     "name": "stdout",
     "output_type": "stream",
     "text": [
      "data:image/svg+xml,%3csvg%20xmlns=%27http://www.w3.org/2000/svg%27%20version=%271.1%27%20width=%2730%27%20height=%2730%27/%3e\n",
      "data:image/svg+xml,%3csvg%20xmlns=%27http://www.w3.org/2000/svg%27%20version=%271.1%27%20width=%2730%27%20height=%2730%27/%3e\n",
      "data:image/svg+xml,%3csvg%20xmlns=%27http://www.w3.org/2000/svg%27%20version=%271.1%27%20width=%2730%27%20height=%2730%27/%3e\n",
      "data:image/svg+xml,%3csvg%20xmlns=%27http://www.w3.org/2000/svg%27%20version=%271.1%27%20width=%2730%27%20height=%2730%27/%3e\n",
      "data:image/svg+xml,%3csvg%20xmlns=%27http://www.w3.org/2000/svg%27%20version=%271.1%27%20width=%2730%27%20height=%2730%27/%3e\n",
      "data:image/svg+xml,%3csvg%20xmlns=%27http://www.w3.org/2000/svg%27%20version=%271.1%27%20width=%2730%27%20height=%2730%27/%3e\n"
     ]
    }
   ],
   "source": [
    "photo_critique = soup.find_all(\"a\", {\"class\": \"sc-1a97d7be-3 fZBrFn\"})\n",
    "for photo in photo_critique:\n",
    "    print(photo.img[\"src\"])"
   ]
  },
  {
   "cell_type": "code",
   "execution_count": 36,
   "metadata": {},
   "outputs": [],
   "source": [
    "c = soup.find_all(\"div\", {\"class\": \"sc-328d61f-3 epftsU\"})"
   ]
  },
  {
   "cell_type": "code",
   "execution_count": 40,
   "metadata": {},
   "outputs": [
    {
     "name": "stdout",
     "output_type": "stream",
     "text": [
      "[<p class=\"sc-e6f263fc-0 sc-4db36029-4 bTynbZ irayCk\" data-testid=\"reviewTitle\" type=\"default\">\"Fut un temps où j'avais les fesses et ligne de Dennis Quaid...\"(Pierreamo). Texte d'Anne Dessuant:</p>, <p class=\"sc-e6f263fc-0 sc-4db36029-4 bTynbZ irayCk\" data-testid=\"reviewTitle\" type=\"default\">Je n’écrirai pas sur ce film</p>, <p class=\"sc-e6f263fc-0 sc-4db36029-4 bTynbZ irayCk\" data-testid=\"reviewTitle\" type=\"default\">None Nation under God</p>]\n",
      "[]\n",
      "[]\n",
      "[]\n"
     ]
    }
   ],
   "source": [
    "for i in c:\n",
    "    q = i.find_all(\"p\", {\"class\": \"sc-e6f263fc-0 sc-4db36029-4 bTynbZ irayCk\"})\n",
    "    print(q)"
   ]
  },
  {
   "cell_type": "code",
   "execution_count": null,
   "metadata": {},
   "outputs": [],
   "source": []
  }
 ],
 "metadata": {
  "kernelspec": {
   "display_name": "venv",
   "language": "python",
   "name": "python3"
  },
  "language_info": {
   "codemirror_mode": {
    "name": "ipython",
    "version": 3
   },
   "file_extension": ".py",
   "mimetype": "text/x-python",
   "name": "python",
   "nbconvert_exporter": "python",
   "pygments_lexer": "ipython3",
   "version": "3.11.4"
  }
 },
 "nbformat": 4,
 "nbformat_minor": 2
}
