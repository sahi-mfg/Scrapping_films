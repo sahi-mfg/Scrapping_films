{
 "cells": [
  {
   "cell_type": "code",
   "execution_count": 1,
   "metadata": {},
   "outputs": [],
   "source": [
    "from bs4 import BeautifulSoup as bs\n",
    "import requests"
   ]
  },
  {
   "cell_type": "code",
   "execution_count": 2,
   "metadata": {},
   "outputs": [],
   "source": [
    "BASE_URL = \"https://www.senscritique.com/films\""
   ]
  },
  {
   "cell_type": "code",
   "execution_count": 3,
   "metadata": {},
   "outputs": [],
   "source": [
    "def fetch_and_parse(url: str) -> bs:\n",
    "    request = requests.get(url)\n",
    "    soup = bs(request.text, \"html.parser\")\n",
    "    return soup"
   ]
  },
  {
   "cell_type": "markdown",
   "metadata": {},
   "source": [
    "### Films du moments"
   ]
  },
  {
   "cell_type": "code",
   "execution_count": 4,
   "metadata": {},
   "outputs": [
    {
     "name": "stdout",
     "output_type": "stream",
     "text": [
      " ***** Films en salle actuellement *****\n",
      "\n",
      "\n",
      " ***** Notes des films en salle actuellement *****\n",
      "7.5\n",
      "6.3\n",
      "7\n",
      "6.8\n",
      "6.6\n",
      "6.3\n",
      "5.6\n",
      "6.4\n",
      "6.5\n",
      "4.6\n",
      "5.5\n",
      "6.1\n",
      "6.7\n",
      "3.8\n",
      "6.5\n",
      "5.3\n",
      "5.2\n",
      "6.8\n",
      "6.4\n",
      "6.1\n",
      "7\n",
      "6.4\n",
      "6.5\n",
      "5.2\n",
      "6.8\n",
      "5.7\n",
      "6.1\n",
      "6\n",
      "6.1\n",
      "5.7\n"
     ]
    }
   ],
   "source": [
    "url_moment = f\"{BASE_URL}/toujours-a-l-affiche\"\n",
    "soup_moment = fetch_and_parse(url_moment)\n",
    "# (soup_moment.prettify())\n",
    "films_moment_names = soup_moment.find_all(\n",
    "    \"a\", {\"class\": \"sc-e6f263fc-0 sc-ff76fb9e-1 cTWuvs fBqRWl\"}\n",
    ")\n",
    "\n",
    "print(\" ***** Films en salle actuellement *****\")\n",
    "for film_name in films_moment_names:\n",
    "    print(film_name.text)\n",
    "\n",
    "print()\n",
    "print()\n",
    "\n",
    "films_moment_notes = soup_moment.find_all(\"div\", {\"class\": \"sc-8251ce8c-5 fTXQip\"})\n",
    "\n",
    "print(\" ***** Notes des films en salle actuellement *****\")\n",
    "for film_note in films_moment_notes:\n",
    "    print(film_note.text)"
   ]
  },
  {
   "cell_type": "code",
   "execution_count": 5,
   "metadata": {},
   "outputs": [
    {
     "data": {
      "text/plain": [
       "{}"
      ]
     },
     "execution_count": 5,
     "metadata": {},
     "output_type": "execute_result"
    }
   ],
   "source": [
    "films_moment = {\n",
    "    film_name.text: rating.text\n",
    "    for film_name, rating in zip(films_moment_names, films_moment_notes)\n",
    "}\n",
    "\n",
    "films_moment"
   ]
  },
  {
   "cell_type": "markdown",
   "metadata": {},
   "source": [
    "### Films à voir en streaming"
   ]
  },
  {
   "cell_type": "code",
   "execution_count": 6,
   "metadata": {},
   "outputs": [
    {
     "data": {
      "text/plain": [
       "{\"L'Idée d'être avec toi\": '5.2',\n",
       " 'Atlas': '4.6',\n",
       " 'Adagio': '7',\n",
       " \"Unfrosted - L'épopée de la Pop-Tart\": '4.6',\n",
       " 'Arthur the King': '6.5',\n",
       " 'Baby Ruby': '5.4',\n",
       " 'La Mère de la mariée': '4',\n",
       " 'Mon oni à moi': '5.8'}"
      ]
     },
     "execution_count": 6,
     "metadata": {},
     "output_type": "execute_result"
    }
   ],
   "source": [
    "url_streaming = f\"{BASE_URL}/streaming\"\n",
    "soup_streaming = fetch_and_parse(url_streaming)\n",
    "names = soup_streaming.find_all(\n",
    "    \"p\", {\"class\": \"sc-e6f263fc-0 sc-ee95228d-1 GItpw gJUtFN\"}\n",
    ")\n",
    "ratings = soup_streaming.find_all(\"div\", {\"class\": \"sc-8251ce8c-5 bVyLNx globalRating\"})\n",
    "\n",
    "films = {name.text: rating.text for name, rating in zip(names, ratings)}\n",
    "films"
   ]
  },
  {
   "cell_type": "markdown",
   "metadata": {},
   "source": [
    "### Sorties de la semaine"
   ]
  },
  {
   "cell_type": "code",
   "execution_count": 7,
   "metadata": {},
   "outputs": [
    {
     "name": "stdout",
     "output_type": "stream",
     "text": [
      " ***** Films de la semaine *****\n",
      "\n",
      "\n",
      " ***** Notes des films de la semaine *****\n"
     ]
    }
   ],
   "source": [
    "url_semaine = f\"{BASE_URL}/cette-semaine\"\n",
    "soup_semaine = fetch_and_parse(url_semaine)\n",
    "\n",
    "films_names_semaine = soup_semaine.find_all(\n",
    "    \"a\",\n",
    "    {\n",
    "        \"class\": \"sc-e6f263fc-0 sc-ff76fb9e-1 cTitej fBqRWl sc-7d656c84-3 hMCdXr\",\n",
    "        \"data-testid\": \"product-title\",\n",
    "    },\n",
    ")\n",
    "\n",
    "films_semaine_ratings = soup_semaine.find_all(\n",
    "    \"div\", {\"class\": \"sc-8251ce8c-5 bVyLNx globalRating\"}\n",
    ")\n",
    "\n",
    "print(\" ***** Films de la semaine *****\")\n",
    "for film_name in films_names_semaine:\n",
    "    print(film_name.text)\n",
    "\n",
    "print()\n",
    "print()\n",
    "\n",
    "print(\" ***** Notes des films de la semaine *****\")\n",
    "for film_rating in films_semaine_ratings:\n",
    "    print(film_rating.text)"
   ]
  },
  {
   "cell_type": "code",
   "execution_count": 8,
   "metadata": {},
   "outputs": [
    {
     "data": {
      "text/plain": [
       "[]"
      ]
     },
     "execution_count": 8,
     "metadata": {},
     "output_type": "execute_result"
    }
   ],
   "source": [
    "soup_semaine.find_all(\"a\", {\"data-testid\": \"product-title\"})"
   ]
  },
  {
   "cell_type": "markdown",
   "metadata": {},
   "source": [
    "### Critiques de films"
   ]
  },
  {
   "cell_type": "code",
   "execution_count": 53,
   "metadata": {},
   "outputs": [
    {
     "name": "stdout",
     "output_type": "stream",
     "text": [
      "[]\n"
     ]
    }
   ],
   "source": [
    "soup_critique = fetch_and_parse(f\"{BASE_URL}/critiques\")\n",
    "\n",
    "critiques = soup_critique.find_all(\"div\", {\"class\": \"sc-1x1g2b-0 sc-1x1g2b-1 jJQjZv\"})\n",
    "print(critiques)"
   ]
  }
 ],
 "metadata": {
  "kernelspec": {
   "display_name": "Python 3 (ipykernel)",
   "language": "python",
   "name": "python3"
  },
  "language_info": {
   "codemirror_mode": {
    "name": "ipython",
    "version": 3
   },
   "file_extension": ".py",
   "mimetype": "text/x-python",
   "name": "python",
   "nbconvert_exporter": "python",
   "pygments_lexer": "ipython3",
   "version": "3.11.4"
  },
  "widgets": {
   "application/vnd.jupyter.widget-state+json": {
    "state": {},
    "version_major": 2,
    "version_minor": 0
   }
  }
 },
 "nbformat": 4,
 "nbformat_minor": 4
}
