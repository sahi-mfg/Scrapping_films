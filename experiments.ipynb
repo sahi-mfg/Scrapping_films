{
 "cells": [
  {
   "cell_type": "code",
   "execution_count": 1,
   "metadata": {},
   "outputs": [],
   "source": [
    "from bs4 import BeautifulSoup as bs\n",
    "import requests"
   ]
  },
  {
   "cell_type": "markdown",
   "metadata": {},
   "source": [
    "### Films du moments"
   ]
  },
  {
   "cell_type": "code",
   "execution_count": 2,
   "metadata": {},
   "outputs": [
    {
     "name": "stdout",
     "output_type": "stream",
     "text": [
      "Le Deuxième Acte\n",
      "Challengers\n",
      "Furiosa - Une Saga Mad Max\n",
      "La Planète des singes - Le Nouveau Royaume\n",
      "Un p'tit truc en plus\n",
      "The Fall Guy\n",
      "Civil War\n",
      "Les Trois fantastiques\n",
      "When Evil Lurks\n",
      "Comme un lundi\n",
      "Borgo\n",
      "Border Line\n",
      "Jusqu’au bout du monde\n",
      "The Beekeeper\n",
      "Marcello Mio\n",
      "Le Tableau volé\n",
      "Les Intrus\n",
      "Monkey Man\n",
      "Roqya\n",
      "Back to Black\n",
      "Une affaire de principe\n",
      "L'Idée d'être avec toi\n",
      "Blue & Compagnie\n",
      "Adagio\n",
      "L'Esprit Coubertin\n",
      "Rebel Moon : Partie 2 - L'Entailleuse\n",
      "Reines\n",
      "L'Homme aux mille visages\n",
      "La Morsure\n",
      "Frères\n"
     ]
    }
   ],
   "source": [
    "url = \"https://www.senscritique.com/films/toujours-a-l-affiche\"\n",
    "request = requests.get(url)\n",
    "soup = bs(request.text, \"html.parser\")\n",
    "\n",
    "# print(soup.prettify())\n",
    "\n",
    "films_names = soup.find_all(\"a\", {\"class\": \"sc-e6f263fc-0 sc-df6b780a-1 cTWuvs lbhoSA\"})\n",
    "\n",
    "for film in films_names:\n",
    "    print(film.text)"
   ]
  },
  {
   "cell_type": "code",
   "execution_count": 3,
   "metadata": {},
   "outputs": [
    {
     "name": "stdout",
     "output_type": "stream",
     "text": [
      "6.3\n",
      "6.6\n",
      "7.6\n",
      "6.5\n",
      "6.8\n",
      "6.4\n",
      "7.1\n",
      "6.3\n",
      "6.5\n",
      "6.7\n",
      "7\n",
      "6.8\n",
      "6.5\n",
      "5.2\n",
      "5.6\n",
      "6.1\n",
      "4.3\n",
      "6.5\n",
      "5.7\n",
      "5.7\n",
      "6.6\n",
      "5.2\n",
      "6.1\n",
      "6.8\n",
      "5.4\n",
      "4\n",
      "6\n",
      "6.8\n",
      "5.4\n",
      "6.4\n"
     ]
    }
   ],
   "source": [
    "ratings = soup.find_all(\"div\", {\"class\": \"sc-8251ce8c-5 fTXQip\"})\n",
    "for rating in ratings:\n",
    "    print(rating.text)"
   ]
  },
  {
   "cell_type": "code",
   "execution_count": 4,
   "metadata": {},
   "outputs": [
    {
     "data": {
      "text/plain": [
       "{'Le Deuxième Acte': '6.3',\n",
       " 'Challengers': '6.6',\n",
       " 'Furiosa - Une Saga Mad Max': '7.6',\n",
       " 'La Planète des singes - Le Nouveau Royaume': '6.5',\n",
       " \"Un p'tit truc en plus\": '6.8',\n",
       " 'The Fall Guy': '6.4',\n",
       " 'Civil War': '7.1',\n",
       " 'Les Trois fantastiques': '6.3',\n",
       " 'When Evil Lurks': '6.5',\n",
       " 'Comme un lundi': '6.7',\n",
       " 'Borgo': '7',\n",
       " 'Border Line': '6.8',\n",
       " 'Jusqu’au bout du monde': '6.5',\n",
       " 'The Beekeeper': '5.2',\n",
       " 'Marcello Mio': '5.6',\n",
       " 'Le Tableau volé': '6.1',\n",
       " 'Les Intrus': '4.3',\n",
       " 'Monkey Man': '6.5',\n",
       " 'Roqya': '5.7',\n",
       " 'Back to Black': '5.7',\n",
       " 'Une affaire de principe': '6.6',\n",
       " \"L'Idée d'être avec toi\": '5.2',\n",
       " 'Blue & Compagnie': '6.1',\n",
       " 'Adagio': '6.8',\n",
       " \"L'Esprit Coubertin\": '5.4',\n",
       " \"Rebel Moon : Partie 2 - L'Entailleuse\": '4',\n",
       " 'Reines': '6',\n",
       " \"L'Homme aux mille visages\": '6.8',\n",
       " 'La Morsure': '5.4',\n",
       " 'Frères': '6.4'}"
      ]
     },
     "execution_count": 4,
     "metadata": {},
     "output_type": "execute_result"
    }
   ],
   "source": [
    "films = {name.text: rating.text for name, rating in zip(films_names, ratings)}\n",
    "films"
   ]
  },
  {
   "cell_type": "markdown",
   "metadata": {},
   "source": [
    "### Films à voir en streaming"
   ]
  },
  {
   "cell_type": "code",
   "execution_count": 5,
   "metadata": {},
   "outputs": [
    {
     "data": {
      "text/plain": [
       "{'The Beekeeper': '5.2',\n",
       " \"L'Idée d'être avec toi\": '5.2',\n",
       " 'Nicky Larson': '6.1',\n",
       " 'Adagio': '6.8',\n",
       " \"Unfrosted - L'épopée de la Pop-Tart\": '4.5',\n",
       " 'Baghead': '5',\n",
       " 'Baby Ruby': '5.5',\n",
       " 'Puppy Love': '5.4',\n",
       " 'La Mère de la mariée': '4'}"
      ]
     },
     "execution_count": 5,
     "metadata": {},
     "output_type": "execute_result"
    }
   ],
   "source": [
    "url = \"https://www.senscritique.com/films//streaming\"\n",
    "request = requests.get(url)\n",
    "soup = bs(request.text, \"html.parser\")\n",
    "names = soup.find_all(\"p\", {\"class\": \"sc-e6f263fc-0 sc-ee95228d-1 GItpw gJUtFN\"})\n",
    "ratings = soup.find_all(\"div\", {\"class\": \"sc-8251ce8c-5 bVyLNx globalRating\"})\n",
    "\n",
    "films = {name.text: rating.text for name, rating in zip(names, ratings)}\n",
    "films"
   ]
  },
  {
   "cell_type": "markdown",
   "metadata": {},
   "source": [
    "### Sorties de la semaine"
   ]
  },
  {
   "cell_type": "code",
   "execution_count": 39,
   "metadata": {},
   "outputs": [],
   "source": [
    "url = \"https://www.senscritique.com/films/cette-semaine\"\n",
    "request = requests.get(url)\n",
    "soup = bs(request.text, \"html.parser\")\n",
    "\n",
    "f = soup.find_all(\"div\", {\"class\": \"sc-e6f263fc-0 sc-d772dcdb-6 iZcnfH huVKPU\"}, {\"data-testid\":\"product-title\"})\n",
    "\n",
    "for film in f:\n",
    "    print(film.text)"
   ]
  },
  {
   "cell_type": "markdown",
   "metadata": {},
   "source": [
    "### Critiques de films"
   ]
  },
  {
   "cell_type": "code",
   "execution_count": 52,
   "metadata": {},
   "outputs": [
    {
     "name": "stdout",
     "output_type": "stream",
     "text": [
      "[<p class=\"sc-e6f263fc-0 sc-4db36029-4 bTynbZ irayCk\" data-testid=\"reviewTitle\" type=\"default\">\"Fut un temps où j'avais les fesses et ligne de Dennis Quaid...\"(Pierreamo). Texte d'Anne Dessuant:</p>, <p class=\"sc-e6f263fc-0 sc-4db36029-4 bTynbZ irayCk\" data-testid=\"reviewTitle\" type=\"default\">Je n’écrirai pas sur ce film</p>, <p class=\"sc-e6f263fc-0 sc-4db36029-4 bTynbZ irayCk\" data-testid=\"reviewTitle\" type=\"default\">None Nation under God</p>]\n"
     ]
    }
   ],
   "source": [
    "base_url = \"https://www.senscritique.com/films/\"\n",
    "request = requests.get(base_url)\n",
    "soup = bs(request.text, \"html.parser\")\n",
    "\n",
    "critique_titles = soup.find_all(\n",
    "    \"p\",\n",
    "    {\n",
    "        \"class\": \"sc-e6f263fc-0 sc-4db36029-4 bTynbZ irayCk\",\n",
    "    },\n",
    ")\n",
    "\n",
    "print(critique_titles)"
   ]
  },
  {
   "cell_type": "code",
   "execution_count": 51,
   "metadata": {},
   "outputs": [
    {
     "data": {
      "text/plain": [
       "['\"Fut un temps où j\\'avais les fesses et ligne de Dennis Quaid...\"(Pierreamo). Texte d\\'Anne Dessuant:',\n",
       " 'Je n’écrirai pas sur ce film',\n",
       " 'None Nation under God']"
      ]
     },
     "execution_count": 51,
     "metadata": {},
     "output_type": "execute_result"
    }
   ],
   "source": [
    "titles =  [title if title != \"\" else \"No title\" for title in critique_titles]\n",
    "titles"
   ]
  },
  {
   "cell_type": "code",
   "execution_count": 35,
   "metadata": {},
   "outputs": [
    {
     "data": {
      "text/plain": [
       "3"
      ]
     },
     "execution_count": 35,
     "metadata": {},
     "output_type": "execute_result"
    }
   ],
   "source": [
    "len(critique_titles)"
   ]
  },
  {
   "cell_type": "code",
   "execution_count": 10,
   "metadata": {},
   "outputs": [],
   "source": [
    "name_critic = soup.find_all(\"a\", {\"class\": \"sc-e6f263fc-0 sc-b7da4c5c-2 GItpw gvGKDY\"})"
   ]
  },
  {
   "cell_type": "code",
   "execution_count": 11,
   "metadata": {},
   "outputs": [],
   "source": [
    "name_critic = [name.text for name in name_critic]"
   ]
  },
  {
   "cell_type": "code",
   "execution_count": 77,
   "metadata": {},
   "outputs": [
    {
     "data": {
      "text/plain": [
       "['PierreAmo', 'Sergent_Pepper', 'Sergent_Pepper']"
      ]
     },
     "execution_count": 77,
     "metadata": {},
     "output_type": "execute_result"
    }
   ],
   "source": [
    "name_critic"
   ]
  },
  {
   "cell_type": "code",
   "execution_count": 76,
   "metadata": {},
   "outputs": [
    {
     "data": {
      "text/plain": [
       "['19', '107', '100', '10', '6', '5', '9', '21', '12']"
      ]
     },
     "execution_count": 76,
     "metadata": {},
     "output_type": "execute_result"
    }
   ],
   "source": [
    "likes_critiques = soup.find_all(\n",
    "    \"p\", {\"class\": \"sc-e6f263fc-0 sc-8d1083e0-1 GItpw XTOao\"}\n",
    ")\n",
    "\n",
    "likes_critiques = [like.text.split(\" \")[0] for like in likes_critiques]\n",
    "likes_critiques"
   ]
  },
  {
   "cell_type": "code",
   "execution_count": 73,
   "metadata": {},
   "outputs": [
    {
     "data": {
      "text/plain": [
       "['6', '13', '8', '4', '1', '5', '9']"
      ]
     },
     "execution_count": 73,
     "metadata": {},
     "output_type": "execute_result"
    }
   ],
   "source": [
    "comments = soup.find_all(\"p\", {\"class\": \"sc-e6f263fc-0 sc-3fcb6f61-1 GItpw djcKen\"})\n",
    "comments = [comment.text for comment in comments]\n",
    "comments"
   ]
  },
  {
   "cell_type": "code",
   "execution_count": 72,
   "metadata": {},
   "outputs": [
    {
     "data": {
      "text/plain": [
       "[\"Quand j'ai découvert ce film enfant sans rien en savoir, il a été un beau choc et fascinant.Mes yeux d'ado puis adulte, ne l'ont jamais revu pareil: surtout la scène plus du tout aussi démente où les...\",\n",
       " 'J’avais toutes les raisons de ne pas écrire une critique sur le premier film de Florent Bernard. La première, c’est que je savais que j’allais probablement manquer d’objectivité lorsqu’il s’agirait...',\n",
       " 'Alors que la carrière de réalisateur d’Alex Garland déclinait irrémédiablement, de l’assez fascinant Ex Machina aux démonstrations poussives de Men, le nouveau virage opéré par Civil War a tout d’une...',\n",
       " \"Jamais édité chez nous ni en VHS, ni en DVD, ni en blu-ray. Rimini vient juste de signer et annonce une sortie courant 2025. J'dis ça, j'dis quelque chose.\",\n",
       " 'Les premières images sont enfin là !',\n",
       " 'https://www.youtube.com/watch?v=8BP2y0wz49U',\n",
       " '',\n",
       " \"C'était vraiment phénoménal.\"]"
      ]
     },
     "execution_count": 72,
     "metadata": {},
     "output_type": "execute_result"
    }
   ],
   "source": [
    "critique_content = soup.find_all(\"span\", {\"class\": \"sc-e6f263fc-2 ewlOkV\"})\n",
    "critique_content = [content.text for content in critique_content]\n",
    "critique_content"
   ]
  },
  {
   "cell_type": "code",
   "execution_count": 74,
   "metadata": {},
   "outputs": [
    {
     "data": {
      "text/plain": [
       "['il y a 2 jours',\n",
       " 'le 18 avr. 2024',\n",
       " 'le 17 avr. 2024',\n",
       " 'il y a 6 jours',\n",
       " 'il y a 4 jours',\n",
       " 'il y a 4 jours']"
      ]
     },
     "execution_count": 74,
     "metadata": {},
     "output_type": "execute_result"
    }
   ],
   "source": [
    "date_critique = soup.find_all(\n",
    "    \"p\", {\"class\": \"sc-e6f263fc-0 sc-3b5d9ff1-0 GItpw dOiIbg\"}\n",
    ")\n",
    "date_critique = [date.text for date in date_critique]\n",
    "date_critique"
   ]
  },
  {
   "cell_type": "code",
   "execution_count": 75,
   "metadata": {},
   "outputs": [
    {
     "data": {
      "text/plain": [
       "['8', '8', '7']"
      ]
     },
     "execution_count": 75,
     "metadata": {},
     "output_type": "execute_result"
    }
   ],
   "source": [
    "note_critique = soup.find_all(\n",
    "    \"div\", {\"class\": \"sc-8251ce8c-3 gbAIun sc-4db36029-3 iepouY\"}\n",
    ")\n",
    "note_critique = [note.text for note in note_critique]\n",
    "note_critique"
   ]
  },
  {
   "cell_type": "code",
   "execution_count": 27,
   "metadata": {},
   "outputs": [
    {
     "name": "stdout",
     "output_type": "stream",
     "text": [
      "data:image/svg+xml,%3csvg%20xmlns=%27http://www.w3.org/2000/svg%27%20version=%271.1%27%20width=%2730%27%20height=%2730%27/%3e\n",
      "data:image/svg+xml,%3csvg%20xmlns=%27http://www.w3.org/2000/svg%27%20version=%271.1%27%20width=%2730%27%20height=%2730%27/%3e\n",
      "data:image/svg+xml,%3csvg%20xmlns=%27http://www.w3.org/2000/svg%27%20version=%271.1%27%20width=%2730%27%20height=%2730%27/%3e\n",
      "data:image/svg+xml,%3csvg%20xmlns=%27http://www.w3.org/2000/svg%27%20version=%271.1%27%20width=%2730%27%20height=%2730%27/%3e\n",
      "data:image/svg+xml,%3csvg%20xmlns=%27http://www.w3.org/2000/svg%27%20version=%271.1%27%20width=%2730%27%20height=%2730%27/%3e\n",
      "data:image/svg+xml,%3csvg%20xmlns=%27http://www.w3.org/2000/svg%27%20version=%271.1%27%20width=%2730%27%20height=%2730%27/%3e\n"
     ]
    }
   ],
   "source": [
    "photo_critique = soup.find_all(\"a\", {\"class\": \"sc-1a97d7be-3 fZBrFn\"})\n",
    "for photo in photo_critique:\n",
    "    print(photo.img[\"src\"])"
   ]
  },
  {
   "cell_type": "code",
   "execution_count": null,
   "metadata": {},
   "outputs": [],
   "source": []
  }
 ],
 "metadata": {
  "kernelspec": {
   "display_name": "Python 3 (ipykernel)",
   "language": "python",
   "name": "python3"
  },
  "language_info": {
   "codemirror_mode": {
    "name": "ipython",
    "version": 3
   },
   "file_extension": ".py",
   "mimetype": "text/x-python",
   "name": "python",
   "nbconvert_exporter": "python",
   "pygments_lexer": "ipython3",
   "version": "3.11.4"
  },
  "widgets": {
   "application/vnd.jupyter.widget-state+json": {
    "state": {},
    "version_major": 2,
    "version_minor": 0
   }
  }
 },
 "nbformat": 4,
 "nbformat_minor": 4
}
