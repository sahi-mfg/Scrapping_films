{
 "cells": [
  {
   "cell_type": "code",
   "execution_count": 3,
   "metadata": {},
   "outputs": [],
   "source": [
    "from bs4 import BeautifulSoup as bs\n",
    "import requests"
   ]
  },
  {
   "cell_type": "code",
   "execution_count": 4,
   "metadata": {},
   "outputs": [
    {
     "name": "stdout",
     "output_type": "stream",
     "text": [
      "Challengers\n",
      "The Fall Guy\n",
      "Civil War\n",
      "Un p'tit truc en plus\n",
      "Comme un lundi\n",
      "Jusqu’au bout du monde\n",
      "Le mal n'existe pas\n",
      "Borgo\n",
      "Border Line\n",
      "L'Idée d'être avec toi\n",
      "Monkey Man\n",
      "État limite\n",
      "Une affaire de principe\n",
      "Le Tableau volé\n",
      "Nous, les Leroy\n",
      "Back to Black\n",
      "Frères\n",
      "Unfrosted - L'épopée de la Pop-Tart\n",
      "LaRoy\n",
      "L'Homme aux mille visages\n",
      "Rebel Moon : Partie 2 - L'Entailleuse\n",
      "Sky Dome 2123\n",
      "La Planète des singes - Le Nouveau Royaume\n",
      "S.O.S. Fantômes - La Menace de glace\n",
      "Riddle of Fire\n",
      "L'Esprit Coubertin\n",
      "Nicky Larson\n",
      "Petites mains\n",
      "Les Cartes du mal\n",
      "Première affaire\n"
     ]
    }
   ],
   "source": [
    "url = \"https://www.senscritique.com/films/toujours-a-l-affiche\"\n",
    "request = requests.get(url)\n",
    "soup = bs(request.text, \"html.parser\")\n",
    "\n",
    "# print(soup.prettify())\n",
    "\n",
    "films_names = soup.find_all(\"a\", {\"class\": \"sc-e6f263fc-0 sc-df6b780a-1 cTWuvs lbhoSA\"})\n",
    "\n",
    "for film in films_names:\n",
    "    print(film.text)"
   ]
  },
  {
   "cell_type": "code",
   "execution_count": 5,
   "metadata": {},
   "outputs": [
    {
     "name": "stdout",
     "output_type": "stream",
     "text": [
      "6.7\n",
      "6.4\n",
      "7.1\n",
      "6.8\n",
      "7\n",
      "6.4\n",
      "7\n",
      "7\n",
      "6.8\n",
      "5.4\n",
      "6.5\n",
      "7.6\n",
      "6.6\n",
      "6.1\n",
      "6.6\n",
      "5.7\n",
      "6.4\n",
      "4.4\n",
      "6.7\n",
      "6.8\n",
      "4\n",
      "6.3\n",
      "6.8\n",
      "5.3\n",
      "6.9\n",
      "5.7\n",
      "6.1\n",
      "6.4\n",
      "4\n",
      "5.4\n"
     ]
    }
   ],
   "source": [
    "ratings = soup.find_all(\"div\", {\"class\": \"sc-8251ce8c-5 fTXQip\"})\n",
    "for rating in ratings:\n",
    "    print(rating.text)"
   ]
  },
  {
   "cell_type": "code",
   "execution_count": 6,
   "metadata": {},
   "outputs": [
    {
     "data": {
      "text/plain": [
       "{'Challengers': '6.7',\n",
       " 'The Fall Guy': '6.4',\n",
       " 'Civil War': '7.1',\n",
       " \"Un p'tit truc en plus\": '6.8',\n",
       " 'Comme un lundi': '7',\n",
       " 'Jusqu’au bout du monde': '6.4',\n",
       " \"Le mal n'existe pas\": '7',\n",
       " 'Borgo': '7',\n",
       " 'Border Line': '6.8',\n",
       " \"L'Idée d'être avec toi\": '5.4',\n",
       " 'Monkey Man': '6.5',\n",
       " 'État limite': '7.6',\n",
       " 'Une affaire de principe': '6.6',\n",
       " 'Le Tableau volé': '6.1',\n",
       " 'Nous, les Leroy': '6.6',\n",
       " 'Back to Black': '5.7',\n",
       " 'Frères': '6.4',\n",
       " \"Unfrosted - L'épopée de la Pop-Tart\": '4.4',\n",
       " 'LaRoy': '6.7',\n",
       " \"L'Homme aux mille visages\": '6.8',\n",
       " \"Rebel Moon : Partie 2 - L'Entailleuse\": '4',\n",
       " 'Sky Dome 2123': '6.3',\n",
       " 'La Planète des singes - Le Nouveau Royaume': '6.8',\n",
       " 'S.O.S. Fantômes - La Menace de glace': '5.3',\n",
       " 'Riddle of Fire': '6.9',\n",
       " \"L'Esprit Coubertin\": '5.7',\n",
       " 'Nicky Larson': '6.1',\n",
       " 'Petites mains': '6.4',\n",
       " 'Les Cartes du mal': '4',\n",
       " 'Première affaire': '5.4'}"
      ]
     },
     "execution_count": 6,
     "metadata": {},
     "output_type": "execute_result"
    }
   ],
   "source": [
    "films = {name.text: rating.text for name, rating in zip(films_names, ratings)}\n",
    "films"
   ]
  },
  {
   "cell_type": "code",
   "execution_count": 7,
   "metadata": {},
   "outputs": [
    {
     "data": {
      "text/plain": [
       "{'La Planète des singes - Le Nouveau Royaume': '6.8',\n",
       " \"Rebel Moon : Partie 2 - L'Entailleuse\": '4',\n",
       " 'Blue & Compagnie': '6.7',\n",
       " 'Nicky Larson': '6.1',\n",
       " \"L'Idée d'être avec toi\": '5.4',\n",
       " 'Baby Ruby': '5.6',\n",
       " 'The Greatest Hits': '6',\n",
       " 'Baghead': '5',\n",
       " \"Unfrosted - L'épopée de la Pop-Tart\": '4.4',\n",
       " 'Puppy Love': '5.3',\n",
       " 'Les Vérités de Jennifer': '5.8'}"
      ]
     },
     "execution_count": 7,
     "metadata": {},
     "output_type": "execute_result"
    }
   ],
   "source": [
    "url = \"https://www.senscritique.com/films//streaming\"\n",
    "request = requests.get(url)\n",
    "soup = bs(request.text, \"html.parser\")\n",
    "names = soup.find_all(\"p\", {\"class\": \"sc-e6f263fc-0 sc-ee95228d-1 GItpw gJUtFN\"})\n",
    "ratings = soup.find_all(\"div\", {\"class\": \"sc-8251ce8c-5 bVyLNx globalRating\"})\n",
    "\n",
    "films = {name.text: rating.text for name, rating in zip(names, ratings)}\n",
    "films"
   ]
  },
  {
   "cell_type": "code",
   "execution_count": 8,
   "metadata": {},
   "outputs": [
    {
     "name": "stdout",
     "output_type": "stream",
     "text": [
      "[]\n"
     ]
    }
   ],
   "source": [
    "url = \"https://www.senscritique.com/films/cette-semaine\"\n",
    "request = requests.get(url)\n",
    "soup = bs(request.text, \"html.parser\")\n",
    "\n",
    "ratings = soup.find(\"div\").find_all_next(\"a\", {\"class\": \"sc-e6f263fc-0 sc-df6b780a-1 cTWuvs lbhoSA\"})\n",
    "\n",
    "\n",
    "ratings = [rating.text for rating in ratings]\n",
    "print(ratings)"
   ]
  },
  {
   "cell_type": "code",
   "execution_count": 52,
   "metadata": {},
   "outputs": [
    {
     "name": "stdout",
     "output_type": "stream",
     "text": [
      "[<p class=\"sc-e6f263fc-0 sc-4db36029-4 bTynbZ irayCk\" data-testid=\"reviewTitle\" type=\"default\">\"Fut un temps où j'avais les fesses et ligne de Dennis Quaid...\"(Pierreamo). Texte d'Anne Dessuant:</p>, <p class=\"sc-e6f263fc-0 sc-4db36029-4 bTynbZ irayCk\" data-testid=\"reviewTitle\" type=\"default\">Je n’écrirai pas sur ce film</p>, <p class=\"sc-e6f263fc-0 sc-4db36029-4 bTynbZ irayCk\" data-testid=\"reviewTitle\" type=\"default\">None Nation under God</p>]\n"
     ]
    }
   ],
   "source": [
    "base_url = \"https://www.senscritique.com/films/\"\n",
    "request = requests.get(base_url)\n",
    "soup = bs(request.text, \"html.parser\")\n",
    "\n",
    "critique_titles = soup.find_all(\n",
    "    \"p\",\n",
    "    {\n",
    "        \"class\": \"sc-e6f263fc-0 sc-4db36029-4 bTynbZ irayCk\",\n",
    "    },\n",
    ")\n",
    "\n",
    "print(critique_titles)"
   ]
  },
  {
   "cell_type": "code",
   "execution_count": 51,
   "metadata": {},
   "outputs": [
    {
     "data": {
      "text/plain": [
       "['\"Fut un temps où j\\'avais les fesses et ligne de Dennis Quaid...\"(Pierreamo). Texte d\\'Anne Dessuant:',\n",
       " 'Je n’écrirai pas sur ce film',\n",
       " 'None Nation under God']"
      ]
     },
     "execution_count": 51,
     "metadata": {},
     "output_type": "execute_result"
    }
   ],
   "source": [
    "titles =  [title if title != \"\" else \"No title\" for title in critique_titles]\n",
    "titles"
   ]
  },
  {
   "cell_type": "code",
   "execution_count": 35,
   "metadata": {},
   "outputs": [
    {
     "data": {
      "text/plain": [
       "3"
      ]
     },
     "execution_count": 35,
     "metadata": {},
     "output_type": "execute_result"
    }
   ],
   "source": [
    "len(critique_titles)"
   ]
  },
  {
   "cell_type": "code",
   "execution_count": 10,
   "metadata": {},
   "outputs": [],
   "source": [
    "name_critic = soup.find_all(\"a\", {\"class\": \"sc-e6f263fc-0 sc-b7da4c5c-2 GItpw gvGKDY\"})"
   ]
  },
  {
   "cell_type": "code",
   "execution_count": 11,
   "metadata": {},
   "outputs": [],
   "source": [
    "name_critic = [name.text for name in name_critic]"
   ]
  },
  {
   "cell_type": "code",
   "execution_count": 77,
   "metadata": {},
   "outputs": [
    {
     "data": {
      "text/plain": [
       "['PierreAmo', 'Sergent_Pepper', 'Sergent_Pepper']"
      ]
     },
     "execution_count": 77,
     "metadata": {},
     "output_type": "execute_result"
    }
   ],
   "source": [
    "name_critic"
   ]
  },
  {
   "cell_type": "code",
   "execution_count": 76,
   "metadata": {},
   "outputs": [
    {
     "data": {
      "text/plain": [
       "['19', '107', '100', '10', '6', '5', '9', '21', '12']"
      ]
     },
     "execution_count": 76,
     "metadata": {},
     "output_type": "execute_result"
    }
   ],
   "source": [
    "likes_critiques = soup.find_all(\n",
    "    \"p\", {\"class\": \"sc-e6f263fc-0 sc-8d1083e0-1 GItpw XTOao\"}\n",
    ")\n",
    "\n",
    "likes_critiques = [like.text.split(\" \")[0] for like in likes_critiques]\n",
    "likes_critiques"
   ]
  },
  {
   "cell_type": "code",
   "execution_count": 73,
   "metadata": {},
   "outputs": [
    {
     "data": {
      "text/plain": [
       "['6', '13', '8', '4', '1', '5', '9']"
      ]
     },
     "execution_count": 73,
     "metadata": {},
     "output_type": "execute_result"
    }
   ],
   "source": [
    "comments = soup.find_all(\"p\", {\"class\": \"sc-e6f263fc-0 sc-3fcb6f61-1 GItpw djcKen\"})\n",
    "comments = [comment.text for comment in comments]\n",
    "comments"
   ]
  },
  {
   "cell_type": "code",
   "execution_count": 72,
   "metadata": {},
   "outputs": [
    {
     "data": {
      "text/plain": [
       "[\"Quand j'ai découvert ce film enfant sans rien en savoir, il a été un beau choc et fascinant.Mes yeux d'ado puis adulte, ne l'ont jamais revu pareil: surtout la scène plus du tout aussi démente où les...\",\n",
       " 'J’avais toutes les raisons de ne pas écrire une critique sur le premier film de Florent Bernard. La première, c’est que je savais que j’allais probablement manquer d’objectivité lorsqu’il s’agirait...',\n",
       " 'Alors que la carrière de réalisateur d’Alex Garland déclinait irrémédiablement, de l’assez fascinant Ex Machina aux démonstrations poussives de Men, le nouveau virage opéré par Civil War a tout d’une...',\n",
       " \"Jamais édité chez nous ni en VHS, ni en DVD, ni en blu-ray. Rimini vient juste de signer et annonce une sortie courant 2025. J'dis ça, j'dis quelque chose.\",\n",
       " 'Les premières images sont enfin là !',\n",
       " 'https://www.youtube.com/watch?v=8BP2y0wz49U',\n",
       " '',\n",
       " \"C'était vraiment phénoménal.\"]"
      ]
     },
     "execution_count": 72,
     "metadata": {},
     "output_type": "execute_result"
    }
   ],
   "source": [
    "critique_content = soup.find_all(\"span\", {\"class\": \"sc-e6f263fc-2 ewlOkV\"})\n",
    "critique_content = [content.text for content in critique_content]\n",
    "critique_content"
   ]
  },
  {
   "cell_type": "code",
   "execution_count": 74,
   "metadata": {},
   "outputs": [
    {
     "data": {
      "text/plain": [
       "['il y a 2 jours',\n",
       " 'le 18 avr. 2024',\n",
       " 'le 17 avr. 2024',\n",
       " 'il y a 6 jours',\n",
       " 'il y a 4 jours',\n",
       " 'il y a 4 jours']"
      ]
     },
     "execution_count": 74,
     "metadata": {},
     "output_type": "execute_result"
    }
   ],
   "source": [
    "date_critique = soup.find_all(\n",
    "    \"p\", {\"class\": \"sc-e6f263fc-0 sc-3b5d9ff1-0 GItpw dOiIbg\"}\n",
    ")\n",
    "date_critique = [date.text for date in date_critique]\n",
    "date_critique"
   ]
  },
  {
   "cell_type": "code",
   "execution_count": 75,
   "metadata": {},
   "outputs": [
    {
     "data": {
      "text/plain": [
       "['8', '8', '7']"
      ]
     },
     "execution_count": 75,
     "metadata": {},
     "output_type": "execute_result"
    }
   ],
   "source": [
    "note_critique = soup.find_all(\n",
    "    \"div\", {\"class\": \"sc-8251ce8c-3 gbAIun sc-4db36029-3 iepouY\"}\n",
    ")\n",
    "note_critique = [note.text for note in note_critique]\n",
    "note_critique"
   ]
  },
  {
   "cell_type": "code",
   "execution_count": 27,
   "metadata": {},
   "outputs": [
    {
     "name": "stdout",
     "output_type": "stream",
     "text": [
      "data:image/svg+xml,%3csvg%20xmlns=%27http://www.w3.org/2000/svg%27%20version=%271.1%27%20width=%2730%27%20height=%2730%27/%3e\n",
      "data:image/svg+xml,%3csvg%20xmlns=%27http://www.w3.org/2000/svg%27%20version=%271.1%27%20width=%2730%27%20height=%2730%27/%3e\n",
      "data:image/svg+xml,%3csvg%20xmlns=%27http://www.w3.org/2000/svg%27%20version=%271.1%27%20width=%2730%27%20height=%2730%27/%3e\n",
      "data:image/svg+xml,%3csvg%20xmlns=%27http://www.w3.org/2000/svg%27%20version=%271.1%27%20width=%2730%27%20height=%2730%27/%3e\n",
      "data:image/svg+xml,%3csvg%20xmlns=%27http://www.w3.org/2000/svg%27%20version=%271.1%27%20width=%2730%27%20height=%2730%27/%3e\n",
      "data:image/svg+xml,%3csvg%20xmlns=%27http://www.w3.org/2000/svg%27%20version=%271.1%27%20width=%2730%27%20height=%2730%27/%3e\n"
     ]
    }
   ],
   "source": [
    "photo_critique = soup.find_all(\"a\", {\"class\": \"sc-1a97d7be-3 fZBrFn\"})\n",
    "for photo in photo_critique:\n",
    "    print(photo.img[\"src\"])"
   ]
  },
  {
   "cell_type": "code",
   "execution_count": 41,
   "metadata": {},
   "outputs": [
    {
     "data": {
      "text/plain": [
       "6"
      ]
     },
     "execution_count": 41,
     "metadata": {},
     "output_type": "execute_result"
    }
   ],
   "source": [
    "len(photo_critique)"
   ]
  },
  {
   "cell_type": "code",
   "execution_count": 42,
   "metadata": {},
   "outputs": [
    {
     "data": {
      "text/plain": [
       "3"
      ]
     },
     "execution_count": 42,
     "metadata": {},
     "output_type": "execute_result"
    }
   ],
   "source": [
    "len(note_critique)"
   ]
  },
  {
   "cell_type": "code",
   "execution_count": 43,
   "metadata": {},
   "outputs": [
    {
     "data": {
      "text/plain": [
       "6"
      ]
     },
     "execution_count": 43,
     "metadata": {},
     "output_type": "execute_result"
    }
   ],
   "source": [
    "len(date_critique)"
   ]
  },
  {
   "cell_type": "code",
   "execution_count": 44,
   "metadata": {},
   "outputs": [
    {
     "data": {
      "text/plain": [
       "8"
      ]
     },
     "execution_count": 44,
     "metadata": {},
     "output_type": "execute_result"
    }
   ],
   "source": [
    "len(critique_content)"
   ]
  },
  {
   "cell_type": "code",
   "execution_count": 45,
   "metadata": {},
   "outputs": [
    {
     "data": {
      "text/plain": [
       "7"
      ]
     },
     "execution_count": 45,
     "metadata": {},
     "output_type": "execute_result"
    }
   ],
   "source": [
    "len(comments)"
   ]
  },
  {
   "cell_type": "code",
   "execution_count": 46,
   "metadata": {},
   "outputs": [
    {
     "data": {
      "text/plain": [
       "9"
      ]
     },
     "execution_count": 46,
     "metadata": {},
     "output_type": "execute_result"
    }
   ],
   "source": [
    "len(likes_critiques)"
   ]
  },
  {
   "cell_type": "code",
   "execution_count": 92,
   "metadata": {},
   "outputs": [
    {
     "data": {
      "text/plain": [
       "[<div class=\"sc-328d61f-2 dLhSYv\"><div class=\"sc-328d61f-5 ljxugn\" data-testid=\"arrow-wrapper\"><span class=\"sc-66b0902d-0 dXbNDQ\"><svg class=\"\" fill=\"none\" height=\"34\" viewbox=\"0 0 34 34\" width=\"34\" xmlns=\"http://www.w3.org/2000/svg\"><path clip-rule=\"evenodd\" d=\"M18.8889 1L34 17L18.8889 33L17 30.9683L29.9861 17L17 3.03175\" fill=\"#1A1A1A\" fill-rule=\"evenodd\"></path></svg></span></div><div class=\"sc-328d61f-3 eMXXnI\" data-testid=\"items-wrapper\" itemtype=\"product\"><div class=\"sc-328d61f-4 fdFAPT\" data-testid=\"item-wrapper\"><div class=\"sc-3ef21923-1 cKacYt\" data-testid=\"product-card\"><div class=\"sc-9ddc3db1-0 iVzxSC\" data-testid=\"product-actions-hover\"><div class=\"sc-fe6f7617-1 ksIjGx\" data-testid=\"poster\" height=\"160\" width=\"114\"><a class=\"sc-fe6f7617-2 kLAJJN\" data-testid=\"poster\" height=\"160\" href=\"/film/challengers/46541533\" width=\"114\"><span class=\"sc-fe6f7617-10 ioLqwl\" data-srcname=\"https://media.senscritique.com/media/000022070044/300/challengers.png\" data-testid=\"poster-img-wrapper\"><span style=\"box-sizing:border-box;display:inline-block;overflow:hidden;width:initial;height:initial;background:none;opacity:1;border:0;margin:0;padding:0;position:relative;max-width:100%\"><span style=\"box-sizing:border-box;display:block;width:initial;height:initial;background:none;opacity:1;border:0;margin:0;padding:0;max-width:100%\"><img alt=\"\" aria-hidden=\"true\" src=\"data:image/svg+xml,%3csvg%20xmlns=%27http://www.w3.org/2000/svg%27%20version=%271.1%27%20width=%27114%27%20height=%27160%27/%3e\" style=\"display:block;max-width:100%;width:initial;height:initial;background:none;opacity:1;border:0;margin:0;padding:0\"/></span><img alt=\"Challengers\" data-cfstyle=\"22222\" data-nimg=\"intrinsic\" data-testid=\"poster-img\" decoding=\"async\" src=\"data:image/gif;base64,R0lGODlhAQABAIAAAAAAAP///yH5BAEAAAAALAAAAAABAAEAAAIBRAA7\" style=\"position:absolute;top:0;left:0;bottom:0;right:0;box-sizing:border-box;padding:0;border:none;margin:auto;display:block;width:0;height:0;min-width:100%;max-width:100%;min-height:100%;max-height:100%\"/><noscript><img alt=\"Challengers\" data-cfstyle=\"22222\" data-nimg=\"intrinsic\" data-testid=\"poster-img\" decoding=\"async\" loading=\"lazy\" src=\"https://media.senscritique.com/media/000022070044/300/challengers.png\" style=\"position:absolute;top:0;left:0;bottom:0;right:0;box-sizing:border-box;padding:0;border:none;margin:auto;display:block;width:0;height:0;min-width:100%;max-width:100%;min-height:100%;max-height:100%\"/></noscript></span></span></a><div class=\"sc-fe6f7617-3 bMZpRJ\" data-prevent-tooltip=\"true\"><div class=\"sc-fe6f7617-8 hfGrLo\"><div class=\"sc-8251ce8c-5 bVyLNx globalRating\" data-testid=\"Rating\">6.7</div></div></div></div><a class=\"sc-e6f263fc-0 sc-df6b780a-1 iZcnfH lbhoSA sc-3ef21923-0 itLWIo\" data-testid=\"link\" href=\"/film/challengers/46541533\">Challengers</a></div></div></div><div class=\"sc-328d61f-4 fdFAPT\" data-testid=\"item-wrapper\"><div class=\"sc-3ef21923-1 cKacYt\" data-testid=\"product-card\"><div class=\"sc-9ddc3db1-0 iVzxSC\" data-testid=\"product-actions-hover\"><div class=\"sc-fe6f7617-1 ksIjGx\" data-testid=\"poster\" height=\"160\" width=\"114\"><a class=\"sc-fe6f7617-2 kLAJJN\" data-testid=\"poster\" height=\"160\" href=\"/film/the_fall_guy/49641697\" width=\"114\"><span class=\"sc-fe6f7617-10 ioLqwl\" data-srcname=\"https://media.senscritique.com/media/000022029315/300/the_fall_guy.png\" data-testid=\"poster-img-wrapper\"><span style=\"box-sizing:border-box;display:inline-block;overflow:hidden;width:initial;height:initial;background:none;opacity:1;border:0;margin:0;padding:0;position:relative;max-width:100%\"><span style=\"box-sizing:border-box;display:block;width:initial;height:initial;background:none;opacity:1;border:0;margin:0;padding:0;max-width:100%\"><img alt=\"\" aria-hidden=\"true\" src=\"data:image/svg+xml,%3csvg%20xmlns=%27http://www.w3.org/2000/svg%27%20version=%271.1%27%20width=%27114%27%20height=%27160%27/%3e\" style=\"display:block;max-width:100%;width:initial;height:initial;background:none;opacity:1;border:0;margin:0;padding:0\"/></span><img alt=\"The Fall Guy\" data-cfstyle=\"22222\" data-nimg=\"intrinsic\" data-testid=\"poster-img\" decoding=\"async\" src=\"data:image/gif;base64,R0lGODlhAQABAIAAAAAAAP///yH5BAEAAAAALAAAAAABAAEAAAIBRAA7\" style=\"position:absolute;top:0;left:0;bottom:0;right:0;box-sizing:border-box;padding:0;border:none;margin:auto;display:block;width:0;height:0;min-width:100%;max-width:100%;min-height:100%;max-height:100%\"/><noscript><img alt=\"The Fall Guy\" data-cfstyle=\"22222\" data-nimg=\"intrinsic\" data-testid=\"poster-img\" decoding=\"async\" loading=\"lazy\" src=\"https://media.senscritique.com/media/000022029315/300/the_fall_guy.png\" style=\"position:absolute;top:0;left:0;bottom:0;right:0;box-sizing:border-box;padding:0;border:none;margin:auto;display:block;width:0;height:0;min-width:100%;max-width:100%;min-height:100%;max-height:100%\"/></noscript></span></span></a><div class=\"sc-fe6f7617-3 bMZpRJ\" data-prevent-tooltip=\"true\"><div class=\"sc-fe6f7617-8 hfGrLo\"><div class=\"sc-8251ce8c-5 bVyLNx globalRating\" data-testid=\"Rating\">6.4</div></div></div></div><a class=\"sc-e6f263fc-0 sc-df6b780a-1 iZcnfH lbhoSA sc-3ef21923-0 itLWIo\" data-testid=\"link\" href=\"/film/the_fall_guy/49641697\">The Fall Guy</a></div></div></div><div class=\"sc-328d61f-4 fdFAPT\" data-testid=\"item-wrapper\"><div class=\"sc-3ef21923-1 cKacYt\" data-testid=\"product-card\"><div class=\"sc-9ddc3db1-0 iVzxSC\" data-testid=\"product-actions-hover\"><div class=\"sc-fe6f7617-1 ksIjGx\" data-testid=\"poster\" height=\"160\" width=\"114\"><a class=\"sc-fe6f7617-2 kLAJJN\" data-testid=\"poster\" height=\"160\" href=\"/film/civil_war/46283219\" width=\"114\"><span class=\"sc-fe6f7617-10 ioLqwl\" data-srcname=\"https://media.senscritique.com/media/000021964299/300/civil_war.png\" data-testid=\"poster-img-wrapper\"><span style=\"box-sizing:border-box;display:inline-block;overflow:hidden;width:initial;height:initial;background:none;opacity:1;border:0;margin:0;padding:0;position:relative;max-width:100%\"><span style=\"box-sizing:border-box;display:block;width:initial;height:initial;background:none;opacity:1;border:0;margin:0;padding:0;max-width:100%\"><img alt=\"\" aria-hidden=\"true\" src=\"data:image/svg+xml,%3csvg%20xmlns=%27http://www.w3.org/2000/svg%27%20version=%271.1%27%20width=%27114%27%20height=%27160%27/%3e\" style=\"display:block;max-width:100%;width:initial;height:initial;background:none;opacity:1;border:0;margin:0;padding:0\"/></span><img alt=\"Civil War\" data-cfstyle=\"22222\" data-nimg=\"intrinsic\" data-testid=\"poster-img\" decoding=\"async\" src=\"data:image/gif;base64,R0lGODlhAQABAIAAAAAAAP///yH5BAEAAAAALAAAAAABAAEAAAIBRAA7\" style=\"position:absolute;top:0;left:0;bottom:0;right:0;box-sizing:border-box;padding:0;border:none;margin:auto;display:block;width:0;height:0;min-width:100%;max-width:100%;min-height:100%;max-height:100%\"/><noscript><img alt=\"Civil War\" data-cfstyle=\"22222\" data-nimg=\"intrinsic\" data-testid=\"poster-img\" decoding=\"async\" loading=\"lazy\" src=\"https://media.senscritique.com/media/000021964299/300/civil_war.png\" style=\"position:absolute;top:0;left:0;bottom:0;right:0;box-sizing:border-box;padding:0;border:none;margin:auto;display:block;width:0;height:0;min-width:100%;max-width:100%;min-height:100%;max-height:100%\"/></noscript></span></span></a><div class=\"sc-fe6f7617-3 bMZpRJ\" data-prevent-tooltip=\"true\"><div class=\"sc-fe6f7617-8 hfGrLo\"><div class=\"sc-8251ce8c-5 bVyLNx globalRating\" data-testid=\"Rating\">7.1</div></div></div></div><a class=\"sc-e6f263fc-0 sc-df6b780a-1 iZcnfH lbhoSA sc-3ef21923-0 itLWIo\" data-testid=\"link\" href=\"/film/civil_war/46283219\">Civil War</a></div></div></div><div class=\"sc-328d61f-4 fdFAPT\" data-testid=\"item-wrapper\"><div class=\"sc-3ef21923-1 cKacYt\" data-testid=\"product-card\"><div class=\"sc-9ddc3db1-0 iVzxSC\" data-testid=\"product-actions-hover\"><div class=\"sc-fe6f7617-1 ksIjGx\" data-testid=\"poster\" height=\"160\" width=\"114\"><a class=\"sc-fe6f7617-2 kLAJJN\" data-testid=\"poster\" height=\"160\" href=\"/film/un_p_tit_truc_en_plus/68714144\" width=\"114\"><span class=\"sc-fe6f7617-10 ioLqwl\" data-srcname=\"https://media.senscritique.com/media/000022090777/300/un_p_tit_truc_en_plus.png\" data-testid=\"poster-img-wrapper\"><span style=\"box-sizing:border-box;display:inline-block;overflow:hidden;width:initial;height:initial;background:none;opacity:1;border:0;margin:0;padding:0;position:relative;max-width:100%\"><span style=\"box-sizing:border-box;display:block;width:initial;height:initial;background:none;opacity:1;border:0;margin:0;padding:0;max-width:100%\"><img alt=\"\" aria-hidden=\"true\" src=\"data:image/svg+xml,%3csvg%20xmlns=%27http://www.w3.org/2000/svg%27%20version=%271.1%27%20width=%27114%27%20height=%27160%27/%3e\" style=\"display:block;max-width:100%;width:initial;height:initial;background:none;opacity:1;border:0;margin:0;padding:0\"/></span><img alt=\"Un p'tit truc en plus\" data-cfstyle=\"22222\" data-nimg=\"intrinsic\" data-testid=\"poster-img\" decoding=\"async\" src=\"data:image/gif;base64,R0lGODlhAQABAIAAAAAAAP///yH5BAEAAAAALAAAAAABAAEAAAIBRAA7\" style=\"position:absolute;top:0;left:0;bottom:0;right:0;box-sizing:border-box;padding:0;border:none;margin:auto;display:block;width:0;height:0;min-width:100%;max-width:100%;min-height:100%;max-height:100%\"/><noscript><img alt=\"Un p'tit truc en plus\" data-cfstyle=\"22222\" data-nimg=\"intrinsic\" data-testid=\"poster-img\" decoding=\"async\" loading=\"lazy\" src=\"https://media.senscritique.com/media/000022090777/300/un_p_tit_truc_en_plus.png\" style=\"position:absolute;top:0;left:0;bottom:0;right:0;box-sizing:border-box;padding:0;border:none;margin:auto;display:block;width:0;height:0;min-width:100%;max-width:100%;min-height:100%;max-height:100%\"/></noscript></span></span></a><div class=\"sc-fe6f7617-3 bMZpRJ\" data-prevent-tooltip=\"true\"><div class=\"sc-fe6f7617-8 hfGrLo\"><div class=\"sc-8251ce8c-5 bVyLNx globalRating\" data-testid=\"Rating\">6.8</div></div></div></div><a class=\"sc-e6f263fc-0 sc-df6b780a-1 iZcnfH lbhoSA sc-3ef21923-0 itLWIo\" data-testid=\"link\" href=\"/film/un_p_tit_truc_en_plus/68714144\">Un p'tit truc en plus</a></div></div></div><div class=\"sc-328d61f-4 fdFAPT\" data-testid=\"item-wrapper\"><div class=\"sc-3ef21923-1 cKacYt\" data-testid=\"product-card\"><div class=\"sc-9ddc3db1-0 iVzxSC\" data-testid=\"product-actions-hover\"><div class=\"sc-fe6f7617-1 ksIjGx\" data-testid=\"poster\" height=\"160\" width=\"114\"><a class=\"sc-fe6f7617-2 kLAJJN\" data-testid=\"poster\" height=\"160\" href=\"/film/comme_un_lundi/55687400\" width=\"114\"><span class=\"sc-fe6f7617-10 ioLqwl\" data-srcname=\"https://media.senscritique.com/media/000021867327/300/comme_un_lundi.png\" data-testid=\"poster-img-wrapper\"><span style=\"box-sizing:border-box;display:inline-block;overflow:hidden;width:initial;height:initial;background:none;opacity:1;border:0;margin:0;padding:0;position:relative;max-width:100%\"><span style=\"box-sizing:border-box;display:block;width:initial;height:initial;background:none;opacity:1;border:0;margin:0;padding:0;max-width:100%\"><img alt=\"\" aria-hidden=\"true\" src=\"data:image/svg+xml,%3csvg%20xmlns=%27http://www.w3.org/2000/svg%27%20version=%271.1%27%20width=%27114%27%20height=%27160%27/%3e\" style=\"display:block;max-width:100%;width:initial;height:initial;background:none;opacity:1;border:0;margin:0;padding:0\"/></span><img alt=\"Comme un lundi\" data-cfstyle=\"22222\" data-nimg=\"intrinsic\" data-testid=\"poster-img\" decoding=\"async\" src=\"data:image/gif;base64,R0lGODlhAQABAIAAAAAAAP///yH5BAEAAAAALAAAAAABAAEAAAIBRAA7\" style=\"position:absolute;top:0;left:0;bottom:0;right:0;box-sizing:border-box;padding:0;border:none;margin:auto;display:block;width:0;height:0;min-width:100%;max-width:100%;min-height:100%;max-height:100%\"/><noscript><img alt=\"Comme un lundi\" data-cfstyle=\"22222\" data-nimg=\"intrinsic\" data-testid=\"poster-img\" decoding=\"async\" loading=\"lazy\" src=\"https://media.senscritique.com/media/000021867327/300/comme_un_lundi.png\" style=\"position:absolute;top:0;left:0;bottom:0;right:0;box-sizing:border-box;padding:0;border:none;margin:auto;display:block;width:0;height:0;min-width:100%;max-width:100%;min-height:100%;max-height:100%\"/></noscript></span></span></a><div class=\"sc-fe6f7617-3 bMZpRJ\" data-prevent-tooltip=\"true\"><div class=\"sc-fe6f7617-8 hfGrLo\"><div class=\"sc-8251ce8c-5 bVyLNx globalRating\" data-testid=\"Rating\">7</div></div></div></div><a class=\"sc-e6f263fc-0 sc-df6b780a-1 iZcnfH lbhoSA sc-3ef21923-0 itLWIo\" data-testid=\"link\" href=\"/film/comme_un_lundi/55687400\">Comme un lundi</a></div></div></div><div class=\"sc-328d61f-4 fdFAPT\" data-testid=\"item-wrapper\"><div class=\"sc-3ef21923-1 cKacYt\" data-testid=\"product-card\"><div class=\"sc-9ddc3db1-0 iVzxSC\" data-testid=\"product-actions-hover\"><div class=\"sc-fe6f7617-1 ksIjGx\" data-testid=\"poster\" height=\"160\" width=\"114\"><a class=\"sc-fe6f7617-2 kLAJJN\" data-testid=\"poster\" height=\"160\" href=\"/film/jusquau_bout_du_monde/51695975\" width=\"114\"><span class=\"sc-fe6f7617-10 ioLqwl\" data-srcname=\"https://media.senscritique.com/media/000021952455/300/jusquau_bout_du_monde.jpg\" data-testid=\"poster-img-wrapper\"><span style=\"box-sizing:border-box;display:inline-block;overflow:hidden;width:initial;height:initial;background:none;opacity:1;border:0;margin:0;padding:0;position:relative;max-width:100%\"><span style=\"box-sizing:border-box;display:block;width:initial;height:initial;background:none;opacity:1;border:0;margin:0;padding:0;max-width:100%\"><img alt=\"\" aria-hidden=\"true\" src=\"data:image/svg+xml,%3csvg%20xmlns=%27http://www.w3.org/2000/svg%27%20version=%271.1%27%20width=%27114%27%20height=%27160%27/%3e\" style=\"display:block;max-width:100%;width:initial;height:initial;background:none;opacity:1;border:0;margin:0;padding:0\"/></span><img alt=\"Jusqu’au bout du monde\" data-cfstyle=\"22222\" data-nimg=\"intrinsic\" data-testid=\"poster-img\" decoding=\"async\" src=\"data:image/gif;base64,R0lGODlhAQABAIAAAAAAAP///yH5BAEAAAAALAAAAAABAAEAAAIBRAA7\" style=\"position:absolute;top:0;left:0;bottom:0;right:0;box-sizing:border-box;padding:0;border:none;margin:auto;display:block;width:0;height:0;min-width:100%;max-width:100%;min-height:100%;max-height:100%\"/><noscript><img alt=\"Jusqu’au bout du monde\" data-cfstyle=\"22222\" data-nimg=\"intrinsic\" data-testid=\"poster-img\" decoding=\"async\" loading=\"lazy\" src=\"https://media.senscritique.com/media/000021952455/300/jusquau_bout_du_monde.jpg\" style=\"position:absolute;top:0;left:0;bottom:0;right:0;box-sizing:border-box;padding:0;border:none;margin:auto;display:block;width:0;height:0;min-width:100%;max-width:100%;min-height:100%;max-height:100%\"/></noscript></span></span></a><div class=\"sc-fe6f7617-3 bMZpRJ\" data-prevent-tooltip=\"true\"><div class=\"sc-fe6f7617-8 hfGrLo\"><div class=\"sc-8251ce8c-5 bVyLNx globalRating\" data-testid=\"Rating\">6.4</div></div></div></div><a class=\"sc-e6f263fc-0 sc-df6b780a-1 iZcnfH lbhoSA sc-3ef21923-0 itLWIo\" data-testid=\"link\" href=\"/film/jusquau_bout_du_monde/51695975\">Jusqu’au bout du monde</a></div></div></div></div><div class=\"sc-328d61f-6 broUYZ\" data-testid=\"arrow-wrapper\"><span class=\"sc-66b0902d-0 dXbNDQ\"><svg class=\"\" fill=\"none\" height=\"34\" viewbox=\"0 0 34 34\" width=\"34\" xmlns=\"http://www.w3.org/2000/svg\"><path clip-rule=\"evenodd\" d=\"M18.8889 1L34 17L18.8889 33L17 30.9683L29.9861 17L17 3.03175\" fill=\"#1A1A1A\" fill-rule=\"evenodd\"></path></svg></span></div></div>,\n",
       " <div class=\"sc-328d61f-2 dLhSYv\"><div class=\"sc-328d61f-5 ljxugn\" data-testid=\"arrow-wrapper\"><span class=\"sc-66b0902d-0 dXbNDQ\"><svg class=\"\" fill=\"none\" height=\"34\" viewbox=\"0 0 34 34\" width=\"34\" xmlns=\"http://www.w3.org/2000/svg\"><path clip-rule=\"evenodd\" d=\"M18.8889 1L34 17L18.8889 33L17 30.9683L29.9861 17L17 3.03175\" fill=\"#1A1A1A\" fill-rule=\"evenodd\"></path></svg></span></div><div class=\"sc-328d61f-3 eMXXnI\" data-testid=\"items-wrapper\" itemtype=\"product\"><div class=\"sc-328d61f-4 fdFAPT\" data-testid=\"item-wrapper\"><div class=\"sc-3ef21923-1 cKacYt\" data-testid=\"product-card\"><div class=\"sc-9ddc3db1-0 iVzxSC\" data-testid=\"product-actions-hover\"><div class=\"sc-fe6f7617-1 ksIjGx\" data-testid=\"poster\" height=\"160\" width=\"114\"><a class=\"sc-fe6f7617-2 kLAJJN\" data-testid=\"poster\" height=\"160\" href=\"/film/l_idee_d_etre_avec_toi/50613251\" width=\"114\"><span class=\"sc-fe6f7617-10 ioLqwl\" data-srcname=\"https://media.senscritique.com/media/000022071727/300/l_idee_d_etre_avec_toi.png\" data-testid=\"poster-img-wrapper\"><span style=\"box-sizing:border-box;display:inline-block;overflow:hidden;width:initial;height:initial;background:none;opacity:1;border:0;margin:0;padding:0;position:relative;max-width:100%\"><span style=\"box-sizing:border-box;display:block;width:initial;height:initial;background:none;opacity:1;border:0;margin:0;padding:0;max-width:100%\"><img alt=\"\" aria-hidden=\"true\" src=\"data:image/svg+xml,%3csvg%20xmlns=%27http://www.w3.org/2000/svg%27%20version=%271.1%27%20width=%27114%27%20height=%27160%27/%3e\" style=\"display:block;max-width:100%;width:initial;height:initial;background:none;opacity:1;border:0;margin:0;padding:0\"/></span><img alt=\"L'Idée d'être avec toi\" data-cfstyle=\"22222\" data-nimg=\"intrinsic\" data-testid=\"poster-img\" decoding=\"async\" src=\"data:image/gif;base64,R0lGODlhAQABAIAAAAAAAP///yH5BAEAAAAALAAAAAABAAEAAAIBRAA7\" style=\"position:absolute;top:0;left:0;bottom:0;right:0;box-sizing:border-box;padding:0;border:none;margin:auto;display:block;width:0;height:0;min-width:100%;max-width:100%;min-height:100%;max-height:100%\"/><noscript><img alt=\"L'Idée d'être avec toi\" data-cfstyle=\"22222\" data-nimg=\"intrinsic\" data-testid=\"poster-img\" decoding=\"async\" loading=\"lazy\" src=\"https://media.senscritique.com/media/000022071727/300/l_idee_d_etre_avec_toi.png\" style=\"position:absolute;top:0;left:0;bottom:0;right:0;box-sizing:border-box;padding:0;border:none;margin:auto;display:block;width:0;height:0;min-width:100%;max-width:100%;min-height:100%;max-height:100%\"/></noscript></span></span></a><div class=\"sc-fe6f7617-3 bMZpRJ\" data-prevent-tooltip=\"true\"><div class=\"sc-fe6f7617-8 hfGrLo\"><div class=\"sc-8251ce8c-5 bVyLNx globalRating\" data-testid=\"Rating\">5.4</div></div></div></div><a class=\"sc-e6f263fc-0 sc-df6b780a-1 iZcnfH lbhoSA sc-3ef21923-0 itLWIo\" data-testid=\"link\" href=\"/film/l_idee_d_etre_avec_toi/50613251\">L'Idée d'être avec toi</a></div></div></div><div class=\"sc-328d61f-4 fdFAPT\" data-testid=\"item-wrapper\"><div class=\"sc-3ef21923-1 cKacYt\" data-testid=\"product-card\"><div class=\"sc-9ddc3db1-0 iVzxSC\" data-testid=\"product-actions-hover\"><div class=\"sc-fe6f7617-1 ksIjGx\" data-testid=\"poster\" height=\"160\" width=\"114\"><a class=\"sc-fe6f7617-2 kLAJJN\" data-testid=\"poster\" height=\"160\" href=\"/film/la_planete_des_singes_le_nouveau_royaume/40806176\" width=\"114\"><span class=\"sc-fe6f7617-10 ioLqwl\" data-srcname=\"https://media.senscritique.com/media/000022090769/300/la_planete_des_singes_le_nouveau_royaume.png\" data-testid=\"poster-img-wrapper\"><span style=\"box-sizing:border-box;display:inline-block;overflow:hidden;width:initial;height:initial;background:none;opacity:1;border:0;margin:0;padding:0;position:relative;max-width:100%\"><span style=\"box-sizing:border-box;display:block;width:initial;height:initial;background:none;opacity:1;border:0;margin:0;padding:0;max-width:100%\"><img alt=\"\" aria-hidden=\"true\" src=\"data:image/svg+xml,%3csvg%20xmlns=%27http://www.w3.org/2000/svg%27%20version=%271.1%27%20width=%27114%27%20height=%27160%27/%3e\" style=\"display:block;max-width:100%;width:initial;height:initial;background:none;opacity:1;border:0;margin:0;padding:0\"/></span><img alt=\"La Planète des singes - Le Nouveau Royaume\" data-cfstyle=\"22222\" data-nimg=\"intrinsic\" data-testid=\"poster-img\" decoding=\"async\" src=\"data:image/gif;base64,R0lGODlhAQABAIAAAAAAAP///yH5BAEAAAAALAAAAAABAAEAAAIBRAA7\" style=\"position:absolute;top:0;left:0;bottom:0;right:0;box-sizing:border-box;padding:0;border:none;margin:auto;display:block;width:0;height:0;min-width:100%;max-width:100%;min-height:100%;max-height:100%\"/><noscript><img alt=\"La Planète des singes - Le Nouveau Royaume\" data-cfstyle=\"22222\" data-nimg=\"intrinsic\" data-testid=\"poster-img\" decoding=\"async\" loading=\"lazy\" src=\"https://media.senscritique.com/media/000022090769/300/la_planete_des_singes_le_nouveau_royaume.png\" style=\"position:absolute;top:0;left:0;bottom:0;right:0;box-sizing:border-box;padding:0;border:none;margin:auto;display:block;width:0;height:0;min-width:100%;max-width:100%;min-height:100%;max-height:100%\"/></noscript></span></span></a><div class=\"sc-fe6f7617-3 bMZpRJ\" data-prevent-tooltip=\"true\"><div class=\"sc-fe6f7617-8 hfGrLo\"><div class=\"sc-8251ce8c-5 bVyLNx globalRating\" data-testid=\"Rating\">6.8</div></div></div></div><a class=\"sc-e6f263fc-0 sc-df6b780a-1 iZcnfH lbhoSA sc-3ef21923-0 itLWIo\" data-testid=\"link\" href=\"/film/la_planete_des_singes_le_nouveau_royaume/40806176\">La Planète des singes - Le Nouveau Royaume</a></div></div></div><div class=\"sc-328d61f-4 fdFAPT\" data-testid=\"item-wrapper\"><div class=\"sc-3ef21923-1 cKacYt\" data-testid=\"product-card\"><div class=\"sc-9ddc3db1-0 iVzxSC\" data-testid=\"product-actions-hover\"><div class=\"sc-fe6f7617-1 ksIjGx\" data-testid=\"poster\" height=\"160\" width=\"114\"><a class=\"sc-fe6f7617-2 kLAJJN\" data-testid=\"poster\" height=\"160\" href=\"/film/unfrosted_l_epopee_de_la_pop_tart/46774262\" width=\"114\"><span class=\"sc-fe6f7617-10 ioLqwl\" data-srcname=\"https://media.senscritique.com/media/000022006725/300/unfrosted_l_epopee_de_la_pop_tart.jpg\" data-testid=\"poster-img-wrapper\"><span style=\"box-sizing:border-box;display:inline-block;overflow:hidden;width:initial;height:initial;background:none;opacity:1;border:0;margin:0;padding:0;position:relative;max-width:100%\"><span style=\"box-sizing:border-box;display:block;width:initial;height:initial;background:none;opacity:1;border:0;margin:0;padding:0;max-width:100%\"><img alt=\"\" aria-hidden=\"true\" src=\"data:image/svg+xml,%3csvg%20xmlns=%27http://www.w3.org/2000/svg%27%20version=%271.1%27%20width=%27114%27%20height=%27160%27/%3e\" style=\"display:block;max-width:100%;width:initial;height:initial;background:none;opacity:1;border:0;margin:0;padding:0\"/></span><img alt=\"Unfrosted - L'épopée de la Pop-Tart\" data-cfstyle=\"22222\" data-nimg=\"intrinsic\" data-testid=\"poster-img\" decoding=\"async\" src=\"data:image/gif;base64,R0lGODlhAQABAIAAAAAAAP///yH5BAEAAAAALAAAAAABAAEAAAIBRAA7\" style=\"position:absolute;top:0;left:0;bottom:0;right:0;box-sizing:border-box;padding:0;border:none;margin:auto;display:block;width:0;height:0;min-width:100%;max-width:100%;min-height:100%;max-height:100%\"/><noscript><img alt=\"Unfrosted - L'épopée de la Pop-Tart\" data-cfstyle=\"22222\" data-nimg=\"intrinsic\" data-testid=\"poster-img\" decoding=\"async\" loading=\"lazy\" src=\"https://media.senscritique.com/media/000022006725/300/unfrosted_l_epopee_de_la_pop_tart.jpg\" style=\"position:absolute;top:0;left:0;bottom:0;right:0;box-sizing:border-box;padding:0;border:none;margin:auto;display:block;width:0;height:0;min-width:100%;max-width:100%;min-height:100%;max-height:100%\"/></noscript></span></span></a><div class=\"sc-fe6f7617-3 bMZpRJ\" data-prevent-tooltip=\"true\"><div class=\"sc-fe6f7617-8 hfGrLo\"><div class=\"sc-8251ce8c-5 bVyLNx globalRating\" data-testid=\"Rating\">4.4</div></div></div></div><a class=\"sc-e6f263fc-0 sc-df6b780a-1 iZcnfH lbhoSA sc-3ef21923-0 itLWIo\" data-testid=\"link\" href=\"/film/unfrosted_l_epopee_de_la_pop_tart/46774262\">Unfrosted - L'épopée de la Pop-Tart</a></div></div></div><div class=\"sc-328d61f-4 fdFAPT\" data-testid=\"item-wrapper\"><div class=\"sc-3ef21923-1 cKacYt\" data-testid=\"product-card\"><div class=\"sc-9ddc3db1-0 iVzxSC\" data-testid=\"product-actions-hover\"><div class=\"sc-fe6f7617-1 ksIjGx\" data-testid=\"poster\" height=\"160\" width=\"114\"><a class=\"sc-fe6f7617-2 kLAJJN\" data-testid=\"poster\" height=\"160\" href=\"/film/nicky_larson/53742764\" width=\"114\"><span class=\"sc-fe6f7617-10 ioLqwl\" data-srcname=\"https://media.senscritique.com/media/000021979412/300/nicky_larson.png\" data-testid=\"poster-img-wrapper\"><span style=\"box-sizing:border-box;display:inline-block;overflow:hidden;width:initial;height:initial;background:none;opacity:1;border:0;margin:0;padding:0;position:relative;max-width:100%\"><span style=\"box-sizing:border-box;display:block;width:initial;height:initial;background:none;opacity:1;border:0;margin:0;padding:0;max-width:100%\"><img alt=\"\" aria-hidden=\"true\" src=\"data:image/svg+xml,%3csvg%20xmlns=%27http://www.w3.org/2000/svg%27%20version=%271.1%27%20width=%27114%27%20height=%27160%27/%3e\" style=\"display:block;max-width:100%;width:initial;height:initial;background:none;opacity:1;border:0;margin:0;padding:0\"/></span><img alt=\"Nicky Larson\" data-cfstyle=\"22222\" data-nimg=\"intrinsic\" data-testid=\"poster-img\" decoding=\"async\" src=\"data:image/gif;base64,R0lGODlhAQABAIAAAAAAAP///yH5BAEAAAAALAAAAAABAAEAAAIBRAA7\" style=\"position:absolute;top:0;left:0;bottom:0;right:0;box-sizing:border-box;padding:0;border:none;margin:auto;display:block;width:0;height:0;min-width:100%;max-width:100%;min-height:100%;max-height:100%\"/><noscript><img alt=\"Nicky Larson\" data-cfstyle=\"22222\" data-nimg=\"intrinsic\" data-testid=\"poster-img\" decoding=\"async\" loading=\"lazy\" src=\"https://media.senscritique.com/media/000021979412/300/nicky_larson.png\" style=\"position:absolute;top:0;left:0;bottom:0;right:0;box-sizing:border-box;padding:0;border:none;margin:auto;display:block;width:0;height:0;min-width:100%;max-width:100%;min-height:100%;max-height:100%\"/></noscript></span></span></a><div class=\"sc-fe6f7617-3 bMZpRJ\" data-prevent-tooltip=\"true\"><div class=\"sc-fe6f7617-8 hfGrLo\"><div class=\"sc-8251ce8c-5 bVyLNx globalRating\" data-testid=\"Rating\">6.1</div></div></div></div><a class=\"sc-e6f263fc-0 sc-df6b780a-1 iZcnfH lbhoSA sc-3ef21923-0 itLWIo\" data-testid=\"link\" href=\"/film/nicky_larson/53742764\">Nicky Larson</a></div></div></div><div class=\"sc-328d61f-4 fdFAPT\" data-testid=\"item-wrapper\"><div class=\"sc-3ef21923-1 cKacYt\" data-testid=\"product-card\"><div class=\"sc-9ddc3db1-0 iVzxSC\" data-testid=\"product-actions-hover\"><div class=\"sc-fe6f7617-1 ksIjGx\" data-testid=\"poster\" height=\"160\" width=\"114\"><a class=\"sc-fe6f7617-2 kLAJJN\" data-testid=\"poster\" height=\"160\" href=\"/film/blue_compagnie/494413\" width=\"114\"><span class=\"sc-fe6f7617-10 ioLqwl\" data-srcname=\"https://media.senscritique.com/media/000022093922/300/blue_compagnie.png\" data-testid=\"poster-img-wrapper\"><span style=\"box-sizing:border-box;display:inline-block;overflow:hidden;width:initial;height:initial;background:none;opacity:1;border:0;margin:0;padding:0;position:relative;max-width:100%\"><span style=\"box-sizing:border-box;display:block;width:initial;height:initial;background:none;opacity:1;border:0;margin:0;padding:0;max-width:100%\"><img alt=\"\" aria-hidden=\"true\" src=\"data:image/svg+xml,%3csvg%20xmlns=%27http://www.w3.org/2000/svg%27%20version=%271.1%27%20width=%27114%27%20height=%27160%27/%3e\" style=\"display:block;max-width:100%;width:initial;height:initial;background:none;opacity:1;border:0;margin:0;padding:0\"/></span><img alt=\"Blue &amp; Compagnie\" data-cfstyle=\"22222\" data-nimg=\"intrinsic\" data-testid=\"poster-img\" decoding=\"async\" src=\"data:image/gif;base64,R0lGODlhAQABAIAAAAAAAP///yH5BAEAAAAALAAAAAABAAEAAAIBRAA7\" style=\"position:absolute;top:0;left:0;bottom:0;right:0;box-sizing:border-box;padding:0;border:none;margin:auto;display:block;width:0;height:0;min-width:100%;max-width:100%;min-height:100%;max-height:100%\"/><noscript><img alt=\"Blue &amp; Compagnie\" data-cfstyle=\"22222\" data-nimg=\"intrinsic\" data-testid=\"poster-img\" decoding=\"async\" loading=\"lazy\" src=\"https://media.senscritique.com/media/000022093922/300/blue_compagnie.png\" style=\"position:absolute;top:0;left:0;bottom:0;right:0;box-sizing:border-box;padding:0;border:none;margin:auto;display:block;width:0;height:0;min-width:100%;max-width:100%;min-height:100%;max-height:100%\"/></noscript></span></span></a><div class=\"sc-fe6f7617-3 bMZpRJ\" data-prevent-tooltip=\"true\"><div class=\"sc-fe6f7617-8 hfGrLo\"><div class=\"sc-8251ce8c-5 bVyLNx globalRating\" data-testid=\"Rating\">6.7</div></div></div></div><a class=\"sc-e6f263fc-0 sc-df6b780a-1 iZcnfH lbhoSA sc-3ef21923-0 itLWIo\" data-testid=\"link\" href=\"/film/blue_compagnie/494413\">Blue &amp; Compagnie</a></div></div></div><div class=\"sc-328d61f-4 fdFAPT\" data-testid=\"item-wrapper\"><div class=\"sc-3ef21923-1 cKacYt\" data-testid=\"product-card\"><div class=\"sc-9ddc3db1-0 iVzxSC\" data-testid=\"product-actions-hover\"><div class=\"sc-fe6f7617-1 ksIjGx\" data-testid=\"poster\" height=\"160\" width=\"114\"><a class=\"sc-fe6f7617-2 kLAJJN\" data-testid=\"poster\" height=\"160\" href=\"/film/rebel_moon_partie_2_l_entailleuse/58304966\" width=\"114\"><span class=\"sc-fe6f7617-10 ioLqwl\" data-srcname=\"https://media.senscritique.com/media/000021982106/300/rebel_moon_partie_2_l_entailleuse.png\" data-testid=\"poster-img-wrapper\"><span style=\"box-sizing:border-box;display:inline-block;overflow:hidden;width:initial;height:initial;background:none;opacity:1;border:0;margin:0;padding:0;position:relative;max-width:100%\"><span style=\"box-sizing:border-box;display:block;width:initial;height:initial;background:none;opacity:1;border:0;margin:0;padding:0;max-width:100%\"><img alt=\"\" aria-hidden=\"true\" src=\"data:image/svg+xml,%3csvg%20xmlns=%27http://www.w3.org/2000/svg%27%20version=%271.1%27%20width=%27114%27%20height=%27160%27/%3e\" style=\"display:block;max-width:100%;width:initial;height:initial;background:none;opacity:1;border:0;margin:0;padding:0\"/></span><img alt=\"Rebel Moon : Partie 2 - L'Entailleuse\" data-cfstyle=\"22222\" data-nimg=\"intrinsic\" data-testid=\"poster-img\" decoding=\"async\" src=\"data:image/gif;base64,R0lGODlhAQABAIAAAAAAAP///yH5BAEAAAAALAAAAAABAAEAAAIBRAA7\" style=\"position:absolute;top:0;left:0;bottom:0;right:0;box-sizing:border-box;padding:0;border:none;margin:auto;display:block;width:0;height:0;min-width:100%;max-width:100%;min-height:100%;max-height:100%\"/><noscript><img alt=\"Rebel Moon : Partie 2 - L'Entailleuse\" data-cfstyle=\"22222\" data-nimg=\"intrinsic\" data-testid=\"poster-img\" decoding=\"async\" loading=\"lazy\" src=\"https://media.senscritique.com/media/000021982106/300/rebel_moon_partie_2_l_entailleuse.png\" style=\"position:absolute;top:0;left:0;bottom:0;right:0;box-sizing:border-box;padding:0;border:none;margin:auto;display:block;width:0;height:0;min-width:100%;max-width:100%;min-height:100%;max-height:100%\"/></noscript></span></span></a><div class=\"sc-fe6f7617-3 bMZpRJ\" data-prevent-tooltip=\"true\"><div class=\"sc-fe6f7617-8 hfGrLo\"><div class=\"sc-8251ce8c-5 bVyLNx globalRating\" data-testid=\"Rating\">4</div></div></div></div><a class=\"sc-e6f263fc-0 sc-df6b780a-1 iZcnfH lbhoSA sc-3ef21923-0 itLWIo\" data-testid=\"link\" href=\"/film/rebel_moon_partie_2_l_entailleuse/58304966\">Rebel Moon : Partie 2 - L'Entailleuse</a></div></div></div></div><div class=\"sc-328d61f-6 broUYZ\" data-testid=\"arrow-wrapper\"><span class=\"sc-66b0902d-0 dXbNDQ\"><svg class=\"\" fill=\"none\" height=\"34\" viewbox=\"0 0 34 34\" width=\"34\" xmlns=\"http://www.w3.org/2000/svg\"><path clip-rule=\"evenodd\" d=\"M18.8889 1L34 17L18.8889 33L17 30.9683L29.9861 17L17 3.03175\" fill=\"#1A1A1A\" fill-rule=\"evenodd\"></path></svg></span></div></div>,\n",
       " <div class=\"sc-328d61f-2 dLhSYv\"><div class=\"sc-328d61f-5 ljxugn\" data-testid=\"arrow-wrapper\"><span class=\"sc-66b0902d-0 dXbNDQ\"><svg class=\"\" fill=\"none\" height=\"34\" viewbox=\"0 0 34 34\" width=\"34\" xmlns=\"http://www.w3.org/2000/svg\"><path clip-rule=\"evenodd\" d=\"M18.8889 1L34 17L18.8889 33L17 30.9683L29.9861 17L17 3.03175\" fill=\"#1A1A1A\" fill-rule=\"evenodd\"></path></svg></span></div><div class=\"sc-328d61f-3 epftsU\" data-testid=\"items-wrapper\"><div class=\"sc-328d61f-4 fdFAPT\" data-testid=\"item-wrapper\"><div class=\"sc-d36dcab1-2 jEjqOv\"><article class=\"sc-4db36029-0 JmcbN\" data-testid=\"review-overview\"><div class=\"sc-4db36029-1 mxzjd\"><a class=\"sc-fe6f7617-2 gMDrTB\" data-testid=\"poster\" height=\"38\" href=\"/film/l_aventure_interieure/1375557\" width=\"30\"><span class=\"sc-fe6f7617-10 jOPVYC\" data-srcname=\"https://media.senscritique.com/media/000000126178/60/l_aventure_interieure.jpg\" data-testid=\"poster-img-wrapper\"><span style=\"box-sizing:border-box;display:inline-block;overflow:hidden;width:initial;height:initial;background:none;opacity:1;border:0;margin:0;padding:0;position:relative;max-width:100%\"><span style=\"box-sizing:border-box;display:block;width:initial;height:initial;background:none;opacity:1;border:0;margin:0;padding:0;max-width:100%\"><img alt=\"\" aria-hidden=\"true\" src=\"data:image/svg+xml,%3csvg%20xmlns=%27http://www.w3.org/2000/svg%27%20version=%271.1%27%20width=%2730%27%20height=%2738%27/%3e\" style=\"display:block;max-width:100%;width:initial;height:initial;background:none;opacity:1;border:0;margin:0;padding:0\"/></span><img alt=\"L'Aventure intérieure\" data-cfstyle=\"22222\" data-nimg=\"intrinsic\" data-testid=\"poster-img\" decoding=\"async\" src=\"data:image/gif;base64,R0lGODlhAQABAIAAAAAAAP///yH5BAEAAAAALAAAAAABAAEAAAIBRAA7\" style=\"position:absolute;top:0;left:0;bottom:0;right:0;box-sizing:border-box;padding:0;border:none;margin:auto;display:block;width:0;height:0;min-width:100%;max-width:100%;min-height:100%;max-height:100%\"/><noscript><img alt=\"L'Aventure intérieure\" data-cfstyle=\"22222\" data-nimg=\"intrinsic\" data-testid=\"poster-img\" decoding=\"async\" loading=\"lazy\" src=\"https://media.senscritique.com/media/000000126178/60/l_aventure_interieure.jpg\" style=\"position:absolute;top:0;left:0;bottom:0;right:0;box-sizing:border-box;padding:0;border:none;margin:auto;display:block;width:0;height:0;min-width:100%;max-width:100%;min-height:100%;max-height:100%\"/></noscript></span></span></a><div class=\"sc-4db36029-2 fyLWnW\"><div class=\"sc-48986368-0 hGEFbG\" data-testid=\"user-infos-hover\"><div class=\"sc-1a97d7be-0 gFHNhq\" data-testid=\"avatar\"><a class=\"sc-1a97d7be-3 fZBrFn\" data-srcname=\"https://media.senscritique.com/media/media/000021145920/48x48/avatar.jpg\" data-testid=\"avatar-img-wrapper\" href=\"/PierreAmo\"><span style=\"box-sizing:border-box;display:inline-block;overflow:hidden;width:initial;height:initial;background:none;opacity:1;border:0;margin:0;padding:0;position:relative;max-width:100%\"><span style=\"box-sizing:border-box;display:block;width:initial;height:initial;background:none;opacity:1;border:0;margin:0;padding:0;max-width:100%\"><img alt=\"\" aria-hidden=\"true\" src=\"data:image/svg+xml,%3csvg%20xmlns=%27http://www.w3.org/2000/svg%27%20version=%271.1%27%20width=%2730%27%20height=%2730%27/%3e\" style=\"display:block;max-width:100%;width:initial;height:initial;background:none;opacity:1;border:0;margin:0;padding:0\"/></span><img alt=\"PierreAmo\" data-cfstyle=\"22222\" data-nimg=\"intrinsic\" decoding=\"async\" src=\"data:image/gif;base64,R0lGODlhAQABAIAAAAAAAP///yH5BAEAAAAALAAAAAABAAEAAAIBRAA7\" style=\"position:absolute;top:0;left:0;bottom:0;right:0;box-sizing:border-box;padding:0;border:none;margin:auto;display:block;width:0;height:0;min-width:100%;max-width:100%;min-height:100%;max-height:100%;object-fit:cover\"/><noscript><img alt=\"PierreAmo\" data-cfstyle=\"22222\" data-nimg=\"intrinsic\" decoding=\"async\" loading=\"lazy\" src=\"https://media.senscritique.com/media/media/000021145920/48x48/avatar.jpg\" style=\"position:absolute;top:0;left:0;bottom:0;right:0;box-sizing:border-box;padding:0;border:none;margin:auto;display:block;width:0;height:0;min-width:100%;max-width:100%;min-height:100%;max-height:100%;object-fit:cover\"/></noscript></span></a></div></div><div class=\"sc-8251ce8c-3 gbAIun sc-4db36029-3 iepouY\" data-testid=\"Rating\">8</div></div></div><div class=\"sc-4db36029-5 bhnzSw\"><div><div class=\"sc-4db36029-6 UhCEE\"><a class=\"sc-e6f263fc-0 sc-df6b780a-1 iZcnfG lbhoSA\" data-testid=\"productReviewTitle\" href=\"/film/l_aventure_interieure/1375557\">L'Aventure intérieure</a></div></div><p class=\"sc-e6f263fc-0 sc-4db36029-4 bTynbZ irayCk\" data-testid=\"reviewTitle\" type=\"default\">\"Fut un temps où j'avais les fesses et ligne de Dennis Quaid...\"(Pierreamo). Texte d'Anne Dessuant:</p><div><p class=\"sc-1e6d9d58-0 dnxDDB sc-3decf6b2-1 dKOLtS\" data-testid=\"linkify\"><span class=\"sc-e6f263fc-2 ewlOkV\" data-testid=\"linkify-text\" type=\"default\">Quand j'ai découvert ce film enfant sans rien en savoir, il a été un beau choc et fascinant.Mes yeux d'ado puis adulte, ne l'ont jamais revu pareil: surtout la scène plus du tout aussi démente où les...</span></p></div><div class=\"sc-4db36029-8 eCcJoU\"><a class=\"sc-e6f263fc-0 sc-df6b780a-0 iZcnfH fCIEaI link\" data-testid=\"link\" href=\"/film/l_aventure_interieure/critique/66942063\">Lire la critique</a></div><div class=\"sc-4db36029-9 bSXbzM\"><div class=\"sc-4db36029-11 hwKoMt\"><div class=\"sc-4db36029-12 jGnYhw\"><p class=\"sc-e6f263fc-0 sc-4db36029-10 GItpw iMimBM\">Par</p><div class=\"sc-48986368-0 hGEFbG\" data-testid=\"user-infos-hover\"><div class=\"sc-b7da4c5c-0 hPKiHW sc-4db36029-13 cNreFH\" data-testid=\"username\"><div class=\"sc-b7da4c5c-1 bssQOL\"><a class=\"sc-e6f263fc-0 sc-b7da4c5c-2 GItpw gvGKDY\" href=\"/PierreAmo\" type=\"default\">PierreAmo</a></div></div></div></div><p class=\"sc-e6f263fc-0 sc-3b5d9ff1-0 GItpw dOiIbg\" type=\"default\"><span style=\"position:relative\">il y a 2 jours</span></p></div><div class=\"sc-4db36029-7 dDFvSk\"><div class=\"sc-8d1083e0-0 dRgahD\" data-testid=\"likes-number\"><div class=\"sc-8d1083e0-2 bNtPWj\" data-testid=\"like-icon-wrapper\"><svg class=\"sc-37abe902-0 ceHiek\" data-testid=\"icon-heart\" fill=\"none\" height=\"17\" viewbox=\"0 0 25 25\" width=\"17\" xmlns=\"http://www.w3.org/2000/svg\"><path d=\"M20.4502 5.28442L20.4502 5.2844C19.6474 4.73818 18.7175 4.45001 17.7709 4.44918C16.4219 4.45772 15.122 5.03184 14.1594 6.06073L14.1567 6.06357C14.0094 6.21946 13.8829 6.36796 13.7347 6.54193C13.633 6.66131 13.5211 6.79267 13.3853 6.94665L12.8241 7.58261L12.2616 6.94789C12.1151 6.78255 11.9976 6.64242 11.8922 6.51674C11.7278 6.32073 11.5929 6.15985 11.4233 5.99323L11.4159 5.98595L11.4087 5.97847C10.3817 4.91228 9.24873 4.42643 8.02627 4.42643H8.02068V4.4264C7.54649 4.42287 7.07383 4.48859 6.61599 4.6221L6.61144 4.62342L6.61143 4.62341C5.57825 4.91762 4.65657 5.56479 3.99305 6.47511L3.99305 6.47512C3.32909 7.38604 2.96267 8.50774 2.95628 9.66813L2.95626 9.67276C2.93743 11.2849 3.5315 12.6329 4.62278 13.767L4.63001 13.7745L4.62996 13.7746C6.71744 16.0053 8.82621 18.2361 10.935 20.4443L10.9376 20.447L10.9518 20.4621C11.5828 21.1296 12.2162 21.7996 12.8604 22.492L21.1038 13.7718L21.109 13.7663L21.109 13.7663C21.2902 13.5785 21.4574 13.3756 21.609 13.1591C22.8446 11.3789 23.1455 9.50905 22.3009 7.54771L20.4502 5.28442ZM20.4502 5.28442C21.2542 5.8314 21.8986 6.61541 22.3008 7.54764L20.4502 5.28442Z\" stroke=\"#000000\" stroke-width=\"1.5\"></path></svg></div><p class=\"sc-e6f263fc-0 sc-8d1083e0-1 GItpw XTOao\" type=\"default\">19 j'aime</p></div><div class=\"sc-3fcb6f61-0 kLxaHl\" data-testid=\"comments-number\"><svg fill=\"none\" height=\"17\" viewbox=\"0 0 25 25\" width=\"17\" xmlns=\"http://www.w3.org/2000/svg\"><path d=\"M18.5802 19.169L18.1582 18.549L17.8551 18.7553L17.8317 19.1212L18.5802 19.169ZM14.1174 20.8642L14.5077 20.2238L14.2782 20.084L14.0122 20.1217L14.1174 20.8642ZM14.5599 21.1479L14.1486 21.775L14.1486 21.775L14.5599 21.1479ZM20.1413 22.5058L20.2241 23.2512L22.1063 23.042L20.5913 21.9058L20.1413 22.5058ZM21.429 12.8269C21.429 15.0984 20.1858 17.1688 18.1582 18.549L19.0022 19.789C21.3648 18.1808 22.929 15.6794 22.929 12.8269H21.429ZM12.5002 5.42627C17.5574 5.42627 21.429 8.85525 21.429 12.8269H22.929C22.929 7.7956 18.1339 3.92627 12.5002 3.92627V5.42627ZM3.57129 12.8269C3.57129 8.85525 7.44294 5.42627 12.5002 5.42627V3.92627C6.86639 3.92627 2.07129 7.7956 2.07129 12.8269H3.57129ZM12.5002 20.2275C7.44294 20.2275 3.57129 16.7985 3.57129 12.8269H2.07129C2.07129 17.8582 6.86639 21.7275 12.5002 21.7275V20.2275ZM14.0122 20.1217C13.5211 20.1912 13.016 20.2275 12.5002 20.2275V21.7275C13.0864 21.7275 13.6618 21.6863 14.2226 21.6068L14.0122 20.1217ZM13.7271 21.5047C13.856 21.5833 13.9918 21.6722 14.1486 21.775L14.9712 20.5207C14.819 20.4209 14.6618 20.3177 14.5077 20.2238L13.7271 21.5047ZM14.1486 21.775C14.694 22.1328 15.4112 22.6061 16.3979 22.9319C17.3918 23.2601 18.624 23.429 20.2241 23.2512L20.0585 21.7603C18.6562 21.9162 17.6422 21.7632 16.8682 21.5076C16.0871 21.2496 15.5148 20.8772 14.9712 20.5207L14.1486 21.775ZM20.5913 21.9058C19.8426 21.3443 19.5485 20.8898 19.4198 20.5232C19.285 20.1391 19.294 19.7585 19.3287 19.2168L17.8317 19.1212C17.7979 19.65 17.7569 20.3148 18.0044 21.02C18.2581 21.7427 18.7787 22.4213 19.6913 23.1058L20.5913 21.9058Z\" fill=\"#000000\"></path></svg><p class=\"sc-e6f263fc-0 sc-3fcb6f61-1 GItpw djcKen\" type=\"default\">6</p></div></div></div></div></article></div></div><div class=\"sc-328d61f-4 fdFAPT\" data-testid=\"item-wrapper\"><div class=\"sc-d36dcab1-2 jEjqOv\"><article class=\"sc-4db36029-0 JmcbN\" data-testid=\"review-overview\"><div class=\"sc-4db36029-1 mxzjd\"><a class=\"sc-fe6f7617-2 gMDrTB\" data-testid=\"poster\" height=\"38\" href=\"/film/nous_les_leroy/55260107\" width=\"30\"><span class=\"sc-fe6f7617-10 jOPVYC\" data-srcname=\"https://media.senscritique.com/media/000021856675/60/nous_les_leroy.png\" data-testid=\"poster-img-wrapper\"><span style=\"box-sizing:border-box;display:inline-block;overflow:hidden;width:initial;height:initial;background:none;opacity:1;border:0;margin:0;padding:0;position:relative;max-width:100%\"><span style=\"box-sizing:border-box;display:block;width:initial;height:initial;background:none;opacity:1;border:0;margin:0;padding:0;max-width:100%\"><img alt=\"\" aria-hidden=\"true\" src=\"data:image/svg+xml,%3csvg%20xmlns=%27http://www.w3.org/2000/svg%27%20version=%271.1%27%20width=%2730%27%20height=%2738%27/%3e\" style=\"display:block;max-width:100%;width:initial;height:initial;background:none;opacity:1;border:0;margin:0;padding:0\"/></span><img alt=\"Nous, les Leroy\" data-cfstyle=\"22222\" data-nimg=\"intrinsic\" data-testid=\"poster-img\" decoding=\"async\" src=\"data:image/gif;base64,R0lGODlhAQABAIAAAAAAAP///yH5BAEAAAAALAAAAAABAAEAAAIBRAA7\" style=\"position:absolute;top:0;left:0;bottom:0;right:0;box-sizing:border-box;padding:0;border:none;margin:auto;display:block;width:0;height:0;min-width:100%;max-width:100%;min-height:100%;max-height:100%\"/><noscript><img alt=\"Nous, les Leroy\" data-cfstyle=\"22222\" data-nimg=\"intrinsic\" data-testid=\"poster-img\" decoding=\"async\" loading=\"lazy\" src=\"https://media.senscritique.com/media/000021856675/60/nous_les_leroy.png\" style=\"position:absolute;top:0;left:0;bottom:0;right:0;box-sizing:border-box;padding:0;border:none;margin:auto;display:block;width:0;height:0;min-width:100%;max-width:100%;min-height:100%;max-height:100%\"/></noscript></span></span></a><div class=\"sc-4db36029-2 fyLWnW\"><div class=\"sc-48986368-0 hGEFbG\" data-testid=\"user-infos-hover\"><div class=\"sc-1a97d7be-0 gFHNhq\" data-testid=\"avatar\"><a class=\"sc-1a97d7be-3 fZBrFn\" data-srcname=\"https://media.senscritique.com/media/media/000007703024/48x48/avatar.jpg\" data-testid=\"avatar-img-wrapper\" href=\"/Sergent_Pepper\"><span style=\"box-sizing:border-box;display:inline-block;overflow:hidden;width:initial;height:initial;background:none;opacity:1;border:0;margin:0;padding:0;position:relative;max-width:100%\"><span style=\"box-sizing:border-box;display:block;width:initial;height:initial;background:none;opacity:1;border:0;margin:0;padding:0;max-width:100%\"><img alt=\"\" aria-hidden=\"true\" src=\"data:image/svg+xml,%3csvg%20xmlns=%27http://www.w3.org/2000/svg%27%20version=%271.1%27%20width=%2730%27%20height=%2730%27/%3e\" style=\"display:block;max-width:100%;width:initial;height:initial;background:none;opacity:1;border:0;margin:0;padding:0\"/></span><img alt=\"Sergent_Pepper\" data-cfstyle=\"22222\" data-nimg=\"intrinsic\" decoding=\"async\" src=\"data:image/gif;base64,R0lGODlhAQABAIAAAAAAAP///yH5BAEAAAAALAAAAAABAAEAAAIBRAA7\" style=\"position:absolute;top:0;left:0;bottom:0;right:0;box-sizing:border-box;padding:0;border:none;margin:auto;display:block;width:0;height:0;min-width:100%;max-width:100%;min-height:100%;max-height:100%;object-fit:cover\"/><noscript><img alt=\"Sergent_Pepper\" data-cfstyle=\"22222\" data-nimg=\"intrinsic\" decoding=\"async\" loading=\"lazy\" src=\"https://media.senscritique.com/media/media/000007703024/48x48/avatar.jpg\" style=\"position:absolute;top:0;left:0;bottom:0;right:0;box-sizing:border-box;padding:0;border:none;margin:auto;display:block;width:0;height:0;min-width:100%;max-width:100%;min-height:100%;max-height:100%;object-fit:cover\"/></noscript></span></a></div></div><div class=\"sc-8251ce8c-3 gbAIun sc-4db36029-3 iepouY\" data-testid=\"Rating\">8</div></div></div><div class=\"sc-4db36029-5 bhnzSw\"><div><div class=\"sc-4db36029-6 UhCEE\"><a class=\"sc-e6f263fc-0 sc-df6b780a-1 iZcnfG lbhoSA\" data-testid=\"productReviewTitle\" href=\"/film/nous_les_leroy/55260107\">Nous, les Leroy</a></div></div><p class=\"sc-e6f263fc-0 sc-4db36029-4 bTynbZ irayCk\" data-testid=\"reviewTitle\" type=\"default\">Je n’écrirai pas sur ce film</p><div><p class=\"sc-1e6d9d58-0 dnxDDB sc-3decf6b2-1 dKOLtS\" data-testid=\"linkify\"><span class=\"sc-e6f263fc-2 ewlOkV\" data-testid=\"linkify-text\" type=\"default\">J’avais toutes les raisons de ne pas écrire une critique sur le premier film de Florent Bernard. La première, c’est que je savais que j’allais probablement manquer d’objectivité lorsqu’il s’agirait...</span></p></div><div class=\"sc-4db36029-8 eCcJoU\"><a class=\"sc-e6f263fc-0 sc-df6b780a-0 iZcnfH fCIEaI link\" data-testid=\"link\" href=\"/film/nous_les_leroy/critique/304521457\">Lire la critique</a></div><div class=\"sc-4db36029-9 bSXbzM\"><div class=\"sc-4db36029-11 hwKoMt\"><div class=\"sc-4db36029-12 jGnYhw\"><p class=\"sc-e6f263fc-0 sc-4db36029-10 GItpw iMimBM\">Par</p><div class=\"sc-48986368-0 hGEFbG\" data-testid=\"user-infos-hover\"><div class=\"sc-b7da4c5c-0 hPKiHW sc-4db36029-13 cNreFH\" data-testid=\"username\"><div class=\"sc-b7da4c5c-1 bssQOL\"><a class=\"sc-e6f263fc-0 sc-b7da4c5c-2 GItpw gvGKDY\" href=\"/Sergent_Pepper\" type=\"default\">Sergent_Pepper</a></div></div></div></div><p class=\"sc-e6f263fc-0 sc-3b5d9ff1-0 GItpw dOiIbg\" type=\"default\"><span style=\"position:relative\">le 18 avr. 2024</span></p></div><div class=\"sc-4db36029-7 dDFvSk\"><div class=\"sc-8d1083e0-0 dRgahD\" data-testid=\"likes-number\"><div class=\"sc-8d1083e0-2 bNtPWj\" data-testid=\"like-icon-wrapper\"><svg class=\"sc-37abe902-0 ceHiek\" data-testid=\"icon-heart\" fill=\"none\" height=\"17\" viewbox=\"0 0 25 25\" width=\"17\" xmlns=\"http://www.w3.org/2000/svg\"><path d=\"M20.4502 5.28442L20.4502 5.2844C19.6474 4.73818 18.7175 4.45001 17.7709 4.44918C16.4219 4.45772 15.122 5.03184 14.1594 6.06073L14.1567 6.06357C14.0094 6.21946 13.8829 6.36796 13.7347 6.54193C13.633 6.66131 13.5211 6.79267 13.3853 6.94665L12.8241 7.58261L12.2616 6.94789C12.1151 6.78255 11.9976 6.64242 11.8922 6.51674C11.7278 6.32073 11.5929 6.15985 11.4233 5.99323L11.4159 5.98595L11.4087 5.97847C10.3817 4.91228 9.24873 4.42643 8.02627 4.42643H8.02068V4.4264C7.54649 4.42287 7.07383 4.48859 6.61599 4.6221L6.61144 4.62342L6.61143 4.62341C5.57825 4.91762 4.65657 5.56479 3.99305 6.47511L3.99305 6.47512C3.32909 7.38604 2.96267 8.50774 2.95628 9.66813L2.95626 9.67276C2.93743 11.2849 3.5315 12.6329 4.62278 13.767L4.63001 13.7745L4.62996 13.7746C6.71744 16.0053 8.82621 18.2361 10.935 20.4443L10.9376 20.447L10.9518 20.4621C11.5828 21.1296 12.2162 21.7996 12.8604 22.492L21.1038 13.7718L21.109 13.7663L21.109 13.7663C21.2902 13.5785 21.4574 13.3756 21.609 13.1591C22.8446 11.3789 23.1455 9.50905 22.3009 7.54771L20.4502 5.28442ZM20.4502 5.28442C21.2542 5.8314 21.8986 6.61541 22.3008 7.54764L20.4502 5.28442Z\" stroke=\"#000000\" stroke-width=\"1.5\"></path></svg></div><p class=\"sc-e6f263fc-0 sc-8d1083e0-1 GItpw XTOao\" type=\"default\">107 j'aime</p></div><div class=\"sc-3fcb6f61-0 kLxaHl\" data-testid=\"comments-number\"><svg fill=\"none\" height=\"17\" viewbox=\"0 0 25 25\" width=\"17\" xmlns=\"http://www.w3.org/2000/svg\"><path d=\"M18.5802 19.169L18.1582 18.549L17.8551 18.7553L17.8317 19.1212L18.5802 19.169ZM14.1174 20.8642L14.5077 20.2238L14.2782 20.084L14.0122 20.1217L14.1174 20.8642ZM14.5599 21.1479L14.1486 21.775L14.1486 21.775L14.5599 21.1479ZM20.1413 22.5058L20.2241 23.2512L22.1063 23.042L20.5913 21.9058L20.1413 22.5058ZM21.429 12.8269C21.429 15.0984 20.1858 17.1688 18.1582 18.549L19.0022 19.789C21.3648 18.1808 22.929 15.6794 22.929 12.8269H21.429ZM12.5002 5.42627C17.5574 5.42627 21.429 8.85525 21.429 12.8269H22.929C22.929 7.7956 18.1339 3.92627 12.5002 3.92627V5.42627ZM3.57129 12.8269C3.57129 8.85525 7.44294 5.42627 12.5002 5.42627V3.92627C6.86639 3.92627 2.07129 7.7956 2.07129 12.8269H3.57129ZM12.5002 20.2275C7.44294 20.2275 3.57129 16.7985 3.57129 12.8269H2.07129C2.07129 17.8582 6.86639 21.7275 12.5002 21.7275V20.2275ZM14.0122 20.1217C13.5211 20.1912 13.016 20.2275 12.5002 20.2275V21.7275C13.0864 21.7275 13.6618 21.6863 14.2226 21.6068L14.0122 20.1217ZM13.7271 21.5047C13.856 21.5833 13.9918 21.6722 14.1486 21.775L14.9712 20.5207C14.819 20.4209 14.6618 20.3177 14.5077 20.2238L13.7271 21.5047ZM14.1486 21.775C14.694 22.1328 15.4112 22.6061 16.3979 22.9319C17.3918 23.2601 18.624 23.429 20.2241 23.2512L20.0585 21.7603C18.6562 21.9162 17.6422 21.7632 16.8682 21.5076C16.0871 21.2496 15.5148 20.8772 14.9712 20.5207L14.1486 21.775ZM20.5913 21.9058C19.8426 21.3443 19.5485 20.8898 19.4198 20.5232C19.285 20.1391 19.294 19.7585 19.3287 19.2168L17.8317 19.1212C17.7979 19.65 17.7569 20.3148 18.0044 21.02C18.2581 21.7427 18.7787 22.4213 19.6913 23.1058L20.5913 21.9058Z\" fill=\"#000000\"></path></svg><p class=\"sc-e6f263fc-0 sc-3fcb6f61-1 GItpw djcKen\" type=\"default\">13</p></div></div></div></div></article></div></div><div class=\"sc-328d61f-4 fdFAPT\" data-testid=\"item-wrapper\"><div class=\"sc-d36dcab1-2 jEjqOv\"><article class=\"sc-4db36029-0 JmcbN\" data-testid=\"review-overview\"><div class=\"sc-4db36029-1 mxzjd\"><a class=\"sc-fe6f7617-2 gMDrTB\" data-testid=\"poster\" height=\"38\" href=\"/film/civil_war/46283219\" width=\"30\"><span class=\"sc-fe6f7617-10 jOPVYC\" data-srcname=\"https://media.senscritique.com/media/000021964299/60/civil_war.png\" data-testid=\"poster-img-wrapper\"><span style=\"box-sizing:border-box;display:inline-block;overflow:hidden;width:initial;height:initial;background:none;opacity:1;border:0;margin:0;padding:0;position:relative;max-width:100%\"><span style=\"box-sizing:border-box;display:block;width:initial;height:initial;background:none;opacity:1;border:0;margin:0;padding:0;max-width:100%\"><img alt=\"\" aria-hidden=\"true\" src=\"data:image/svg+xml,%3csvg%20xmlns=%27http://www.w3.org/2000/svg%27%20version=%271.1%27%20width=%2730%27%20height=%2738%27/%3e\" style=\"display:block;max-width:100%;width:initial;height:initial;background:none;opacity:1;border:0;margin:0;padding:0\"/></span><img alt=\"Civil War\" data-cfstyle=\"22222\" data-nimg=\"intrinsic\" data-testid=\"poster-img\" decoding=\"async\" src=\"data:image/gif;base64,R0lGODlhAQABAIAAAAAAAP///yH5BAEAAAAALAAAAAABAAEAAAIBRAA7\" style=\"position:absolute;top:0;left:0;bottom:0;right:0;box-sizing:border-box;padding:0;border:none;margin:auto;display:block;width:0;height:0;min-width:100%;max-width:100%;min-height:100%;max-height:100%\"/><noscript><img alt=\"Civil War\" data-cfstyle=\"22222\" data-nimg=\"intrinsic\" data-testid=\"poster-img\" decoding=\"async\" loading=\"lazy\" src=\"https://media.senscritique.com/media/000021964299/60/civil_war.png\" style=\"position:absolute;top:0;left:0;bottom:0;right:0;box-sizing:border-box;padding:0;border:none;margin:auto;display:block;width:0;height:0;min-width:100%;max-width:100%;min-height:100%;max-height:100%\"/></noscript></span></span></a><div class=\"sc-4db36029-2 fyLWnW\"><div class=\"sc-48986368-0 hGEFbG\" data-testid=\"user-infos-hover\"><div class=\"sc-1a97d7be-0 gFHNhq\" data-testid=\"avatar\"><a class=\"sc-1a97d7be-3 fZBrFn\" data-srcname=\"https://media.senscritique.com/media/media/000007703024/48x48/avatar.jpg\" data-testid=\"avatar-img-wrapper\" href=\"/Sergent_Pepper\"><span style=\"box-sizing:border-box;display:inline-block;overflow:hidden;width:initial;height:initial;background:none;opacity:1;border:0;margin:0;padding:0;position:relative;max-width:100%\"><span style=\"box-sizing:border-box;display:block;width:initial;height:initial;background:none;opacity:1;border:0;margin:0;padding:0;max-width:100%\"><img alt=\"\" aria-hidden=\"true\" src=\"data:image/svg+xml,%3csvg%20xmlns=%27http://www.w3.org/2000/svg%27%20version=%271.1%27%20width=%2730%27%20height=%2730%27/%3e\" style=\"display:block;max-width:100%;width:initial;height:initial;background:none;opacity:1;border:0;margin:0;padding:0\"/></span><img alt=\"Sergent_Pepper\" data-cfstyle=\"22222\" data-nimg=\"intrinsic\" decoding=\"async\" src=\"data:image/gif;base64,R0lGODlhAQABAIAAAAAAAP///yH5BAEAAAAALAAAAAABAAEAAAIBRAA7\" style=\"position:absolute;top:0;left:0;bottom:0;right:0;box-sizing:border-box;padding:0;border:none;margin:auto;display:block;width:0;height:0;min-width:100%;max-width:100%;min-height:100%;max-height:100%;object-fit:cover\"/><noscript><img alt=\"Sergent_Pepper\" data-cfstyle=\"22222\" data-nimg=\"intrinsic\" decoding=\"async\" loading=\"lazy\" src=\"https://media.senscritique.com/media/media/000007703024/48x48/avatar.jpg\" style=\"position:absolute;top:0;left:0;bottom:0;right:0;box-sizing:border-box;padding:0;border:none;margin:auto;display:block;width:0;height:0;min-width:100%;max-width:100%;min-height:100%;max-height:100%;object-fit:cover\"/></noscript></span></a></div></div><div class=\"sc-8251ce8c-3 gbAIun sc-4db36029-3 iepouY\" data-testid=\"Rating\">7</div></div></div><div class=\"sc-4db36029-5 bhnzSw\"><div><div class=\"sc-4db36029-6 UhCEE\"><a class=\"sc-e6f263fc-0 sc-df6b780a-1 iZcnfG lbhoSA\" data-testid=\"productReviewTitle\" href=\"/film/civil_war/46283219\">Civil War</a></div></div><p class=\"sc-e6f263fc-0 sc-4db36029-4 bTynbZ irayCk\" data-testid=\"reviewTitle\" type=\"default\">None Nation under God</p><div><p class=\"sc-1e6d9d58-0 dnxDDB sc-3decf6b2-1 dKOLtS\" data-testid=\"linkify\"><span class=\"sc-e6f263fc-2 ewlOkV\" data-testid=\"linkify-text\" type=\"default\">Alors que la carrière de réalisateur d’Alex Garland déclinait irrémédiablement, de l’assez fascinant Ex Machina aux démonstrations poussives de Men, le nouveau virage opéré par Civil War a tout d’une...</span></p></div><div class=\"sc-4db36029-8 eCcJoU\"><a class=\"sc-e6f263fc-0 sc-df6b780a-0 iZcnfH fCIEaI link\" data-testid=\"link\" href=\"/film/civil_war/critique/304481575\">Lire la critique</a></div><div class=\"sc-4db36029-9 bSXbzM\"><div class=\"sc-4db36029-11 hwKoMt\"><div class=\"sc-4db36029-12 jGnYhw\"><p class=\"sc-e6f263fc-0 sc-4db36029-10 GItpw iMimBM\">Par</p><div class=\"sc-48986368-0 hGEFbG\" data-testid=\"user-infos-hover\"><div class=\"sc-b7da4c5c-0 hPKiHW sc-4db36029-13 cNreFH\" data-testid=\"username\"><div class=\"sc-b7da4c5c-1 bssQOL\"><a class=\"sc-e6f263fc-0 sc-b7da4c5c-2 GItpw gvGKDY\" href=\"/Sergent_Pepper\" type=\"default\">Sergent_Pepper</a></div></div></div></div><p class=\"sc-e6f263fc-0 sc-3b5d9ff1-0 GItpw dOiIbg\" type=\"default\"><span style=\"position:relative\">le 17 avr. 2024</span></p></div><div class=\"sc-4db36029-7 dDFvSk\"><div class=\"sc-8d1083e0-0 dRgahD\" data-testid=\"likes-number\"><div class=\"sc-8d1083e0-2 bNtPWj\" data-testid=\"like-icon-wrapper\"><svg class=\"sc-37abe902-0 ceHiek\" data-testid=\"icon-heart\" fill=\"none\" height=\"17\" viewbox=\"0 0 25 25\" width=\"17\" xmlns=\"http://www.w3.org/2000/svg\"><path d=\"M20.4502 5.28442L20.4502 5.2844C19.6474 4.73818 18.7175 4.45001 17.7709 4.44918C16.4219 4.45772 15.122 5.03184 14.1594 6.06073L14.1567 6.06357C14.0094 6.21946 13.8829 6.36796 13.7347 6.54193C13.633 6.66131 13.5211 6.79267 13.3853 6.94665L12.8241 7.58261L12.2616 6.94789C12.1151 6.78255 11.9976 6.64242 11.8922 6.51674C11.7278 6.32073 11.5929 6.15985 11.4233 5.99323L11.4159 5.98595L11.4087 5.97847C10.3817 4.91228 9.24873 4.42643 8.02627 4.42643H8.02068V4.4264C7.54649 4.42287 7.07383 4.48859 6.61599 4.6221L6.61144 4.62342L6.61143 4.62341C5.57825 4.91762 4.65657 5.56479 3.99305 6.47511L3.99305 6.47512C3.32909 7.38604 2.96267 8.50774 2.95628 9.66813L2.95626 9.67276C2.93743 11.2849 3.5315 12.6329 4.62278 13.767L4.63001 13.7745L4.62996 13.7746C6.71744 16.0053 8.82621 18.2361 10.935 20.4443L10.9376 20.447L10.9518 20.4621C11.5828 21.1296 12.2162 21.7996 12.8604 22.492L21.1038 13.7718L21.109 13.7663L21.109 13.7663C21.2902 13.5785 21.4574 13.3756 21.609 13.1591C22.8446 11.3789 23.1455 9.50905 22.3009 7.54771L20.4502 5.28442ZM20.4502 5.28442C21.2542 5.8314 21.8986 6.61541 22.3008 7.54764L20.4502 5.28442Z\" stroke=\"#000000\" stroke-width=\"1.5\"></path></svg></div><p class=\"sc-e6f263fc-0 sc-8d1083e0-1 GItpw XTOao\" type=\"default\">100 j'aime</p></div><div class=\"sc-3fcb6f61-0 kLxaHl\" data-testid=\"comments-number\"><svg fill=\"none\" height=\"17\" viewbox=\"0 0 25 25\" width=\"17\" xmlns=\"http://www.w3.org/2000/svg\"><path d=\"M18.5802 19.169L18.1582 18.549L17.8551 18.7553L17.8317 19.1212L18.5802 19.169ZM14.1174 20.8642L14.5077 20.2238L14.2782 20.084L14.0122 20.1217L14.1174 20.8642ZM14.5599 21.1479L14.1486 21.775L14.1486 21.775L14.5599 21.1479ZM20.1413 22.5058L20.2241 23.2512L22.1063 23.042L20.5913 21.9058L20.1413 22.5058ZM21.429 12.8269C21.429 15.0984 20.1858 17.1688 18.1582 18.549L19.0022 19.789C21.3648 18.1808 22.929 15.6794 22.929 12.8269H21.429ZM12.5002 5.42627C17.5574 5.42627 21.429 8.85525 21.429 12.8269H22.929C22.929 7.7956 18.1339 3.92627 12.5002 3.92627V5.42627ZM3.57129 12.8269C3.57129 8.85525 7.44294 5.42627 12.5002 5.42627V3.92627C6.86639 3.92627 2.07129 7.7956 2.07129 12.8269H3.57129ZM12.5002 20.2275C7.44294 20.2275 3.57129 16.7985 3.57129 12.8269H2.07129C2.07129 17.8582 6.86639 21.7275 12.5002 21.7275V20.2275ZM14.0122 20.1217C13.5211 20.1912 13.016 20.2275 12.5002 20.2275V21.7275C13.0864 21.7275 13.6618 21.6863 14.2226 21.6068L14.0122 20.1217ZM13.7271 21.5047C13.856 21.5833 13.9918 21.6722 14.1486 21.775L14.9712 20.5207C14.819 20.4209 14.6618 20.3177 14.5077 20.2238L13.7271 21.5047ZM14.1486 21.775C14.694 22.1328 15.4112 22.6061 16.3979 22.9319C17.3918 23.2601 18.624 23.429 20.2241 23.2512L20.0585 21.7603C18.6562 21.9162 17.6422 21.7632 16.8682 21.5076C16.0871 21.2496 15.5148 20.8772 14.9712 20.5207L14.1486 21.775ZM20.5913 21.9058C19.8426 21.3443 19.5485 20.8898 19.4198 20.5232C19.285 20.1391 19.294 19.7585 19.3287 19.2168L17.8317 19.1212C17.7979 19.65 17.7569 20.3148 18.0044 21.02C18.2581 21.7427 18.7787 22.4213 19.6913 23.1058L20.5913 21.9058Z\" fill=\"#000000\"></path></svg><p class=\"sc-e6f263fc-0 sc-3fcb6f61-1 GItpw djcKen\" type=\"default\">8</p></div></div></div></div></article></div></div></div><div class=\"sc-328d61f-6 broUYZ\" data-testid=\"arrow-wrapper\"><span class=\"sc-66b0902d-0 dXbNDQ\"><svg class=\"\" fill=\"none\" height=\"34\" viewbox=\"0 0 34 34\" width=\"34\" xmlns=\"http://www.w3.org/2000/svg\"><path clip-rule=\"evenodd\" d=\"M18.8889 1L34 17L18.8889 33L17 30.9683L29.9861 17L17 3.03175\" fill=\"#1A1A1A\" fill-rule=\"evenodd\"></path></svg></span></div></div>,\n",
       " <div class=\"sc-328d61f-2 dLhSYv\"><div class=\"sc-328d61f-5 ljxugn\" data-testid=\"arrow-wrapper\"><span class=\"sc-66b0902d-0 dXbNDQ\"><svg class=\"\" fill=\"none\" height=\"34\" viewbox=\"0 0 34 34\" width=\"34\" xmlns=\"http://www.w3.org/2000/svg\"><path clip-rule=\"evenodd\" d=\"M18.8889 1L34 17L18.8889 33L17 30.9683L29.9861 17L17 3.03175\" fill=\"#1A1A1A\" fill-rule=\"evenodd\"></path></svg></span></div><div class=\"sc-328d61f-3 epftsU\" data-testid=\"items-wrapper\"><div class=\"sc-328d61f-4 fdFAPT\" data-testid=\"item-wrapper\"><div class=\"sc-def8c7bf-2 dvlvlc\"><div class=\"sc-6687e0c2-0 kdhVcm\" data-testid=\"reaction\"><div class=\"sc-6687e0c2-1 heTpRP\"><a class=\"sc-fe6f7617-2 gMDrTB\" data-testid=\"poster\" height=\"38\" href=\"/film/le_gouffre_aux_chimeres/366885\" width=\"30\"><span class=\"sc-fe6f7617-10 jOPVYC\" data-srcname=\"https://media.senscritique.com/media/000020055112/300/le_gouffre_aux_chimeres.jpg\" data-testid=\"poster-img-wrapper\"><span style=\"box-sizing:border-box;display:inline-block;overflow:hidden;width:initial;height:initial;background:none;opacity:1;border:0;margin:0;padding:0;position:relative;max-width:100%\"><span style=\"box-sizing:border-box;display:block;width:initial;height:initial;background:none;opacity:1;border:0;margin:0;padding:0;max-width:100%\"><img alt=\"\" aria-hidden=\"true\" src=\"data:image/svg+xml,%3csvg%20xmlns=%27http://www.w3.org/2000/svg%27%20version=%271.1%27%20width=%2730%27%20height=%2738%27/%3e\" style=\"display:block;max-width:100%;width:initial;height:initial;background:none;opacity:1;border:0;margin:0;padding:0\"/></span><img alt=\"Le Gouffre aux chimères\" data-cfstyle=\"22222\" data-nimg=\"intrinsic\" data-testid=\"poster-img\" decoding=\"async\" src=\"data:image/gif;base64,R0lGODlhAQABAIAAAAAAAP///yH5BAEAAAAALAAAAAABAAEAAAIBRAA7\" style=\"position:absolute;top:0;left:0;bottom:0;right:0;box-sizing:border-box;padding:0;border:none;margin:auto;display:block;width:0;height:0;min-width:100%;max-width:100%;min-height:100%;max-height:100%\"/><noscript><img alt=\"Le Gouffre aux chimères\" data-cfstyle=\"22222\" data-nimg=\"intrinsic\" data-testid=\"poster-img\" decoding=\"async\" loading=\"lazy\" src=\"https://media.senscritique.com/media/000020055112/300/le_gouffre_aux_chimeres.jpg\" style=\"position:absolute;top:0;left:0;bottom:0;right:0;box-sizing:border-box;padding:0;border:none;margin:auto;display:block;width:0;height:0;min-width:100%;max-width:100%;min-height:100%;max-height:100%\"/></noscript></span></span></a><div class=\"sc-48986368-0 hGEFbG\" data-testid=\"user-infos-hover\"><div class=\"sc-1a97d7be-0 gFHNhq\" data-testid=\"avatar\"><a class=\"sc-1a97d7be-3 fZBrFn\" data-srcname=\"https://media.senscritique.com/media/media/000020719576/120x120/avatar.jpg\" data-testid=\"avatar-img-wrapper\" href=\"/Star-Lord09\"><span style=\"box-sizing:border-box;display:inline-block;overflow:hidden;width:initial;height:initial;background:none;opacity:1;border:0;margin:0;padding:0;position:relative;max-width:100%\"><span style=\"box-sizing:border-box;display:block;width:initial;height:initial;background:none;opacity:1;border:0;margin:0;padding:0;max-width:100%\"><img alt=\"\" aria-hidden=\"true\" src=\"data:image/svg+xml,%3csvg%20xmlns=%27http://www.w3.org/2000/svg%27%20version=%271.1%27%20width=%2730%27%20height=%2730%27/%3e\" style=\"display:block;max-width:100%;width:initial;height:initial;background:none;opacity:1;border:0;margin:0;padding:0\"/></span><img alt=\"Star-Lord09\" data-cfstyle=\"22222\" data-nimg=\"intrinsic\" decoding=\"async\" src=\"data:image/gif;base64,R0lGODlhAQABAIAAAAAAAP///yH5BAEAAAAALAAAAAABAAEAAAIBRAA7\" style=\"position:absolute;top:0;left:0;bottom:0;right:0;box-sizing:border-box;padding:0;border:none;margin:auto;display:block;width:0;height:0;min-width:100%;max-width:100%;min-height:100%;max-height:100%;object-fit:cover\"/><noscript><img alt=\"Star-Lord09\" data-cfstyle=\"22222\" data-nimg=\"intrinsic\" decoding=\"async\" loading=\"lazy\" src=\"https://media.senscritique.com/media/media/000020719576/120x120/avatar.jpg\" style=\"position:absolute;top:0;left:0;bottom:0;right:0;box-sizing:border-box;padding:0;border:none;margin:auto;display:block;width:0;height:0;min-width:100%;max-width:100%;min-height:100%;max-height:100%;object-fit:cover\"/></noscript></span></a></div></div></div><div class=\"sc-6687e0c2-2 kDRAhj\"><div class=\"sc-6687e0c2-3 llLDpy\"><a href=\"/film/le_gouffre_aux_chimeres/366885\"><p class=\"sc-e6f263fc-0 iZcnfI\" data-testid=\"title-product\" type=\"default\">Le Gouffre aux chimères</p></a><div class=\"sc-eed2a4bf-4 jFzWML\" data-testid=\"dropdown-hover\"><svg class=\"sc-51c40abb-0 bBrhEk sc-eed2a4bf-2 kILtUO\" fill=\"none\" height=\"20\" viewbox=\"0 0 21 21\" width=\"20\" xmlns=\"http://www.w3.org/2000/svg\"><ellipse class=\"sc-51c40abb-1 dIfKiZ\" color=\"greyChateau\" cx=\"4.74605\" cy=\"11.0452\" rx=\"1.071\" ry=\"1.071\"></ellipse><ellipse class=\"sc-51c40abb-1 dIfKiZ\" color=\"greyChateau\" cx=\"10.5\" cy=\"11.0452\" rx=\"1.071\" ry=\"1.071\"></ellipse><ellipse class=\"sc-51c40abb-1 dIfKiZ\" color=\"greyChateau\" cx=\"16.2541\" cy=\"11.0452\" rx=\"1.071\" ry=\"1.071\"></ellipse></svg></div></div><div class=\"sc-6687e0c2-4 jFcSxp\"><p class=\"sc-1e6d9d58-0 dnxDDB sc-6687e0c2-6 bByzmL\" data-testid=\"linkify\"><span class=\"sc-e6f263fc-2 ewlOkV\" data-testid=\"linkify-text\" type=\"default\">Jamais édité chez nous ni en VHS, ni en DVD, ni en blu-ray. Rimini vient juste de signer et annonce une sortie courant 2025. J'dis ça, j'dis quelque chose.</span></p></div><a class=\"sc-e6f263fc-0 sc-df6b780a-1 iZcnfH kvLABN\" data-testid=\"link\" href=\"/activity/287669788\"><p class=\"sc-e6f263fc-0 sc-3b5d9ff1-0 GItpw dOiIbg\" type=\"default\"><span style=\"position:relative\">il y a 6 jours</span></p></a><div class=\"sc-6687e0c2-5 bLYDob\"><div class=\"sc-8d1083e0-0 dRgahD\" data-testid=\"likes-number\"><div class=\"sc-8d1083e0-2 bNtPWj\" data-testid=\"like-icon-wrapper\"><svg class=\"sc-37abe902-0 ceHiek\" data-testid=\"icon-heart\" fill=\"none\" height=\"17\" viewbox=\"0 0 25 25\" width=\"17\" xmlns=\"http://www.w3.org/2000/svg\"><path d=\"M20.4502 5.28442L20.4502 5.2844C19.6474 4.73818 18.7175 4.45001 17.7709 4.44918C16.4219 4.45772 15.122 5.03184 14.1594 6.06073L14.1567 6.06357C14.0094 6.21946 13.8829 6.36796 13.7347 6.54193C13.633 6.66131 13.5211 6.79267 13.3853 6.94665L12.8241 7.58261L12.2616 6.94789C12.1151 6.78255 11.9976 6.64242 11.8922 6.51674C11.7278 6.32073 11.5929 6.15985 11.4233 5.99323L11.4159 5.98595L11.4087 5.97847C10.3817 4.91228 9.24873 4.42643 8.02627 4.42643H8.02068V4.4264C7.54649 4.42287 7.07383 4.48859 6.61599 4.6221L6.61144 4.62342L6.61143 4.62341C5.57825 4.91762 4.65657 5.56479 3.99305 6.47511L3.99305 6.47512C3.32909 7.38604 2.96267 8.50774 2.95628 9.66813L2.95626 9.67276C2.93743 11.2849 3.5315 12.6329 4.62278 13.767L4.63001 13.7745L4.62996 13.7746C6.71744 16.0053 8.82621 18.2361 10.935 20.4443L10.9376 20.447L10.9518 20.4621C11.5828 21.1296 12.2162 21.7996 12.8604 22.492L21.1038 13.7718L21.109 13.7663L21.109 13.7663C21.2902 13.5785 21.4574 13.3756 21.609 13.1591C22.8446 11.3789 23.1455 9.50905 22.3009 7.54771L20.4502 5.28442ZM20.4502 5.28442C21.2542 5.8314 21.8986 6.61541 22.3008 7.54764L20.4502 5.28442Z\" stroke=\"#000000\" stroke-width=\"1.5\"></path></svg></div><p class=\"sc-e6f263fc-0 sc-8d1083e0-1 GItpw XTOao\" type=\"default\">10 j'aime</p></div><div class=\"sc-3fcb6f61-0 kLxaHl\" data-testid=\"comments-number\"><svg fill=\"none\" height=\"17\" viewbox=\"0 0 25 25\" width=\"17\" xmlns=\"http://www.w3.org/2000/svg\"><path d=\"M18.5802 19.169L18.1582 18.549L17.8551 18.7553L17.8317 19.1212L18.5802 19.169ZM14.1174 20.8642L14.5077 20.2238L14.2782 20.084L14.0122 20.1217L14.1174 20.8642ZM14.5599 21.1479L14.1486 21.775L14.1486 21.775L14.5599 21.1479ZM20.1413 22.5058L20.2241 23.2512L22.1063 23.042L20.5913 21.9058L20.1413 22.5058ZM21.429 12.8269C21.429 15.0984 20.1858 17.1688 18.1582 18.549L19.0022 19.789C21.3648 18.1808 22.929 15.6794 22.929 12.8269H21.429ZM12.5002 5.42627C17.5574 5.42627 21.429 8.85525 21.429 12.8269H22.929C22.929 7.7956 18.1339 3.92627 12.5002 3.92627V5.42627ZM3.57129 12.8269C3.57129 8.85525 7.44294 5.42627 12.5002 5.42627V3.92627C6.86639 3.92627 2.07129 7.7956 2.07129 12.8269H3.57129ZM12.5002 20.2275C7.44294 20.2275 3.57129 16.7985 3.57129 12.8269H2.07129C2.07129 17.8582 6.86639 21.7275 12.5002 21.7275V20.2275ZM14.0122 20.1217C13.5211 20.1912 13.016 20.2275 12.5002 20.2275V21.7275C13.0864 21.7275 13.6618 21.6863 14.2226 21.6068L14.0122 20.1217ZM13.7271 21.5047C13.856 21.5833 13.9918 21.6722 14.1486 21.775L14.9712 20.5207C14.819 20.4209 14.6618 20.3177 14.5077 20.2238L13.7271 21.5047ZM14.1486 21.775C14.694 22.1328 15.4112 22.6061 16.3979 22.9319C17.3918 23.2601 18.624 23.429 20.2241 23.2512L20.0585 21.7603C18.6562 21.9162 17.6422 21.7632 16.8682 21.5076C16.0871 21.2496 15.5148 20.8772 14.9712 20.5207L14.1486 21.775ZM20.5913 21.9058C19.8426 21.3443 19.5485 20.8898 19.4198 20.5232C19.285 20.1391 19.294 19.7585 19.3287 19.2168L17.8317 19.1212C17.7979 19.65 17.7569 20.3148 18.0044 21.02C18.2581 21.7427 18.7787 22.4213 19.6913 23.1058L20.5913 21.9058Z\" fill=\"#000000\"></path></svg><p class=\"sc-e6f263fc-0 sc-3fcb6f61-1 GItpw djcKen\" type=\"default\">4</p></div></div></div></div></div></div><div class=\"sc-328d61f-4 fdFAPT\" data-testid=\"item-wrapper\"><div class=\"sc-def8c7bf-2 dvlvlc\"><div class=\"sc-6687e0c2-0 kdhVcm\" data-testid=\"reaction\"><div class=\"sc-6687e0c2-1 heTpRP\"><a class=\"sc-fe6f7617-2 gMDrTB\" data-testid=\"poster\" height=\"38\" href=\"/film/megalopolis/39074394\" width=\"30\"><span class=\"sc-fe6f7617-10 jOPVYC\" data-srcname=\"https://media.senscritique.com/media/000022065142/300/megalopolis.jpg\" data-testid=\"poster-img-wrapper\"><span style=\"box-sizing:border-box;display:inline-block;overflow:hidden;width:initial;height:initial;background:none;opacity:1;border:0;margin:0;padding:0;position:relative;max-width:100%\"><span style=\"box-sizing:border-box;display:block;width:initial;height:initial;background:none;opacity:1;border:0;margin:0;padding:0;max-width:100%\"><img alt=\"\" aria-hidden=\"true\" src=\"data:image/svg+xml,%3csvg%20xmlns=%27http://www.w3.org/2000/svg%27%20version=%271.1%27%20width=%2730%27%20height=%2738%27/%3e\" style=\"display:block;max-width:100%;width:initial;height:initial;background:none;opacity:1;border:0;margin:0;padding:0\"/></span><img alt=\"Megalopolis\" data-cfstyle=\"22222\" data-nimg=\"intrinsic\" data-testid=\"poster-img\" decoding=\"async\" src=\"data:image/gif;base64,R0lGODlhAQABAIAAAAAAAP///yH5BAEAAAAALAAAAAABAAEAAAIBRAA7\" style=\"position:absolute;top:0;left:0;bottom:0;right:0;box-sizing:border-box;padding:0;border:none;margin:auto;display:block;width:0;height:0;min-width:100%;max-width:100%;min-height:100%;max-height:100%\"/><noscript><img alt=\"Megalopolis\" data-cfstyle=\"22222\" data-nimg=\"intrinsic\" data-testid=\"poster-img\" decoding=\"async\" loading=\"lazy\" src=\"https://media.senscritique.com/media/000022065142/300/megalopolis.jpg\" style=\"position:absolute;top:0;left:0;bottom:0;right:0;box-sizing:border-box;padding:0;border:none;margin:auto;display:block;width:0;height:0;min-width:100%;max-width:100%;min-height:100%;max-height:100%\"/></noscript></span></span></a><div class=\"sc-48986368-0 hGEFbG\" data-testid=\"user-infos-hover\"><div class=\"sc-1a97d7be-0 gFHNhq\" data-testid=\"avatar\"><a class=\"sc-1a97d7be-3 fZBrFn\" data-srcname=\"https://media.senscritique.com/media/media/000021825892/120x120/avatar.jpg\" data-testid=\"avatar-img-wrapper\" href=\"/j%C3%A9r%C3%B4mej_\"><span style=\"box-sizing:border-box;display:inline-block;overflow:hidden;width:initial;height:initial;background:none;opacity:1;border:0;margin:0;padding:0;position:relative;max-width:100%\"><span style=\"box-sizing:border-box;display:block;width:initial;height:initial;background:none;opacity:1;border:0;margin:0;padding:0;max-width:100%\"><img alt=\"\" aria-hidden=\"true\" src=\"data:image/svg+xml,%3csvg%20xmlns=%27http://www.w3.org/2000/svg%27%20version=%271.1%27%20width=%2730%27%20height=%2730%27/%3e\" style=\"display:block;max-width:100%;width:initial;height:initial;background:none;opacity:1;border:0;margin:0;padding:0\"/></span><img alt=\"jérômej_\" data-cfstyle=\"22222\" data-nimg=\"intrinsic\" decoding=\"async\" src=\"data:image/gif;base64,R0lGODlhAQABAIAAAAAAAP///yH5BAEAAAAALAAAAAABAAEAAAIBRAA7\" style=\"position:absolute;top:0;left:0;bottom:0;right:0;box-sizing:border-box;padding:0;border:none;margin:auto;display:block;width:0;height:0;min-width:100%;max-width:100%;min-height:100%;max-height:100%;object-fit:cover\"/><noscript><img alt=\"jérômej_\" data-cfstyle=\"22222\" data-nimg=\"intrinsic\" decoding=\"async\" loading=\"lazy\" src=\"https://media.senscritique.com/media/media/000021825892/120x120/avatar.jpg\" style=\"position:absolute;top:0;left:0;bottom:0;right:0;box-sizing:border-box;padding:0;border:none;margin:auto;display:block;width:0;height:0;min-width:100%;max-width:100%;min-height:100%;max-height:100%;object-fit:cover\"/></noscript></span></a></div></div></div><div class=\"sc-6687e0c2-2 kDRAhj\"><div class=\"sc-6687e0c2-3 llLDpy\"><a href=\"/film/megalopolis/39074394\"><p class=\"sc-e6f263fc-0 iZcnfI\" data-testid=\"title-product\" type=\"default\">Megalopolis</p></a><div class=\"sc-eed2a4bf-4 jFzWML\" data-testid=\"dropdown-hover\"><svg class=\"sc-51c40abb-0 bBrhEk sc-eed2a4bf-2 kILtUO\" fill=\"none\" height=\"20\" viewbox=\"0 0 21 21\" width=\"20\" xmlns=\"http://www.w3.org/2000/svg\"><ellipse class=\"sc-51c40abb-1 dIfKiZ\" color=\"greyChateau\" cx=\"4.74605\" cy=\"11.0452\" rx=\"1.071\" ry=\"1.071\"></ellipse><ellipse class=\"sc-51c40abb-1 dIfKiZ\" color=\"greyChateau\" cx=\"10.5\" cy=\"11.0452\" rx=\"1.071\" ry=\"1.071\"></ellipse><ellipse class=\"sc-51c40abb-1 dIfKiZ\" color=\"greyChateau\" cx=\"16.2541\" cy=\"11.0452\" rx=\"1.071\" ry=\"1.071\"></ellipse></svg></div></div><div class=\"sc-6687e0c2-4 jFcSxp\"><p class=\"sc-1e6d9d58-0 dnxDDB sc-6687e0c2-6 bByzmL\" data-testid=\"linkify\"><span class=\"sc-e6f263fc-2 ewlOkV\" data-testid=\"linkify-text\" type=\"default\">Les premières images sont enfin là !</span><span class=\"sc-e6f263fc-2 ewlOkV\"><a class=\"sc-1e6d9d58-1 ijnPJo\" data-testid=\"linkify-link\" href=\"https://www.youtube.com/watch?v=8BP2y0wz49U\" rel=\"nofollow noopener noreferrer\" target=\"_blank\">https://www.youtube.com/watch?v=8BP2y0wz49U</a></span><span class=\"sc-e6f263fc-2 ewlOkV\" data-testid=\"linkify-text\" type=\"default\"></span></p></div><a class=\"sc-e6f263fc-0 sc-df6b780a-1 iZcnfH kvLABN\" data-testid=\"link\" href=\"/activity/287726408\"><p class=\"sc-e6f263fc-0 sc-3b5d9ff1-0 GItpw dOiIbg\" type=\"default\"><span style=\"position:relative\">il y a 4 jours</span></p></a><div class=\"sc-6687e0c2-5 bLYDob\"><div class=\"sc-8d1083e0-0 dRgahD\" data-testid=\"likes-number\"><div class=\"sc-8d1083e0-2 bNtPWj\" data-testid=\"like-icon-wrapper\"><svg class=\"sc-37abe902-0 ceHiek\" data-testid=\"icon-heart\" fill=\"none\" height=\"17\" viewbox=\"0 0 25 25\" width=\"17\" xmlns=\"http://www.w3.org/2000/svg\"><path d=\"M20.4502 5.28442L20.4502 5.2844C19.6474 4.73818 18.7175 4.45001 17.7709 4.44918C16.4219 4.45772 15.122 5.03184 14.1594 6.06073L14.1567 6.06357C14.0094 6.21946 13.8829 6.36796 13.7347 6.54193C13.633 6.66131 13.5211 6.79267 13.3853 6.94665L12.8241 7.58261L12.2616 6.94789C12.1151 6.78255 11.9976 6.64242 11.8922 6.51674C11.7278 6.32073 11.5929 6.15985 11.4233 5.99323L11.4159 5.98595L11.4087 5.97847C10.3817 4.91228 9.24873 4.42643 8.02627 4.42643H8.02068V4.4264C7.54649 4.42287 7.07383 4.48859 6.61599 4.6221L6.61144 4.62342L6.61143 4.62341C5.57825 4.91762 4.65657 5.56479 3.99305 6.47511L3.99305 6.47512C3.32909 7.38604 2.96267 8.50774 2.95628 9.66813L2.95626 9.67276C2.93743 11.2849 3.5315 12.6329 4.62278 13.767L4.63001 13.7745L4.62996 13.7746C6.71744 16.0053 8.82621 18.2361 10.935 20.4443L10.9376 20.447L10.9518 20.4621C11.5828 21.1296 12.2162 21.7996 12.8604 22.492L21.1038 13.7718L21.109 13.7663L21.109 13.7663C21.2902 13.5785 21.4574 13.3756 21.609 13.1591C22.8446 11.3789 23.1455 9.50905 22.3009 7.54771L20.4502 5.28442ZM20.4502 5.28442C21.2542 5.8314 21.8986 6.61541 22.3008 7.54764L20.4502 5.28442Z\" stroke=\"#000000\" stroke-width=\"1.5\"></path></svg></div><p class=\"sc-e6f263fc-0 sc-8d1083e0-1 GItpw XTOao\" type=\"default\">6 j'aime</p></div><div class=\"sc-3fcb6f61-0 kLxaHl\" data-testid=\"comments-number\"><svg fill=\"none\" height=\"17\" viewbox=\"0 0 25 25\" width=\"17\" xmlns=\"http://www.w3.org/2000/svg\"><path d=\"M18.5802 19.169L18.1582 18.549L17.8551 18.7553L17.8317 19.1212L18.5802 19.169ZM14.1174 20.8642L14.5077 20.2238L14.2782 20.084L14.0122 20.1217L14.1174 20.8642ZM14.5599 21.1479L14.1486 21.775L14.1486 21.775L14.5599 21.1479ZM20.1413 22.5058L20.2241 23.2512L22.1063 23.042L20.5913 21.9058L20.1413 22.5058ZM21.429 12.8269C21.429 15.0984 20.1858 17.1688 18.1582 18.549L19.0022 19.789C21.3648 18.1808 22.929 15.6794 22.929 12.8269H21.429ZM12.5002 5.42627C17.5574 5.42627 21.429 8.85525 21.429 12.8269H22.929C22.929 7.7956 18.1339 3.92627 12.5002 3.92627V5.42627ZM3.57129 12.8269C3.57129 8.85525 7.44294 5.42627 12.5002 5.42627V3.92627C6.86639 3.92627 2.07129 7.7956 2.07129 12.8269H3.57129ZM12.5002 20.2275C7.44294 20.2275 3.57129 16.7985 3.57129 12.8269H2.07129C2.07129 17.8582 6.86639 21.7275 12.5002 21.7275V20.2275ZM14.0122 20.1217C13.5211 20.1912 13.016 20.2275 12.5002 20.2275V21.7275C13.0864 21.7275 13.6618 21.6863 14.2226 21.6068L14.0122 20.1217ZM13.7271 21.5047C13.856 21.5833 13.9918 21.6722 14.1486 21.775L14.9712 20.5207C14.819 20.4209 14.6618 20.3177 14.5077 20.2238L13.7271 21.5047ZM14.1486 21.775C14.694 22.1328 15.4112 22.6061 16.3979 22.9319C17.3918 23.2601 18.624 23.429 20.2241 23.2512L20.0585 21.7603C18.6562 21.9162 17.6422 21.7632 16.8682 21.5076C16.0871 21.2496 15.5148 20.8772 14.9712 20.5207L14.1486 21.775ZM20.5913 21.9058C19.8426 21.3443 19.5485 20.8898 19.4198 20.5232C19.285 20.1391 19.294 19.7585 19.3287 19.2168L17.8317 19.1212C17.7979 19.65 17.7569 20.3148 18.0044 21.02C18.2581 21.7427 18.7787 22.4213 19.6913 23.1058L20.5913 21.9058Z\" fill=\"#000000\"></path></svg><p class=\"sc-e6f263fc-0 sc-3fcb6f61-1 GItpw djcKen\" type=\"default\">1</p></div></div></div></div></div></div><div class=\"sc-328d61f-4 fdFAPT\" data-testid=\"item-wrapper\"><div class=\"sc-def8c7bf-2 dvlvlc\"><div class=\"sc-6687e0c2-0 kdhVcm\" data-testid=\"reaction\"><div class=\"sc-6687e0c2-1 heTpRP\"><a class=\"sc-fe6f7617-2 gMDrTB\" data-testid=\"poster\" height=\"38\" href=\"/film/wwe_backlash_france_2024/88963670\" width=\"30\"><span class=\"sc-fe6f7617-10 jOPVYC\" data-srcname=\"https://media.senscritique.com/media/000022086819/300/wwe_backlash_france_2024.jpg\" data-testid=\"poster-img-wrapper\"><span style=\"box-sizing:border-box;display:inline-block;overflow:hidden;width:initial;height:initial;background:none;opacity:1;border:0;margin:0;padding:0;position:relative;max-width:100%\"><span style=\"box-sizing:border-box;display:block;width:initial;height:initial;background:none;opacity:1;border:0;margin:0;padding:0;max-width:100%\"><img alt=\"\" aria-hidden=\"true\" src=\"data:image/svg+xml,%3csvg%20xmlns=%27http://www.w3.org/2000/svg%27%20version=%271.1%27%20width=%2730%27%20height=%2738%27/%3e\" style=\"display:block;max-width:100%;width:initial;height:initial;background:none;opacity:1;border:0;margin:0;padding:0\"/></span><img alt=\"WWE : Backlash France (2024)\" data-cfstyle=\"22222\" data-nimg=\"intrinsic\" data-testid=\"poster-img\" decoding=\"async\" src=\"data:image/gif;base64,R0lGODlhAQABAIAAAAAAAP///yH5BAEAAAAALAAAAAABAAEAAAIBRAA7\" style=\"position:absolute;top:0;left:0;bottom:0;right:0;box-sizing:border-box;padding:0;border:none;margin:auto;display:block;width:0;height:0;min-width:100%;max-width:100%;min-height:100%;max-height:100%\"/><noscript><img alt=\"WWE : Backlash France (2024)\" data-cfstyle=\"22222\" data-nimg=\"intrinsic\" data-testid=\"poster-img\" decoding=\"async\" loading=\"lazy\" src=\"https://media.senscritique.com/media/000022086819/300/wwe_backlash_france_2024.jpg\" style=\"position:absolute;top:0;left:0;bottom:0;right:0;box-sizing:border-box;padding:0;border:none;margin:auto;display:block;width:0;height:0;min-width:100%;max-width:100%;min-height:100%;max-height:100%\"/></noscript></span></span></a><div class=\"sc-48986368-0 hGEFbG\" data-testid=\"user-infos-hover\"><div class=\"sc-1a97d7be-0 gFHNhq\" data-testid=\"avatar\"><a class=\"sc-1a97d7be-3 fZBrFn\" data-srcname=\"https://media.senscritique.com/media/media/000006906000/120x120/avatar.png\" data-testid=\"avatar-img-wrapper\" href=\"/Attichit\"><span style=\"box-sizing:border-box;display:inline-block;overflow:hidden;width:initial;height:initial;background:none;opacity:1;border:0;margin:0;padding:0;position:relative;max-width:100%\"><span style=\"box-sizing:border-box;display:block;width:initial;height:initial;background:none;opacity:1;border:0;margin:0;padding:0;max-width:100%\"><img alt=\"\" aria-hidden=\"true\" src=\"data:image/svg+xml,%3csvg%20xmlns=%27http://www.w3.org/2000/svg%27%20version=%271.1%27%20width=%2730%27%20height=%2730%27/%3e\" style=\"display:block;max-width:100%;width:initial;height:initial;background:none;opacity:1;border:0;margin:0;padding:0\"/></span><img alt=\"Attichit\" data-cfstyle=\"22222\" data-nimg=\"intrinsic\" decoding=\"async\" src=\"data:image/gif;base64,R0lGODlhAQABAIAAAAAAAP///yH5BAEAAAAALAAAAAABAAEAAAIBRAA7\" style=\"position:absolute;top:0;left:0;bottom:0;right:0;box-sizing:border-box;padding:0;border:none;margin:auto;display:block;width:0;height:0;min-width:100%;max-width:100%;min-height:100%;max-height:100%;object-fit:cover\"/><noscript><img alt=\"Attichit\" data-cfstyle=\"22222\" data-nimg=\"intrinsic\" decoding=\"async\" loading=\"lazy\" src=\"https://media.senscritique.com/media/media/000006906000/120x120/avatar.png\" style=\"position:absolute;top:0;left:0;bottom:0;right:0;box-sizing:border-box;padding:0;border:none;margin:auto;display:block;width:0;height:0;min-width:100%;max-width:100%;min-height:100%;max-height:100%;object-fit:cover\"/></noscript></span></a></div></div></div><div class=\"sc-6687e0c2-2 kDRAhj\"><div class=\"sc-6687e0c2-3 llLDpy\"><a href=\"/film/wwe_backlash_france_2024/88963670\"><p class=\"sc-e6f263fc-0 iZcnfI\" data-testid=\"title-product\" type=\"default\">WWE : Backlash France (2024)</p></a><div class=\"sc-eed2a4bf-4 jFzWML\" data-testid=\"dropdown-hover\"><svg class=\"sc-51c40abb-0 bBrhEk sc-eed2a4bf-2 kILtUO\" fill=\"none\" height=\"20\" viewbox=\"0 0 21 21\" width=\"20\" xmlns=\"http://www.w3.org/2000/svg\"><ellipse class=\"sc-51c40abb-1 dIfKiZ\" color=\"greyChateau\" cx=\"4.74605\" cy=\"11.0452\" rx=\"1.071\" ry=\"1.071\"></ellipse><ellipse class=\"sc-51c40abb-1 dIfKiZ\" color=\"greyChateau\" cx=\"10.5\" cy=\"11.0452\" rx=\"1.071\" ry=\"1.071\"></ellipse><ellipse class=\"sc-51c40abb-1 dIfKiZ\" color=\"greyChateau\" cx=\"16.2541\" cy=\"11.0452\" rx=\"1.071\" ry=\"1.071\"></ellipse></svg></div></div><div class=\"sc-6687e0c2-4 jFcSxp\"><p class=\"sc-1e6d9d58-0 dnxDDB sc-6687e0c2-6 bByzmL\" data-testid=\"linkify\"><span class=\"sc-e6f263fc-2 ewlOkV\" data-testid=\"linkify-text\" type=\"default\">C'était vraiment phénoménal.</span></p></div><a class=\"sc-e6f263fc-0 sc-df6b780a-1 iZcnfH kvLABN\" data-testid=\"link\" href=\"/activity/287746844\"><p class=\"sc-e6f263fc-0 sc-3b5d9ff1-0 GItpw dOiIbg\" type=\"default\"><span style=\"position:relative\">il y a 4 jours</span></p></a><div class=\"sc-6687e0c2-5 bLYDob\"><div class=\"sc-8d1083e0-0 dRgahD\" data-testid=\"likes-number\"><div class=\"sc-8d1083e0-2 bNtPWj\" data-testid=\"like-icon-wrapper\"><svg class=\"sc-37abe902-0 ceHiek\" data-testid=\"icon-heart\" fill=\"none\" height=\"17\" viewbox=\"0 0 25 25\" width=\"17\" xmlns=\"http://www.w3.org/2000/svg\"><path d=\"M20.4502 5.28442L20.4502 5.2844C19.6474 4.73818 18.7175 4.45001 17.7709 4.44918C16.4219 4.45772 15.122 5.03184 14.1594 6.06073L14.1567 6.06357C14.0094 6.21946 13.8829 6.36796 13.7347 6.54193C13.633 6.66131 13.5211 6.79267 13.3853 6.94665L12.8241 7.58261L12.2616 6.94789C12.1151 6.78255 11.9976 6.64242 11.8922 6.51674C11.7278 6.32073 11.5929 6.15985 11.4233 5.99323L11.4159 5.98595L11.4087 5.97847C10.3817 4.91228 9.24873 4.42643 8.02627 4.42643H8.02068V4.4264C7.54649 4.42287 7.07383 4.48859 6.61599 4.6221L6.61144 4.62342L6.61143 4.62341C5.57825 4.91762 4.65657 5.56479 3.99305 6.47511L3.99305 6.47512C3.32909 7.38604 2.96267 8.50774 2.95628 9.66813L2.95626 9.67276C2.93743 11.2849 3.5315 12.6329 4.62278 13.767L4.63001 13.7745L4.62996 13.7746C6.71744 16.0053 8.82621 18.2361 10.935 20.4443L10.9376 20.447L10.9518 20.4621C11.5828 21.1296 12.2162 21.7996 12.8604 22.492L21.1038 13.7718L21.109 13.7663L21.109 13.7663C21.2902 13.5785 21.4574 13.3756 21.609 13.1591C22.8446 11.3789 23.1455 9.50905 22.3009 7.54771L20.4502 5.28442ZM20.4502 5.28442C21.2542 5.8314 21.8986 6.61541 22.3008 7.54764L20.4502 5.28442Z\" stroke=\"#000000\" stroke-width=\"1.5\"></path></svg></div><p class=\"sc-e6f263fc-0 sc-8d1083e0-1 GItpw XTOao\" type=\"default\">5 j'aime</p></div><div class=\"sc-3fcb6f61-0 kLxaHl\" data-testid=\"comments-number\"><svg fill=\"none\" height=\"17\" viewbox=\"0 0 25 25\" width=\"17\" xmlns=\"http://www.w3.org/2000/svg\"><path d=\"M18.5802 19.169L18.1582 18.549L17.8551 18.7553L17.8317 19.1212L18.5802 19.169ZM14.1174 20.8642L14.5077 20.2238L14.2782 20.084L14.0122 20.1217L14.1174 20.8642ZM14.5599 21.1479L14.1486 21.775L14.1486 21.775L14.5599 21.1479ZM20.1413 22.5058L20.2241 23.2512L22.1063 23.042L20.5913 21.9058L20.1413 22.5058ZM21.429 12.8269C21.429 15.0984 20.1858 17.1688 18.1582 18.549L19.0022 19.789C21.3648 18.1808 22.929 15.6794 22.929 12.8269H21.429ZM12.5002 5.42627C17.5574 5.42627 21.429 8.85525 21.429 12.8269H22.929C22.929 7.7956 18.1339 3.92627 12.5002 3.92627V5.42627ZM3.57129 12.8269C3.57129 8.85525 7.44294 5.42627 12.5002 5.42627V3.92627C6.86639 3.92627 2.07129 7.7956 2.07129 12.8269H3.57129ZM12.5002 20.2275C7.44294 20.2275 3.57129 16.7985 3.57129 12.8269H2.07129C2.07129 17.8582 6.86639 21.7275 12.5002 21.7275V20.2275ZM14.0122 20.1217C13.5211 20.1912 13.016 20.2275 12.5002 20.2275V21.7275C13.0864 21.7275 13.6618 21.6863 14.2226 21.6068L14.0122 20.1217ZM13.7271 21.5047C13.856 21.5833 13.9918 21.6722 14.1486 21.775L14.9712 20.5207C14.819 20.4209 14.6618 20.3177 14.5077 20.2238L13.7271 21.5047ZM14.1486 21.775C14.694 22.1328 15.4112 22.6061 16.3979 22.9319C17.3918 23.2601 18.624 23.429 20.2241 23.2512L20.0585 21.7603C18.6562 21.9162 17.6422 21.7632 16.8682 21.5076C16.0871 21.2496 15.5148 20.8772 14.9712 20.5207L14.1486 21.775ZM20.5913 21.9058C19.8426 21.3443 19.5485 20.8898 19.4198 20.5232C19.285 20.1391 19.294 19.7585 19.3287 19.2168L17.8317 19.1212C17.7979 19.65 17.7569 20.3148 18.0044 21.02C18.2581 21.7427 18.7787 22.4213 19.6913 23.1058L20.5913 21.9058Z\" fill=\"#000000\"></path></svg></div></div></div></div></div></div></div><div class=\"sc-328d61f-6 broUYZ\" data-testid=\"arrow-wrapper\"><span class=\"sc-66b0902d-0 dXbNDQ\"><svg class=\"\" fill=\"none\" height=\"34\" viewbox=\"0 0 34 34\" width=\"34\" xmlns=\"http://www.w3.org/2000/svg\"><path clip-rule=\"evenodd\" d=\"M18.8889 1L34 17L18.8889 33L17 30.9683L29.9861 17L17 3.03175\" fill=\"#1A1A1A\" fill-rule=\"evenodd\"></path></svg></span></div></div>,\n",
       " <div class=\"sc-328d61f-2 dLhSYv\"><div class=\"sc-328d61f-5 ljxugn\" data-testid=\"arrow-wrapper\"><span class=\"sc-66b0902d-0 dXbNDQ\"><svg class=\"\" fill=\"none\" height=\"34\" viewbox=\"0 0 34 34\" width=\"34\" xmlns=\"http://www.w3.org/2000/svg\"><path clip-rule=\"evenodd\" d=\"M18.8889 1L34 17L18.8889 33L17 30.9683L29.9861 17L17 3.03175\" fill=\"#1A1A1A\" fill-rule=\"evenodd\"></path></svg></span></div><div class=\"sc-328d61f-3 epftsU\" data-testid=\"items-wrapper\"><div class=\"sc-328d61f-4 fdFAPT\" data-testid=\"item-wrapper\"><div class=\"sc-fb54cbee-0 iKDynV\" data-testid=\"list-card\"><div class=\"sc-fb54cbee-2 bZdxcM\"><a class=\"sc-e6f263fc-0 sc-df6b780a-0 iZcnfH fCIEaI\" data-testid=\"link\" href=\"/liste/mes_30_realisateurs_favoris/3833875\"><span style=\"box-sizing:border-box;display:block;overflow:hidden;width:initial;height:initial;background:none;opacity:1;border:0;margin:0;padding:0;position:absolute;top:0;left:0;bottom:0;right:0\"><img alt=\"Mes 30 réalisateurs favoris\" data-nimg=\"fill\" decoding=\"async\" src=\"data:image/gif;base64,R0lGODlhAQABAIAAAAAAAP///yH5BAEAAAAALAAAAAABAAEAAAIBRAA7\" style=\"position:absolute;top:0;left:0;bottom:0;right:0;box-sizing:border-box;padding:0;border:none;margin:auto;display:block;width:0;height:0;min-width:100%;max-width:100%;min-height:100%;max-height:100%;object-fit:cover\"/><noscript><img alt=\"Mes 30 réalisateurs favoris\" data-nimg=\"fill\" decoding=\"async\" loading=\"lazy\" src=\"https://media.senscritique.com/media/media/000022089372/480x0/cover.jpg\" style=\"position:absolute;top:0;left:0;bottom:0;right:0;box-sizing:border-box;padding:0;border:none;margin:auto;display:block;width:0;height:0;min-width:100%;max-width:100%;min-height:100%;max-height:100%;object-fit:cover\"/></noscript></span></a></div><a class=\"sc-e6f263fc-0 sc-df6b780a-0 iZcnfH fCIEaI sc-fb54cbee-3 OWuNi\" data-testid=\"link\" href=\"/liste/mes_30_realisateurs_favoris/3833875\"><p class=\"sc-e6f263fc-0 sc-fb54cbee-4 iZcnfG eNvbKt\" type=\"default\">Mes 30 réalisateurs favoris</p></a><p class=\"sc-e6f263fc-0 sc-fb54cbee-8 GItpw kjXKwN\" data-testid=\"listoverview-info\">Liste de 30 films<!-- --> <!-- --> avec Josey Wales hors-la-loi, La Mort aux trousses, Django Unchained, Les Affranchis, Abyss...</p><div class=\"sc-fb54cbee-5 iPUzrf\"><div class=\"sc-8d1083e0-0 dRgahD\" data-testid=\"likes-number\"><div class=\"sc-8d1083e0-2 bNtPWj\" data-testid=\"like-icon-wrapper\"><svg class=\"sc-37abe902-0 ceHiek\" data-testid=\"icon-heart\" fill=\"none\" height=\"17\" viewbox=\"0 0 25 25\" width=\"17\" xmlns=\"http://www.w3.org/2000/svg\"><path d=\"M20.4502 5.28442L20.4502 5.2844C19.6474 4.73818 18.7175 4.45001 17.7709 4.44918C16.4219 4.45772 15.122 5.03184 14.1594 6.06073L14.1567 6.06357C14.0094 6.21946 13.8829 6.36796 13.7347 6.54193C13.633 6.66131 13.5211 6.79267 13.3853 6.94665L12.8241 7.58261L12.2616 6.94789C12.1151 6.78255 11.9976 6.64242 11.8922 6.51674C11.7278 6.32073 11.5929 6.15985 11.4233 5.99323L11.4159 5.98595L11.4087 5.97847C10.3817 4.91228 9.24873 4.42643 8.02627 4.42643H8.02068V4.4264C7.54649 4.42287 7.07383 4.48859 6.61599 4.6221L6.61144 4.62342L6.61143 4.62341C5.57825 4.91762 4.65657 5.56479 3.99305 6.47511L3.99305 6.47512C3.32909 7.38604 2.96267 8.50774 2.95628 9.66813L2.95626 9.67276C2.93743 11.2849 3.5315 12.6329 4.62278 13.767L4.63001 13.7745L4.62996 13.7746C6.71744 16.0053 8.82621 18.2361 10.935 20.4443L10.9376 20.447L10.9518 20.4621C11.5828 21.1296 12.2162 21.7996 12.8604 22.492L21.1038 13.7718L21.109 13.7663L21.109 13.7663C21.2902 13.5785 21.4574 13.3756 21.609 13.1591C22.8446 11.3789 23.1455 9.50905 22.3009 7.54771L20.4502 5.28442ZM20.4502 5.28442C21.2542 5.8314 21.8986 6.61541 22.3008 7.54764L20.4502 5.28442Z\" stroke=\"#000000\" stroke-width=\"1.5\"></path></svg></div><p class=\"sc-e6f263fc-0 sc-8d1083e0-1 GItpw XTOao\" type=\"default\">9 j'aime</p></div><div class=\"sc-3fcb6f61-0 kLxaHl\" data-testid=\"comments-number\"><svg fill=\"none\" height=\"17\" viewbox=\"0 0 25 25\" width=\"17\" xmlns=\"http://www.w3.org/2000/svg\"><path d=\"M18.5802 19.169L18.1582 18.549L17.8551 18.7553L17.8317 19.1212L18.5802 19.169ZM14.1174 20.8642L14.5077 20.2238L14.2782 20.084L14.0122 20.1217L14.1174 20.8642ZM14.5599 21.1479L14.1486 21.775L14.1486 21.775L14.5599 21.1479ZM20.1413 22.5058L20.2241 23.2512L22.1063 23.042L20.5913 21.9058L20.1413 22.5058ZM21.429 12.8269C21.429 15.0984 20.1858 17.1688 18.1582 18.549L19.0022 19.789C21.3648 18.1808 22.929 15.6794 22.929 12.8269H21.429ZM12.5002 5.42627C17.5574 5.42627 21.429 8.85525 21.429 12.8269H22.929C22.929 7.7956 18.1339 3.92627 12.5002 3.92627V5.42627ZM3.57129 12.8269C3.57129 8.85525 7.44294 5.42627 12.5002 5.42627V3.92627C6.86639 3.92627 2.07129 7.7956 2.07129 12.8269H3.57129ZM12.5002 20.2275C7.44294 20.2275 3.57129 16.7985 3.57129 12.8269H2.07129C2.07129 17.8582 6.86639 21.7275 12.5002 21.7275V20.2275ZM14.0122 20.1217C13.5211 20.1912 13.016 20.2275 12.5002 20.2275V21.7275C13.0864 21.7275 13.6618 21.6863 14.2226 21.6068L14.0122 20.1217ZM13.7271 21.5047C13.856 21.5833 13.9918 21.6722 14.1486 21.775L14.9712 20.5207C14.819 20.4209 14.6618 20.3177 14.5077 20.2238L13.7271 21.5047ZM14.1486 21.775C14.694 22.1328 15.4112 22.6061 16.3979 22.9319C17.3918 23.2601 18.624 23.429 20.2241 23.2512L20.0585 21.7603C18.6562 21.9162 17.6422 21.7632 16.8682 21.5076C16.0871 21.2496 15.5148 20.8772 14.9712 20.5207L14.1486 21.775ZM20.5913 21.9058C19.8426 21.3443 19.5485 20.8898 19.4198 20.5232C19.285 20.1391 19.294 19.7585 19.3287 19.2168L17.8317 19.1212C17.7979 19.65 17.7569 20.3148 18.0044 21.02C18.2581 21.7427 18.7787 22.4213 19.6913 23.1058L20.5913 21.9058Z\" fill=\"#000000\"></path></svg><p class=\"sc-e6f263fc-0 sc-3fcb6f61-1 GItpw djcKen\" type=\"default\">5</p></div></div></div></div><div class=\"sc-328d61f-4 fdFAPT\" data-testid=\"item-wrapper\"><div class=\"sc-fb54cbee-0 iKDynV\" data-testid=\"list-card\"><div class=\"sc-fb54cbee-2 bZdxcM\"><a class=\"sc-e6f263fc-0 sc-df6b780a-0 iZcnfH fCIEaI\" data-testid=\"link\" href=\"/liste/video_club_viggo_mortensen/3828126\"><span style=\"box-sizing:border-box;display:block;overflow:hidden;width:initial;height:initial;background:none;opacity:1;border:0;margin:0;padding:0;position:absolute;top:0;left:0;bottom:0;right:0\"><img alt=\"Vidéo Club : Viggo Mortensen\" data-nimg=\"fill\" decoding=\"async\" src=\"data:image/gif;base64,R0lGODlhAQABAIAAAAAAAP///yH5BAEAAAAALAAAAAABAAEAAAIBRAA7\" style=\"position:absolute;top:0;left:0;bottom:0;right:0;box-sizing:border-box;padding:0;border:none;margin:auto;display:block;width:0;height:0;min-width:100%;max-width:100%;min-height:100%;max-height:100%;object-fit:cover\"/><noscript><img alt=\"Vidéo Club : Viggo Mortensen\" data-nimg=\"fill\" decoding=\"async\" loading=\"lazy\" src=\"https://media.senscritique.com/media/media/000022074213/480x0/cover.jpg\" style=\"position:absolute;top:0;left:0;bottom:0;right:0;box-sizing:border-box;padding:0;border:none;margin:auto;display:block;width:0;height:0;min-width:100%;max-width:100%;min-height:100%;max-height:100%;object-fit:cover\"/></noscript></span></a></div><a class=\"sc-e6f263fc-0 sc-df6b780a-0 iZcnfH fCIEaI sc-fb54cbee-3 OWuNi\" data-testid=\"link\" href=\"/liste/video_club_viggo_mortensen/3828126\"><p class=\"sc-e6f263fc-0 sc-fb54cbee-4 iZcnfG eNvbKt\" type=\"default\">Vidéo Club : Viggo Mortensen</p></a><p class=\"sc-e6f263fc-0 sc-fb54cbee-8 GItpw kjXKwN\" data-testid=\"listoverview-info\">Liste de 47 films<!-- --> <!-- --> avec La Passion de Jeanne d'Arc, La Route, Green Book - Sur les routes du Sud, Captain Fantastic, Le Choix de Sophie...</p><div class=\"sc-fb54cbee-5 iPUzrf\"><div class=\"sc-8d1083e0-0 dRgahD\" data-testid=\"likes-number\"><div class=\"sc-8d1083e0-2 bNtPWj\" data-testid=\"like-icon-wrapper\"><svg class=\"sc-37abe902-0 ceHiek\" data-testid=\"icon-heart\" fill=\"none\" height=\"17\" viewbox=\"0 0 25 25\" width=\"17\" xmlns=\"http://www.w3.org/2000/svg\"><path d=\"M20.4502 5.28442L20.4502 5.2844C19.6474 4.73818 18.7175 4.45001 17.7709 4.44918C16.4219 4.45772 15.122 5.03184 14.1594 6.06073L14.1567 6.06357C14.0094 6.21946 13.8829 6.36796 13.7347 6.54193C13.633 6.66131 13.5211 6.79267 13.3853 6.94665L12.8241 7.58261L12.2616 6.94789C12.1151 6.78255 11.9976 6.64242 11.8922 6.51674C11.7278 6.32073 11.5929 6.15985 11.4233 5.99323L11.4159 5.98595L11.4087 5.97847C10.3817 4.91228 9.24873 4.42643 8.02627 4.42643H8.02068V4.4264C7.54649 4.42287 7.07383 4.48859 6.61599 4.6221L6.61144 4.62342L6.61143 4.62341C5.57825 4.91762 4.65657 5.56479 3.99305 6.47511L3.99305 6.47512C3.32909 7.38604 2.96267 8.50774 2.95628 9.66813L2.95626 9.67276C2.93743 11.2849 3.5315 12.6329 4.62278 13.767L4.63001 13.7745L4.62996 13.7746C6.71744 16.0053 8.82621 18.2361 10.935 20.4443L10.9376 20.447L10.9518 20.4621C11.5828 21.1296 12.2162 21.7996 12.8604 22.492L21.1038 13.7718L21.109 13.7663L21.109 13.7663C21.2902 13.5785 21.4574 13.3756 21.609 13.1591C22.8446 11.3789 23.1455 9.50905 22.3009 7.54771L20.4502 5.28442ZM20.4502 5.28442C21.2542 5.8314 21.8986 6.61541 22.3008 7.54764L20.4502 5.28442Z\" stroke=\"#000000\" stroke-width=\"1.5\"></path></svg></div><p class=\"sc-e6f263fc-0 sc-8d1083e0-1 GItpw XTOao\" type=\"default\">21 j'aime</p></div><div class=\"sc-3fcb6f61-0 kLxaHl\" data-testid=\"comments-number\"><svg fill=\"none\" height=\"17\" viewbox=\"0 0 25 25\" width=\"17\" xmlns=\"http://www.w3.org/2000/svg\"><path d=\"M18.5802 19.169L18.1582 18.549L17.8551 18.7553L17.8317 19.1212L18.5802 19.169ZM14.1174 20.8642L14.5077 20.2238L14.2782 20.084L14.0122 20.1217L14.1174 20.8642ZM14.5599 21.1479L14.1486 21.775L14.1486 21.775L14.5599 21.1479ZM20.1413 22.5058L20.2241 23.2512L22.1063 23.042L20.5913 21.9058L20.1413 22.5058ZM21.429 12.8269C21.429 15.0984 20.1858 17.1688 18.1582 18.549L19.0022 19.789C21.3648 18.1808 22.929 15.6794 22.929 12.8269H21.429ZM12.5002 5.42627C17.5574 5.42627 21.429 8.85525 21.429 12.8269H22.929C22.929 7.7956 18.1339 3.92627 12.5002 3.92627V5.42627ZM3.57129 12.8269C3.57129 8.85525 7.44294 5.42627 12.5002 5.42627V3.92627C6.86639 3.92627 2.07129 7.7956 2.07129 12.8269H3.57129ZM12.5002 20.2275C7.44294 20.2275 3.57129 16.7985 3.57129 12.8269H2.07129C2.07129 17.8582 6.86639 21.7275 12.5002 21.7275V20.2275ZM14.0122 20.1217C13.5211 20.1912 13.016 20.2275 12.5002 20.2275V21.7275C13.0864 21.7275 13.6618 21.6863 14.2226 21.6068L14.0122 20.1217ZM13.7271 21.5047C13.856 21.5833 13.9918 21.6722 14.1486 21.775L14.9712 20.5207C14.819 20.4209 14.6618 20.3177 14.5077 20.2238L13.7271 21.5047ZM14.1486 21.775C14.694 22.1328 15.4112 22.6061 16.3979 22.9319C17.3918 23.2601 18.624 23.429 20.2241 23.2512L20.0585 21.7603C18.6562 21.9162 17.6422 21.7632 16.8682 21.5076C16.0871 21.2496 15.5148 20.8772 14.9712 20.5207L14.1486 21.775ZM20.5913 21.9058C19.8426 21.3443 19.5485 20.8898 19.4198 20.5232C19.285 20.1391 19.294 19.7585 19.3287 19.2168L17.8317 19.1212C17.7979 19.65 17.7569 20.3148 18.0044 21.02C18.2581 21.7427 18.7787 22.4213 19.6913 23.1058L20.5913 21.9058Z\" fill=\"#000000\"></path></svg></div></div></div></div><div class=\"sc-328d61f-4 fdFAPT\" data-testid=\"item-wrapper\"><div class=\"sc-fb54cbee-0 iKDynV\" data-testid=\"list-card\"><div class=\"sc-fb54cbee-2 bZdxcM\"><a class=\"sc-e6f263fc-0 sc-df6b780a-0 iZcnfH fCIEaI\" data-testid=\"link\" href=\"/liste/les_meilleurs_acteurs_americains/3831264\"><span style=\"box-sizing:border-box;display:block;overflow:hidden;width:initial;height:initial;background:none;opacity:1;border:0;margin:0;padding:0;position:absolute;top:0;left:0;bottom:0;right:0\"><img alt=\"Les meilleurs acteurs américains\" data-nimg=\"fill\" decoding=\"async\" src=\"data:image/gif;base64,R0lGODlhAQABAIAAAAAAAP///yH5BAEAAAAALAAAAAABAAEAAAIBRAA7\" style=\"position:absolute;top:0;left:0;bottom:0;right:0;box-sizing:border-box;padding:0;border:none;margin:auto;display:block;width:0;height:0;min-width:100%;max-width:100%;min-height:100%;max-height:100%;object-fit:cover\"/><noscript><img alt=\"Les meilleurs acteurs américains\" data-nimg=\"fill\" decoding=\"async\" loading=\"lazy\" src=\"/missingPicture/liste_top_movie.jpg\" style=\"position:absolute;top:0;left:0;bottom:0;right:0;box-sizing:border-box;padding:0;border:none;margin:auto;display:block;width:0;height:0;min-width:100%;max-width:100%;min-height:100%;max-height:100%;object-fit:cover\"/></noscript></span></a></div><a class=\"sc-e6f263fc-0 sc-df6b780a-0 iZcnfH fCIEaI sc-fb54cbee-3 OWuNi\" data-testid=\"link\" href=\"/liste/les_meilleurs_acteurs_americains/3831264\"><p class=\"sc-e6f263fc-0 sc-fb54cbee-4 iZcnfG eNvbKt\" type=\"default\">Les meilleurs acteurs américains</p></a><p class=\"sc-e6f263fc-0 sc-fb54cbee-8 GItpw kjXKwN\" data-testid=\"listoverview-info\">Liste de 60 films<!-- --> <!-- --> avec Les Lumières de la ville, Douze Hommes en colère, Sueurs froides, Ben-Hur, Le Procès...</p><div class=\"sc-fb54cbee-5 iPUzrf\"><div class=\"sc-8d1083e0-0 dRgahD\" data-testid=\"likes-number\"><div class=\"sc-8d1083e0-2 bNtPWj\" data-testid=\"like-icon-wrapper\"><svg class=\"sc-37abe902-0 ceHiek\" data-testid=\"icon-heart\" fill=\"none\" height=\"17\" viewbox=\"0 0 25 25\" width=\"17\" xmlns=\"http://www.w3.org/2000/svg\"><path d=\"M20.4502 5.28442L20.4502 5.2844C19.6474 4.73818 18.7175 4.45001 17.7709 4.44918C16.4219 4.45772 15.122 5.03184 14.1594 6.06073L14.1567 6.06357C14.0094 6.21946 13.8829 6.36796 13.7347 6.54193C13.633 6.66131 13.5211 6.79267 13.3853 6.94665L12.8241 7.58261L12.2616 6.94789C12.1151 6.78255 11.9976 6.64242 11.8922 6.51674C11.7278 6.32073 11.5929 6.15985 11.4233 5.99323L11.4159 5.98595L11.4087 5.97847C10.3817 4.91228 9.24873 4.42643 8.02627 4.42643H8.02068V4.4264C7.54649 4.42287 7.07383 4.48859 6.61599 4.6221L6.61144 4.62342L6.61143 4.62341C5.57825 4.91762 4.65657 5.56479 3.99305 6.47511L3.99305 6.47512C3.32909 7.38604 2.96267 8.50774 2.95628 9.66813L2.95626 9.67276C2.93743 11.2849 3.5315 12.6329 4.62278 13.767L4.63001 13.7745L4.62996 13.7746C6.71744 16.0053 8.82621 18.2361 10.935 20.4443L10.9376 20.447L10.9518 20.4621C11.5828 21.1296 12.2162 21.7996 12.8604 22.492L21.1038 13.7718L21.109 13.7663L21.109 13.7663C21.2902 13.5785 21.4574 13.3756 21.609 13.1591C22.8446 11.3789 23.1455 9.50905 22.3009 7.54771L20.4502 5.28442ZM20.4502 5.28442C21.2542 5.8314 21.8986 6.61541 22.3008 7.54764L20.4502 5.28442Z\" stroke=\"#000000\" stroke-width=\"1.5\"></path></svg></div><p class=\"sc-e6f263fc-0 sc-8d1083e0-1 GItpw XTOao\" type=\"default\">12 j'aime</p></div><div class=\"sc-3fcb6f61-0 kLxaHl\" data-testid=\"comments-number\"><svg fill=\"none\" height=\"17\" viewbox=\"0 0 25 25\" width=\"17\" xmlns=\"http://www.w3.org/2000/svg\"><path d=\"M18.5802 19.169L18.1582 18.549L17.8551 18.7553L17.8317 19.1212L18.5802 19.169ZM14.1174 20.8642L14.5077 20.2238L14.2782 20.084L14.0122 20.1217L14.1174 20.8642ZM14.5599 21.1479L14.1486 21.775L14.1486 21.775L14.5599 21.1479ZM20.1413 22.5058L20.2241 23.2512L22.1063 23.042L20.5913 21.9058L20.1413 22.5058ZM21.429 12.8269C21.429 15.0984 20.1858 17.1688 18.1582 18.549L19.0022 19.789C21.3648 18.1808 22.929 15.6794 22.929 12.8269H21.429ZM12.5002 5.42627C17.5574 5.42627 21.429 8.85525 21.429 12.8269H22.929C22.929 7.7956 18.1339 3.92627 12.5002 3.92627V5.42627ZM3.57129 12.8269C3.57129 8.85525 7.44294 5.42627 12.5002 5.42627V3.92627C6.86639 3.92627 2.07129 7.7956 2.07129 12.8269H3.57129ZM12.5002 20.2275C7.44294 20.2275 3.57129 16.7985 3.57129 12.8269H2.07129C2.07129 17.8582 6.86639 21.7275 12.5002 21.7275V20.2275ZM14.0122 20.1217C13.5211 20.1912 13.016 20.2275 12.5002 20.2275V21.7275C13.0864 21.7275 13.6618 21.6863 14.2226 21.6068L14.0122 20.1217ZM13.7271 21.5047C13.856 21.5833 13.9918 21.6722 14.1486 21.775L14.9712 20.5207C14.819 20.4209 14.6618 20.3177 14.5077 20.2238L13.7271 21.5047ZM14.1486 21.775C14.694 22.1328 15.4112 22.6061 16.3979 22.9319C17.3918 23.2601 18.624 23.429 20.2241 23.2512L20.0585 21.7603C18.6562 21.9162 17.6422 21.7632 16.8682 21.5076C16.0871 21.2496 15.5148 20.8772 14.9712 20.5207L14.1486 21.775ZM20.5913 21.9058C19.8426 21.3443 19.5485 20.8898 19.4198 20.5232C19.285 20.1391 19.294 19.7585 19.3287 19.2168L17.8317 19.1212C17.7979 19.65 17.7569 20.3148 18.0044 21.02C18.2581 21.7427 18.7787 22.4213 19.6913 23.1058L20.5913 21.9058Z\" fill=\"#000000\"></path></svg><p class=\"sc-e6f263fc-0 sc-3fcb6f61-1 GItpw djcKen\" type=\"default\">9</p></div></div></div></div></div><div class=\"sc-328d61f-6 broUYZ\" data-testid=\"arrow-wrapper\"><span class=\"sc-66b0902d-0 dXbNDQ\"><svg class=\"\" fill=\"none\" height=\"34\" viewbox=\"0 0 34 34\" width=\"34\" xmlns=\"http://www.w3.org/2000/svg\"><path clip-rule=\"evenodd\" d=\"M18.8889 1L34 17L18.8889 33L17 30.9683L29.9861 17L17 3.03175\" fill=\"#1A1A1A\" fill-rule=\"evenodd\"></path></svg></span></div></div>,\n",
       " <div class=\"sc-328d61f-2 dLhSYv\"><div class=\"sc-328d61f-5 ljxugn\" data-testid=\"arrow-wrapper\"><span class=\"sc-66b0902d-0 dXbNDQ\"><svg class=\"\" fill=\"none\" height=\"34\" viewbox=\"0 0 34 34\" width=\"34\" xmlns=\"http://www.w3.org/2000/svg\"><path clip-rule=\"evenodd\" d=\"M18.8889 1L34 17L18.8889 33L17 30.9683L29.9861 17L17 3.03175\" fill=\"#1A1A1A\" fill-rule=\"evenodd\"></path></svg></span></div><div class=\"sc-328d61f-3 epftsU\" data-testid=\"items-wrapper\"><div class=\"sc-328d61f-4 fdFAPT\" data-testid=\"item-wrapper\"><div class=\"sc-fb54cbee-0 iKDynV\" data-testid=\"list-card\"><div class=\"sc-fb54cbee-2 bZdxcM\"><a class=\"sc-e6f263fc-0 sc-df6b780a-0 iZcnfH fCIEaI\" data-testid=\"link\" href=\"/top/resultats/les_meilleurs_films_sur_robin_des_bois/3833497\"><span style=\"box-sizing:border-box;display:block;overflow:hidden;width:initial;height:initial;background:none;opacity:1;border:0;margin:0;padding:0;position:absolute;top:0;left:0;bottom:0;right:0\"><img alt=\"Les meilleurs films sur Robin des Bois\" data-nimg=\"fill\" decoding=\"async\" src=\"data:image/gif;base64,R0lGODlhAQABAIAAAAAAAP///yH5BAEAAAAALAAAAAABAAEAAAIBRAA7\" style=\"position:absolute;top:0;left:0;bottom:0;right:0;box-sizing:border-box;padding:0;border:none;margin:auto;display:block;width:0;height:0;min-width:100%;max-width:100%;min-height:100%;max-height:100%;object-fit:cover\"/><noscript><img alt=\"Les meilleurs films sur Robin des Bois\" data-nimg=\"fill\" decoding=\"async\" loading=\"lazy\" src=\"https://media.senscritique.com/media/media/000022088074/480x0/cover.jpg\" style=\"position:absolute;top:0;left:0;bottom:0;right:0;box-sizing:border-box;padding:0;border:none;margin:auto;display:block;width:0;height:0;min-width:100%;max-width:100%;min-height:100%;max-height:100%;object-fit:cover\"/></noscript></span></a></div><a class=\"sc-e6f263fc-0 sc-df6b780a-0 iZcnfH fCIEaI sc-fb54cbee-3 OWuNi\" data-testid=\"link\" href=\"/top/resultats/les_meilleurs_films_sur_robin_des_bois/3833497\"><p class=\"sc-e6f263fc-0 sc-fb54cbee-4 iZcnfG eNvbKt\" type=\"default\">Les meilleurs films sur Robin des Bois</p></a></div></div><div class=\"sc-328d61f-4 fdFAPT\" data-testid=\"item-wrapper\"><div class=\"sc-fb54cbee-0 iKDynV\" data-testid=\"list-card\"><div class=\"sc-fb54cbee-2 bZdxcM\"><a class=\"sc-e6f263fc-0 sc-df6b780a-0 iZcnfH fCIEaI\" data-testid=\"link\" href=\"/top/resultats/les_meilleurs_films_de_stanley_donen/3794664\"><span style=\"box-sizing:border-box;display:block;overflow:hidden;width:initial;height:initial;background:none;opacity:1;border:0;margin:0;padding:0;position:absolute;top:0;left:0;bottom:0;right:0\"><img alt=\"Les meilleurs films de Stanley Donen\" data-nimg=\"fill\" decoding=\"async\" src=\"data:image/gif;base64,R0lGODlhAQABAIAAAAAAAP///yH5BAEAAAAALAAAAAABAAEAAAIBRAA7\" style=\"position:absolute;top:0;left:0;bottom:0;right:0;box-sizing:border-box;padding:0;border:none;margin:auto;display:block;width:0;height:0;min-width:100%;max-width:100%;min-height:100%;max-height:100%;object-fit:cover\"/><noscript><img alt=\"Les meilleurs films de Stanley Donen\" data-nimg=\"fill\" decoding=\"async\" loading=\"lazy\" src=\"https://media.senscritique.com/media/media/000021980898/480x0/cover.jpg\" style=\"position:absolute;top:0;left:0;bottom:0;right:0;box-sizing:border-box;padding:0;border:none;margin:auto;display:block;width:0;height:0;min-width:100%;max-width:100%;min-height:100%;max-height:100%;object-fit:cover\"/></noscript></span></a></div><a class=\"sc-e6f263fc-0 sc-df6b780a-0 iZcnfH fCIEaI sc-fb54cbee-3 OWuNi\" data-testid=\"link\" href=\"/top/resultats/les_meilleurs_films_de_stanley_donen/3794664\"><p class=\"sc-e6f263fc-0 sc-fb54cbee-4 iZcnfG eNvbKt\" type=\"default\">Les meilleurs films de Stanley Donen</p></a></div></div><div class=\"sc-328d61f-4 fdFAPT\" data-testid=\"item-wrapper\"><div class=\"sc-fb54cbee-0 iKDynV\" data-testid=\"list-card\"><div class=\"sc-fb54cbee-2 bZdxcM\"><a class=\"sc-e6f263fc-0 sc-df6b780a-0 iZcnfH fCIEaI\" data-testid=\"link\" href=\"/top/resultats/les_meilleurs_films_de_ken_russell/3777034\"><span style=\"box-sizing:border-box;display:block;overflow:hidden;width:initial;height:initial;background:none;opacity:1;border:0;margin:0;padding:0;position:absolute;top:0;left:0;bottom:0;right:0\"><img alt=\"Les meilleurs films de Ken Russell\" data-nimg=\"fill\" decoding=\"async\" src=\"data:image/gif;base64,R0lGODlhAQABAIAAAAAAAP///yH5BAEAAAAALAAAAAABAAEAAAIBRAA7\" style=\"position:absolute;top:0;left:0;bottom:0;right:0;box-sizing:border-box;padding:0;border:none;margin:auto;display:block;width:0;height:0;min-width:100%;max-width:100%;min-height:100%;max-height:100%;object-fit:cover\"/><noscript><img alt=\"Les meilleurs films de Ken Russell\" data-nimg=\"fill\" decoding=\"async\" loading=\"lazy\" src=\"https://media.senscritique.com/media/media/000021946630/480x0/cover.jpg\" style=\"position:absolute;top:0;left:0;bottom:0;right:0;box-sizing:border-box;padding:0;border:none;margin:auto;display:block;width:0;height:0;min-width:100%;max-width:100%;min-height:100%;max-height:100%;object-fit:cover\"/></noscript></span></a></div><a class=\"sc-e6f263fc-0 sc-df6b780a-0 iZcnfH fCIEaI sc-fb54cbee-3 OWuNi\" data-testid=\"link\" href=\"/top/resultats/les_meilleurs_films_de_ken_russell/3777034\"><p class=\"sc-e6f263fc-0 sc-fb54cbee-4 iZcnfG eNvbKt\" type=\"default\">Les meilleurs films de Ken Russell</p></a></div></div></div><div class=\"sc-328d61f-6 broUYZ\" data-testid=\"arrow-wrapper\"><span class=\"sc-66b0902d-0 dXbNDQ\"><svg class=\"\" fill=\"none\" height=\"34\" viewbox=\"0 0 34 34\" width=\"34\" xmlns=\"http://www.w3.org/2000/svg\"><path clip-rule=\"evenodd\" d=\"M18.8889 1L34 17L18.8889 33L17 30.9683L29.9861 17L17 3.03175\" fill=\"#1A1A1A\" fill-rule=\"evenodd\"></path></svg></span></div></div>,\n",
       " <div class=\"sc-328d61f-2 dLhSYv\"><div class=\"sc-328d61f-5 ljxugn\" data-testid=\"arrow-wrapper\"><span class=\"sc-66b0902d-0 dXbNDQ\"><svg class=\"\" fill=\"none\" height=\"34\" viewbox=\"0 0 34 34\" width=\"34\" xmlns=\"http://www.w3.org/2000/svg\"><path clip-rule=\"evenodd\" d=\"M18.8889 1L34 17L18.8889 33L17 30.9683L29.9861 17L17 3.03175\" fill=\"#1A1A1A\" fill-rule=\"evenodd\"></path></svg></span></div><div class=\"sc-328d61f-3 eMXXnI\" data-testid=\"items-wrapper\" itemtype=\"product\"><div class=\"sc-328d61f-4 fdFAPT\" data-testid=\"item-wrapper\"><div class=\"sc-3ef21923-1 cKacYt\" data-testid=\"product-card\"><div class=\"sc-9ddc3db1-0 iVzxSC\" data-testid=\"product-actions-hover\"><div class=\"sc-fe6f7617-1 ksIjGx\" data-testid=\"poster\" height=\"160\" width=\"114\"><a class=\"sc-fe6f7617-2 kLAJJN\" data-testid=\"poster\" height=\"160\" href=\"/film/furiosa_une_saga_mad_max/438223\" width=\"114\"><span class=\"sc-fe6f7617-10 ioLqwl\" data-srcname=\"https://media.senscritique.com/media/000022096716/300/furiosa_une_saga_mad_max.png\" data-testid=\"poster-img-wrapper\"><span style=\"box-sizing:border-box;display:inline-block;overflow:hidden;width:initial;height:initial;background:none;opacity:1;border:0;margin:0;padding:0;position:relative;max-width:100%\"><span style=\"box-sizing:border-box;display:block;width:initial;height:initial;background:none;opacity:1;border:0;margin:0;padding:0;max-width:100%\"><img alt=\"\" aria-hidden=\"true\" src=\"data:image/svg+xml,%3csvg%20xmlns=%27http://www.w3.org/2000/svg%27%20version=%271.1%27%20width=%27114%27%20height=%27160%27/%3e\" style=\"display:block;max-width:100%;width:initial;height:initial;background:none;opacity:1;border:0;margin:0;padding:0\"/></span><img alt=\"Furiosa - Une Saga Mad Max\" data-cfstyle=\"22222\" data-nimg=\"intrinsic\" data-testid=\"poster-img\" decoding=\"async\" src=\"data:image/gif;base64,R0lGODlhAQABAIAAAAAAAP///yH5BAEAAAAALAAAAAABAAEAAAIBRAA7\" style=\"position:absolute;top:0;left:0;bottom:0;right:0;box-sizing:border-box;padding:0;border:none;margin:auto;display:block;width:0;height:0;min-width:100%;max-width:100%;min-height:100%;max-height:100%\"/><noscript><img alt=\"Furiosa - Une Saga Mad Max\" data-cfstyle=\"22222\" data-nimg=\"intrinsic\" data-testid=\"poster-img\" decoding=\"async\" loading=\"lazy\" src=\"https://media.senscritique.com/media/000022096716/300/furiosa_une_saga_mad_max.png\" style=\"position:absolute;top:0;left:0;bottom:0;right:0;box-sizing:border-box;padding:0;border:none;margin:auto;display:block;width:0;height:0;min-width:100%;max-width:100%;min-height:100%;max-height:100%\"/></noscript></span></span></a><div class=\"sc-fe6f7617-11 iIwA-dq\"><p class=\"sc-e6f263fc-0 sc-fe6f7617-12 GItpv iocyaN\" data-testid=\"wish-count\">13518 envies</p></div></div><a class=\"sc-e6f263fc-0 sc-df6b780a-1 iZcnfH lbhoSA sc-3ef21923-0 itLWIo\" data-testid=\"link\" href=\"/film/furiosa_une_saga_mad_max/438223\">Furiosa - Une Saga Mad Max</a></div></div></div><div class=\"sc-328d61f-4 fdFAPT\" data-testid=\"item-wrapper\"><div class=\"sc-3ef21923-1 cKacYt\" data-testid=\"product-card\"><div class=\"sc-9ddc3db1-0 iVzxSC\" data-testid=\"product-actions-hover\"><div class=\"sc-fe6f7617-1 ksIjGx\" data-testid=\"poster\" height=\"160\" width=\"114\"><a class=\"sc-fe6f7617-2 kLAJJN\" data-testid=\"poster\" height=\"160\" href=\"/film/mickey_17/46028294\" width=\"114\"><span class=\"sc-fe6f7617-10 ioLqwl\" data-srcname=\"https://media.senscritique.com/media/000021245403/300/mickey_17.jpg\" data-testid=\"poster-img-wrapper\"><span style=\"box-sizing:border-box;display:inline-block;overflow:hidden;width:initial;height:initial;background:none;opacity:1;border:0;margin:0;padding:0;position:relative;max-width:100%\"><span style=\"box-sizing:border-box;display:block;width:initial;height:initial;background:none;opacity:1;border:0;margin:0;padding:0;max-width:100%\"><img alt=\"\" aria-hidden=\"true\" src=\"data:image/svg+xml,%3csvg%20xmlns=%27http://www.w3.org/2000/svg%27%20version=%271.1%27%20width=%27114%27%20height=%27160%27/%3e\" style=\"display:block;max-width:100%;width:initial;height:initial;background:none;opacity:1;border:0;margin:0;padding:0\"/></span><img alt=\"Mickey 17\" data-cfstyle=\"22222\" data-nimg=\"intrinsic\" data-testid=\"poster-img\" decoding=\"async\" src=\"data:image/gif;base64,R0lGODlhAQABAIAAAAAAAP///yH5BAEAAAAALAAAAAABAAEAAAIBRAA7\" style=\"position:absolute;top:0;left:0;bottom:0;right:0;box-sizing:border-box;padding:0;border:none;margin:auto;display:block;width:0;height:0;min-width:100%;max-width:100%;min-height:100%;max-height:100%\"/><noscript><img alt=\"Mickey 17\" data-cfstyle=\"22222\" data-nimg=\"intrinsic\" data-testid=\"poster-img\" decoding=\"async\" loading=\"lazy\" src=\"https://media.senscritique.com/media/000021245403/300/mickey_17.jpg\" style=\"position:absolute;top:0;left:0;bottom:0;right:0;box-sizing:border-box;padding:0;border:none;margin:auto;display:block;width:0;height:0;min-width:100%;max-width:100%;min-height:100%;max-height:100%\"/></noscript></span></span></a><div class=\"sc-fe6f7617-11 iIwA-dq\"><p class=\"sc-e6f263fc-0 sc-fe6f7617-12 GItpv iocyaN\" data-testid=\"wish-count\">6152 envies</p></div></div><a class=\"sc-e6f263fc-0 sc-df6b780a-1 iZcnfH lbhoSA sc-3ef21923-0 itLWIo\" data-testid=\"link\" href=\"/film/mickey_17/46028294\">Mickey 17</a></div></div></div><div class=\"sc-328d61f-4 fdFAPT\" data-testid=\"item-wrapper\"><div class=\"sc-3ef21923-1 cKacYt\" data-testid=\"product-card\"><div class=\"sc-9ddc3db1-0 iVzxSC\" data-testid=\"product-actions-hover\"><div class=\"sc-fe6f7617-1 ksIjGx\" data-testid=\"poster\" height=\"160\" width=\"114\"><a class=\"sc-fe6f7617-2 kLAJJN\" data-testid=\"poster\" height=\"160\" href=\"/film/joker_folie_a_deux/47777802\" width=\"114\"><span class=\"sc-fe6f7617-10 ioLqwl\" data-srcname=\"https://media.senscritique.com/media/000022018656/300/joker_folie_a_deux.jpg\" data-testid=\"poster-img-wrapper\"><span style=\"box-sizing:border-box;display:inline-block;overflow:hidden;width:initial;height:initial;background:none;opacity:1;border:0;margin:0;padding:0;position:relative;max-width:100%\"><span style=\"box-sizing:border-box;display:block;width:initial;height:initial;background:none;opacity:1;border:0;margin:0;padding:0;max-width:100%\"><img alt=\"\" aria-hidden=\"true\" src=\"data:image/svg+xml,%3csvg%20xmlns=%27http://www.w3.org/2000/svg%27%20version=%271.1%27%20width=%27114%27%20height=%27160%27/%3e\" style=\"display:block;max-width:100%;width:initial;height:initial;background:none;opacity:1;border:0;margin:0;padding:0\"/></span><img alt=\"Joker - Folie à deux\" data-cfstyle=\"22222\" data-nimg=\"intrinsic\" data-testid=\"poster-img\" decoding=\"async\" src=\"data:image/gif;base64,R0lGODlhAQABAIAAAAAAAP///yH5BAEAAAAALAAAAAABAAEAAAIBRAA7\" style=\"position:absolute;top:0;left:0;bottom:0;right:0;box-sizing:border-box;padding:0;border:none;margin:auto;display:block;width:0;height:0;min-width:100%;max-width:100%;min-height:100%;max-height:100%\"/><noscript><img alt=\"Joker - Folie à deux\" data-cfstyle=\"22222\" data-nimg=\"intrinsic\" data-testid=\"poster-img\" decoding=\"async\" loading=\"lazy\" src=\"https://media.senscritique.com/media/000022018656/300/joker_folie_a_deux.jpg\" style=\"position:absolute;top:0;left:0;bottom:0;right:0;box-sizing:border-box;padding:0;border:none;margin:auto;display:block;width:0;height:0;min-width:100%;max-width:100%;min-height:100%;max-height:100%\"/></noscript></span></span></a><div class=\"sc-fe6f7617-11 iIwA-dq\"><p class=\"sc-e6f263fc-0 sc-fe6f7617-12 GItpv iocyaN\" data-testid=\"wish-count\">4715 envies</p></div></div><a class=\"sc-e6f263fc-0 sc-df6b780a-1 iZcnfH lbhoSA sc-3ef21923-0 itLWIo\" data-testid=\"link\" href=\"/film/joker_folie_a_deux/47777802\">Joker - Folie à deux</a></div></div></div><div class=\"sc-328d61f-4 fdFAPT\" data-testid=\"item-wrapper\"><div class=\"sc-3ef21923-1 cKacYt\" data-testid=\"product-card\"><div class=\"sc-9ddc3db1-0 iVzxSC\" data-testid=\"product-actions-hover\"><div class=\"sc-fe6f7617-1 ksIjGx\" data-testid=\"poster\" height=\"160\" width=\"114\"><a class=\"sc-fe6f7617-2 kLAJJN\" data-testid=\"poster\" height=\"160\" href=\"/film/megalopolis/39074394\" width=\"114\"><span class=\"sc-fe6f7617-10 ioLqwl\" data-srcname=\"https://media.senscritique.com/media/000022065142/300/megalopolis.jpg\" data-testid=\"poster-img-wrapper\"><span style=\"box-sizing:border-box;display:inline-block;overflow:hidden;width:initial;height:initial;background:none;opacity:1;border:0;margin:0;padding:0;position:relative;max-width:100%\"><span style=\"box-sizing:border-box;display:block;width:initial;height:initial;background:none;opacity:1;border:0;margin:0;padding:0;max-width:100%\"><img alt=\"\" aria-hidden=\"true\" src=\"data:image/svg+xml,%3csvg%20xmlns=%27http://www.w3.org/2000/svg%27%20version=%271.1%27%20width=%27114%27%20height=%27160%27/%3e\" style=\"display:block;max-width:100%;width:initial;height:initial;background:none;opacity:1;border:0;margin:0;padding:0\"/></span><img alt=\"Megalopolis\" data-cfstyle=\"22222\" data-nimg=\"intrinsic\" data-testid=\"poster-img\" decoding=\"async\" src=\"data:image/gif;base64,R0lGODlhAQABAIAAAAAAAP///yH5BAEAAAAALAAAAAABAAEAAAIBRAA7\" style=\"position:absolute;top:0;left:0;bottom:0;right:0;box-sizing:border-box;padding:0;border:none;margin:auto;display:block;width:0;height:0;min-width:100%;max-width:100%;min-height:100%;max-height:100%\"/><noscript><img alt=\"Megalopolis\" data-cfstyle=\"22222\" data-nimg=\"intrinsic\" data-testid=\"poster-img\" decoding=\"async\" loading=\"lazy\" src=\"https://media.senscritique.com/media/000022065142/300/megalopolis.jpg\" style=\"position:absolute;top:0;left:0;bottom:0;right:0;box-sizing:border-box;padding:0;border:none;margin:auto;display:block;width:0;height:0;min-width:100%;max-width:100%;min-height:100%;max-height:100%\"/></noscript></span></span></a><div class=\"sc-fe6f7617-11 iIwA-dq\"><p class=\"sc-e6f263fc-0 sc-fe6f7617-12 GItpv iocyaN\" data-testid=\"wish-count\">4341 envies</p></div></div><a class=\"sc-e6f263fc-0 sc-df6b780a-1 iZcnfH lbhoSA sc-3ef21923-0 itLWIo\" data-testid=\"link\" href=\"/film/megalopolis/39074394\">Megalopolis</a></div></div></div><div class=\"sc-328d61f-4 fdFAPT\" data-testid=\"item-wrapper\"><div class=\"sc-3ef21923-1 cKacYt\" data-testid=\"product-card\"><div class=\"sc-9ddc3db1-0 iVzxSC\" data-testid=\"product-actions-hover\"><div class=\"sc-fe6f7617-1 ksIjGx\" data-testid=\"poster\" height=\"160\" width=\"114\"><a class=\"sc-fe6f7617-2 kLAJJN\" data-testid=\"poster\" height=\"160\" href=\"/film/beetlejuice_beetlejuice/10498529\" width=\"114\"><span class=\"sc-fe6f7617-10 ioLqwl\" data-srcname=\"https://media.senscritique.com/media/000021991848/300/beetlejuice_beetlejuice.jpg\" data-testid=\"poster-img-wrapper\"><span style=\"box-sizing:border-box;display:inline-block;overflow:hidden;width:initial;height:initial;background:none;opacity:1;border:0;margin:0;padding:0;position:relative;max-width:100%\"><span style=\"box-sizing:border-box;display:block;width:initial;height:initial;background:none;opacity:1;border:0;margin:0;padding:0;max-width:100%\"><img alt=\"\" aria-hidden=\"true\" src=\"data:image/svg+xml,%3csvg%20xmlns=%27http://www.w3.org/2000/svg%27%20version=%271.1%27%20width=%27114%27%20height=%27160%27/%3e\" style=\"display:block;max-width:100%;width:initial;height:initial;background:none;opacity:1;border:0;margin:0;padding:0\"/></span><img alt=\"Beetlejuice Beetlejuice\" data-cfstyle=\"22222\" data-nimg=\"intrinsic\" data-testid=\"poster-img\" decoding=\"async\" src=\"data:image/gif;base64,R0lGODlhAQABAIAAAAAAAP///yH5BAEAAAAALAAAAAABAAEAAAIBRAA7\" style=\"position:absolute;top:0;left:0;bottom:0;right:0;box-sizing:border-box;padding:0;border:none;margin:auto;display:block;width:0;height:0;min-width:100%;max-width:100%;min-height:100%;max-height:100%\"/><noscript><img alt=\"Beetlejuice Beetlejuice\" data-cfstyle=\"22222\" data-nimg=\"intrinsic\" data-testid=\"poster-img\" decoding=\"async\" loading=\"lazy\" src=\"https://media.senscritique.com/media/000021991848/300/beetlejuice_beetlejuice.jpg\" style=\"position:absolute;top:0;left:0;bottom:0;right:0;box-sizing:border-box;padding:0;border:none;margin:auto;display:block;width:0;height:0;min-width:100%;max-width:100%;min-height:100%;max-height:100%\"/></noscript></span></span></a><div class=\"sc-fe6f7617-11 iIwA-dq\"><p class=\"sc-e6f263fc-0 sc-fe6f7617-12 GItpv iocyaN\" data-testid=\"wish-count\">3167 envies</p></div></div><a class=\"sc-e6f263fc-0 sc-df6b780a-1 iZcnfH lbhoSA sc-3ef21923-0 itLWIo\" data-testid=\"link\" href=\"/film/beetlejuice_beetlejuice/10498529\">Beetlejuice Beetlejuice</a></div></div></div><div class=\"sc-328d61f-4 fdFAPT\" data-testid=\"item-wrapper\"><div class=\"sc-3ef21923-1 cKacYt\" data-testid=\"product-card\"><div class=\"sc-9ddc3db1-0 iVzxSC\" data-testid=\"product-actions-hover\"><div class=\"sc-fe6f7617-1 ksIjGx\" data-testid=\"poster\" height=\"160\" width=\"114\"><a class=\"sc-fe6f7617-2 kLAJJN\" data-testid=\"poster\" height=\"160\" href=\"/film/vice_versa_2/51167787\" width=\"114\"><span class=\"sc-fe6f7617-10 ioLqwl\" data-srcname=\"https://media.senscritique.com/media/000022005996/300/vice_versa_2.png\" data-testid=\"poster-img-wrapper\"><span style=\"box-sizing:border-box;display:inline-block;overflow:hidden;width:initial;height:initial;background:none;opacity:1;border:0;margin:0;padding:0;position:relative;max-width:100%\"><span style=\"box-sizing:border-box;display:block;width:initial;height:initial;background:none;opacity:1;border:0;margin:0;padding:0;max-width:100%\"><img alt=\"\" aria-hidden=\"true\" src=\"data:image/svg+xml,%3csvg%20xmlns=%27http://www.w3.org/2000/svg%27%20version=%271.1%27%20width=%27114%27%20height=%27160%27/%3e\" style=\"display:block;max-width:100%;width:initial;height:initial;background:none;opacity:1;border:0;margin:0;padding:0\"/></span><img alt=\"Vice-versa 2\" data-cfstyle=\"22222\" data-nimg=\"intrinsic\" data-testid=\"poster-img\" decoding=\"async\" src=\"data:image/gif;base64,R0lGODlhAQABAIAAAAAAAP///yH5BAEAAAAALAAAAAABAAEAAAIBRAA7\" style=\"position:absolute;top:0;left:0;bottom:0;right:0;box-sizing:border-box;padding:0;border:none;margin:auto;display:block;width:0;height:0;min-width:100%;max-width:100%;min-height:100%;max-height:100%\"/><noscript><img alt=\"Vice-versa 2\" data-cfstyle=\"22222\" data-nimg=\"intrinsic\" data-testid=\"poster-img\" decoding=\"async\" loading=\"lazy\" src=\"https://media.senscritique.com/media/000022005996/300/vice_versa_2.png\" style=\"position:absolute;top:0;left:0;bottom:0;right:0;box-sizing:border-box;padding:0;border:none;margin:auto;display:block;width:0;height:0;min-width:100%;max-width:100%;min-height:100%;max-height:100%\"/></noscript></span></span></a><div class=\"sc-fe6f7617-11 iIwA-dq\"><p class=\"sc-e6f263fc-0 sc-fe6f7617-12 GItpv iocyaN\" data-testid=\"wish-count\">3171 envies</p></div></div><a class=\"sc-e6f263fc-0 sc-df6b780a-1 iZcnfH lbhoSA sc-3ef21923-0 itLWIo\" data-testid=\"link\" href=\"/film/vice_versa_2/51167787\">Vice-versa 2</a></div></div></div></div><div class=\"sc-328d61f-6 broUYZ\" data-testid=\"arrow-wrapper\"><span class=\"sc-66b0902d-0 dXbNDQ\"><svg class=\"\" fill=\"none\" height=\"34\" viewbox=\"0 0 34 34\" width=\"34\" xmlns=\"http://www.w3.org/2000/svg\"><path clip-rule=\"evenodd\" d=\"M18.8889 1L34 17L18.8889 33L17 30.9683L29.9861 17L17 3.03175\" fill=\"#1A1A1A\" fill-rule=\"evenodd\"></path></svg></span></div></div>]"
      ]
     },
     "execution_count": 92,
     "metadata": {},
     "output_type": "execute_result"
    }
   ],
   "source": [
    "critic = soup.find_all(\"div\", {\"class\": \"sc-328d61f-2 dLhSYv\"})\n",
    "critic"
   ]
  },
  {
   "cell_type": "code",
   "execution_count": 93,
   "metadata": {},
   "outputs": [
    {
     "data": {
      "text/plain": [
       "7"
      ]
     },
     "execution_count": 93,
     "metadata": {},
     "output_type": "execute_result"
    }
   ],
   "source": [
    "len(critic)"
   ]
  },
  {
   "cell_type": "code",
   "execution_count": 96,
   "metadata": {},
   "outputs": [
    {
     "name": "stdout",
     "output_type": "stream",
     "text": [
      "Collecting webdriver_manager\n",
      "  Downloading webdriver_manager-4.0.1-py2.py3-none-any.whl.metadata (12 kB)\n",
      "Requirement already satisfied: requests in ./venv/lib/python3.11/site-packages (from webdriver_manager) (2.31.0)\n",
      "Collecting python-dotenv (from webdriver_manager)\n",
      "  Using cached python_dotenv-1.0.1-py3-none-any.whl.metadata (23 kB)\n",
      "Requirement already satisfied: packaging in ./venv/lib/python3.11/site-packages (from webdriver_manager) (24.0)\n",
      "Requirement already satisfied: charset-normalizer<4,>=2 in ./venv/lib/python3.11/site-packages (from requests->webdriver_manager) (3.3.2)\n",
      "Requirement already satisfied: idna<4,>=2.5 in ./venv/lib/python3.11/site-packages (from requests->webdriver_manager) (3.7)\n",
      "Requirement already satisfied: urllib3<3,>=1.21.1 in ./venv/lib/python3.11/site-packages (from requests->webdriver_manager) (2.2.1)\n",
      "Requirement already satisfied: certifi>=2017.4.17 in ./venv/lib/python3.11/site-packages (from requests->webdriver_manager) (2024.2.2)\n",
      "Downloading webdriver_manager-4.0.1-py2.py3-none-any.whl (27 kB)\n",
      "Using cached python_dotenv-1.0.1-py3-none-any.whl (19 kB)\n",
      "Installing collected packages: python-dotenv, webdriver_manager\n",
      "Successfully installed python-dotenv-1.0.1 webdriver_manager-4.0.1\n",
      "Note: you may need to restart the kernel to use updated packages.\n"
     ]
    }
   ],
   "source": [
    " pip install webdriver_manager"
   ]
  },
  {
   "cell_type": "code",
   "execution_count": 97,
   "metadata": {},
   "outputs": [
    {
     "name": "stdout",
     "output_type": "stream",
     "text": [
      "Requirement already satisfied: webdriver_manager in ./venv/lib/python3.11/site-packages (4.0.1)\n",
      "Requirement already satisfied: requests in ./venv/lib/python3.11/site-packages (from webdriver_manager) (2.31.0)\n",
      "Requirement already satisfied: python-dotenv in ./venv/lib/python3.11/site-packages (from webdriver_manager) (1.0.1)\n",
      "Requirement already satisfied: packaging in ./venv/lib/python3.11/site-packages (from webdriver_manager) (24.0)\n",
      "Requirement already satisfied: charset-normalizer<4,>=2 in ./venv/lib/python3.11/site-packages (from requests->webdriver_manager) (3.3.2)\n",
      "Requirement already satisfied: idna<4,>=2.5 in ./venv/lib/python3.11/site-packages (from requests->webdriver_manager) (3.7)\n",
      "Requirement already satisfied: urllib3<3,>=1.21.1 in ./venv/lib/python3.11/site-packages (from requests->webdriver_manager) (2.2.1)\n",
      "Requirement already satisfied: certifi>=2017.4.17 in ./venv/lib/python3.11/site-packages (from requests->webdriver_manager) (2024.2.2)\n",
      "Note: you may need to restart the kernel to use updated packages.\n",
      "6.7\n",
      "Challengers\n",
      "6.4\n",
      "The Fall Guy\n",
      "7.1\n",
      "Civil War\n",
      "6.8\n",
      "Un p'tit truc en plus\n",
      "7\n",
      "Comme un lundi\n",
      "6.4\n",
      "Jusqu’au bout du monde\n",
      "5.4\n",
      "L'Idée d'être avec toi\n",
      "6.8\n",
      "La Planète des singes - Le Nouveau Royaume\n",
      "4.4\n",
      "Unfrosted - L'épopée de la Pop-Tart\n",
      "6.1\n",
      "Nicky Larson\n",
      "6.7\n",
      "Blue & Compagnie\n",
      "4\n",
      "Rebel Moon : Partie 2 - L'Entailleuse\n",
      "8\n",
      "L'Aventure intérieure\n",
      "\"Fut un temps où j'avais les fesses et ligne de Dennis Quaid...\"(Pierreamo). Texte d'Anne Dessuant:\n",
      "Quand j'ai découvert ce film enfant sans rien en savoir, il a été un beau choc et fascinant.Mes yeux d'ado puis adulte, ne l'ont jamais revu pareil: surtout la scène plus du tout aussi démente où les...\n",
      "Lire la critique\n",
      "Par\n",
      "PierreAmo\n",
      "il y a 2 jours\n",
      "19 j'aime\n",
      "6\n",
      "8\n",
      "Nous, les Leroy\n",
      "Je n’écrirai pas sur ce film\n",
      "J’avais toutes les raisons de ne pas écrire une critique sur le premier film de Florent Bernard. La première, c’est que je savais que j’allais probablement manquer d’objectivité lorsqu’il s’agirait...\n",
      "Lire la critique\n",
      "Par\n",
      "Sergent_Pepper\n",
      "le 18 avr. 2024\n",
      "107 j'aime\n",
      "13\n",
      "7\n",
      "Civil War\n",
      "None Nation under God\n",
      "Alors que la carrière de réalisateur d’Alex Garland déclinait irrémédiablement, de l’assez fascinant Ex Machina aux démonstrations poussives de Men, le nouveau virage opéré par Civil War a tout d’une...\n",
      "Lire la critique\n",
      "Par\n",
      "Sergent_Pepper\n",
      "le 17 avr. 2024\n",
      "100 j'aime\n",
      "8\n",
      "Le Gouffre aux chimères\n",
      "Jamais édité chez nous ni en VHS, ni en DVD, ni en blu-ray. Rimini vient juste de signer et annonce une sortie courant 2025. J'dis ça, j'dis quelque chose.\n",
      "il y a 6 jours\n",
      "10 j'aime\n",
      "4\n",
      "Megalopolis\n",
      "Les premières images sont enfin là !\n",
      "https://www.youtube.com/watch?v=8BP2y0wz49U\n",
      "il y a 5 jours\n",
      "6 j'aime\n",
      "1\n",
      "WWE : Backlash France (2024)\n",
      "C'était vraiment phénoménal.\n",
      "il y a 4 jours\n",
      "5 j'aime\n",
      "Mes 30 réalisateurs favoris\n",
      "Liste de 30 films avec Josey Wales hors-la-loi, La Mort aux trousses, Django Unchained, Les Affranchis, Abyss...\n",
      "9 j'aime\n",
      "5\n",
      "Vidéo Club : Viggo Mortensen\n",
      "Liste de 47 films avec La Passion de Jeanne d'Arc, La Route, Green Book - Sur les routes du Sud, Captain Fantastic, Le Choix de Sophie...\n",
      "21 j'aime\n",
      "Les meilleurs acteurs américains\n",
      "Liste de 60 films avec Les Lumières de la ville, Douze Hommes en colère, Sueurs froides, Ben-Hur, Le Procès...\n",
      "12 j'aime\n",
      "9\n",
      "Les meilleurs films sur Robin des Bois\n",
      "Les meilleurs films de Stanley Donen\n",
      "Les meilleurs films de Ken Russell\n",
      "13518 envies\n",
      "Furiosa - Une Saga Mad Max\n",
      "6152 envies\n",
      "Mickey 17\n",
      "4715 envies\n",
      "Joker - Folie à deux\n",
      "4341 envies\n",
      "Megalopolis\n",
      "3167 envies\n",
      "Beetlejuice Beetlejuice\n",
      "3171 envies\n",
      "Vice-versa 2\n"
     ]
    }
   ],
   "source": [
    "from selenium import webdriver\n",
    "from selenium.webdriver.firefox.service import Service\n",
    "from webdriver_manager.firefox import GeckoDriverManager\n",
    "from selenium.webdriver.common.by import By\n",
    "\n",
    "# Setup webdriver\n",
    "driver = webdriver.Firefox(service=Service(GeckoDriverManager().install()))\n",
    "\n",
    "# Navigate to the page\n",
    "driver.get(\"https://www.senscritique.com/films/\")\n",
    "\n",
    "# Find elements\n",
    "critics = driver.find_elements(By.CSS_SELECTOR, \"div.sc-328d61f-2.dLhSYv\")\n",
    "\n",
    "critic_info = []\n",
    "\n",
    "# Close the driver\n",
    "driver.quit()"
   ]
  },
  {
   "cell_type": "code",
   "execution_count": null,
   "metadata": {},
   "outputs": [],
   "source": []
  }
 ],
 "metadata": {
  "kernelspec": {
   "display_name": "venv",
   "language": "python",
   "name": "python3"
  },
  "language_info": {
   "codemirror_mode": {
    "name": "ipython",
    "version": 3
   },
   "file_extension": ".py",
   "mimetype": "text/x-python",
   "name": "python",
   "nbconvert_exporter": "python",
   "pygments_lexer": "ipython3",
   "version": "3.11.4"
  }
 },
 "nbformat": 4,
 "nbformat_minor": 2
}
