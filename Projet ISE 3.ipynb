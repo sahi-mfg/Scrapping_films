{
 "cells": [
  {
   "cell_type": "markdown",
   "id": "3b2139ff",
   "metadata": {},
   "source": [
    "# PROJET WEB SCRAPING ISE 3"
   ]
  },
  {
   "cell_type": "markdown",
   "id": "71d36296",
   "metadata": {},
   "source": [
    "#### Ce projet a pour but d'évaluer vos acquis lors du cours et de mettre en valeur les compétences acquises."
   ]
  },
  {
   "cell_type": "markdown",
   "id": "39ba623c",
   "metadata": {},
   "source": [
    "Vous êtes un Data Scientist embauché dans une grande entreprise de la place qui oeuvre dans le domaine de la publication des films. Vous avez besoin de certaines données sur les critiques des films du site **senscritique** afin de vérifier à une fréquence journalière, les données mises sur ce site.\n",
    "\n",
    "I - Votre première mission est d'accéder aux films https://www.senscritique.com/films et d'extraire :\n",
    "\n",
    "    1- Les films du moment ainsi que leurs notes\n",
    "    2- Les sortis de la semaine ainsi que leurs notes\n",
    "    3- A voir en streaming ainsi que leurs notes\n",
    "    \n",
    "    Mettre toutes ces données dans un dataframe et exporter le en xlsx.\n",
    "\n",
    "II - Ensuite, votre seconde mission est d'accéder aux critiques populaires et aux réactions populaires. Pour ceux-ci, vous devez extraire pour chaque film critiqué :\n",
    "\n",
    "    1 - Le nom de celui qui a fait la critique ;\n",
    "    2 - Le titre de la critique ;\n",
    "    3 - La note attribuée par ce dernier ;\n",
    "    4 - La date de la critique ;\n",
    "    5 - Le nombre de \"j'aime\" ;\n",
    "    6 - Le nombre de commentaires\n",
    "    7 - La photo de profil de l'auteur de la critique\n",
    "    8 - Le contenu de la critique\n",
    "        \n",
    "     Mettre toutes ces données dans un dataframe et exporter le en xlsx.\n",
    "        \n",
    "**III - Enfin, à l'aide des cours vus dans d'autres modules, faites une analyse de sentiments sur les critiques faites et les réactions.**\n",
    "\n",
    "<p style='color:darkred'><strong><i>NB : Faites une capture d'écran des Conditions Générales d'Utilisation (CGU) permettant de valider ou pas le fait de scrapper des données sur ce site.</strong></i></p>\n"
   ]
  },
  {
   "cell_type": "markdown",
   "id": "81fa7589",
   "metadata": {},
   "source": [
    "<p style='color:darkorange'><strong>INSTRUCTIONS</strong></p>\n",
    "\n",
    "Votre script doit s'exécuter chaque jour à une heure aléatoire entre **08h et 10H.**\n",
    "\n",
    "Ce travail est à faire individuellement.\n",
    "\n",
    "Vous devez répondre à toutes les questions dans un seul notebook et vous assurez que vous avez pris en compte toutes les bonnes pratiques vues au cours. Le code doit être enregistré sous le format Code_Nom_Prenoms_ISE3_options.py\n",
    "\n",
    "Les bases de données extraites doivent être sous format Excel Base_Nom_Prenoms_ISE3_mission1.xlsx & Base_Nom_Prenoms_ISE3_mission2.xlsx.\n",
    "\n",
    "La capture des Conditions Générales d'Utilisation CGU_Nom_Prenoms_ISE3_options.png et doit pouvoir être affichée dans le notebook.\n",
    "\n",
    "Le tout zippé sous un dossier nommé Nom_Prenoms.\n",
    "\n",
    "Le dossier doit être envoyé à l'adresse email : **dackounelie@gmail.com** au plus tard **Vendredi 10 Mai 2024 à 22H.**"
   ]
  },
  {
   "cell_type": "markdown",
   "id": "07bbc3ff",
   "metadata": {},
   "source": [
    "#### Bon projet à Tous !!!!"
   ]
  }
 ],
 "metadata": {
  "kernelspec": {
   "display_name": "Python 3 (ipykernel)",
   "language": "python",
   "name": "python3"
  },
  "language_info": {
   "codemirror_mode": {
    "name": "ipython",
    "version": 3
   },
   "file_extension": ".py",
   "mimetype": "text/x-python",
   "name": "python",
   "nbconvert_exporter": "python",
   "pygments_lexer": "ipython3",
   "version": "3.11.5"
  }
 },
 "nbformat": 4,
 "nbformat_minor": 5
}
